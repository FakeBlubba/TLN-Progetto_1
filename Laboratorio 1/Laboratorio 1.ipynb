{
 "cells": [
  {
   "cell_type": "markdown",
   "metadata": {
    "collapsed": false
   },
   "source": [
    "# Laboratorio 1.1\n",
    "## Calcolare la similarità nelle definizioni dei 4 concetti del dataset\n",
    "\n"
   ]
  },
  {
   "cell_type": "code",
   "execution_count": 692,
   "id": "69d051cc",
   "metadata": {},
   "outputs": [],
   "source": [
    "# python -m IPython notebook\n",
    "from nltk import word_tokenize, SnowballStemmer\n",
    "from nltk.corpus import stopwords, words\n",
    "import string\n",
    "import pandas as pd\n",
    "import random\n",
    "import matplotlib.pylab as plt\n",
    "from operator import itemgetter\n",
    "\n",
    "snow_stemmer = SnowballStemmer(language='english')\n",
    "\n",
    "# Crea la variabile stop_words con le stop word e con la punteggiatura\n",
    "stop_words = set(stopwords.words('english'))\n",
    "stop_words.update(set(stopwords.words('italian')))\n",
    "stop_words.update(set(string.punctuation))\n",
    "\n",
    "def output_message(o=None):\n",
    "    if o:\n",
    "        print('\\n ------------------------------------------------------------------------------------------------------------------\\n Output - ' + str(o) + ' ------------------------------------------------------------------------------------------------------------------ ') \n",
    "        print(\"Tempo di esecuzione: %s secondi. \" % round((time.time() - start_time),3))\n",
    "    else:\n",
    "        print('\\n ------------------------------------------------------------------------------------------------------------------\\n Tempo di esecuzione: %s secondi. ---------------------------------------------------------------------------------------------------------------- ' % round((time.time() - start_time),2))"
   ]
  },
  {
   "cell_type": "markdown",
   "id": "0098597a",
   "metadata": {},
   "source": [
    "# Pre-Processing\n",
    "## 1. Definizione della funzione per l'estrazione delle informazioni dalla base di dati"
   ]
  },
  {
   "cell_type": "code",
   "execution_count": 693,
   "id": "d6390192",
   "metadata": {},
   "outputs": [],
   "source": [
    "media = {}           # Dictionary che conterrà la media aritmetica della lunghezza di ogni definizione per ogni concetto\n",
    "\n",
    "def extract_data(path='dataset/defs.csv'):\n",
    "    if path == 'dataset/defs.csv':\n",
    "        df = pd.read_csv(path, header=0)\n",
    "        df = df.dropna()\n",
    "        df.drop(['Partecipante'],axis=1,inplace=True)\n",
    "        data = df.to_dict()\n",
    "\n",
    "    elif 'dataset/db.csv':\n",
    "        df = pd.read_csv(path, header=0, sep=',')\n",
    "        data = df.values.tolist()\n",
    "\n",
    "    return data"
   ]
  },
  {
   "cell_type": "markdown",
   "metadata": {
    "collapsed": false,
    "pycharm": {
     "name": "#%% md\n"
    }
   },
   "source": [
    "## 2. Definizione della funzione per la pulitura dell'input\n",
    "La funzione restituirà un dictionary innestato di questo tipo `{Concetto: {utente 0: [definizione tokenizzata e stemmatizzata]}}`"
   ]
  },
  {
   "cell_type": "code",
   "execution_count": 694,
   "metadata": {
    "collapsed": false,
    "pycharm": {
     "name": "#%%\n"
    }
   },
   "outputs": [],
   "source": [
    "def sort_indexes(data):\n",
    "    defs = {}\n",
    "\n",
    "    for concept in data.keys():\n",
    "        i = 0\n",
    "        defs.setdefault(concept,{})\n",
    "        for index in data[concept]:\n",
    "            defs[concept].setdefault(i, data[concept][index])\n",
    "            i += 1\n",
    "    return defs"
   ]
  },
  {
   "cell_type": "code",
   "execution_count": 695,
   "metadata": {
    "collapsed": false,
    "pycharm": {
     "name": "#%%\n"
    }
   },
   "outputs": [],
   "source": [
    "def pre_processing(data):\n",
    "    \n",
    "    if type(data) == list:\n",
    "        for element in range(len(data)):\n",
    "            token = word_tokenize(data[element][0].lower())\n",
    "            token = snow_stemmer.stem(token[0])\n",
    "            del data[element]\n",
    "            data.append(token)\n",
    "\n",
    "    elif type(data) == dict:\n",
    "\n",
    "        for names in data.keys():\n",
    "            for index in data[names]:\n",
    "                data[names][index] = word_tokenize(data[names][index].lower())\n",
    "                data[names][index] = list(set([snow_stemmer.stem(word) for word in data[names][index] if word not in stop_words or word != \"'s\"]) - stop_words)\n",
    "\n",
    "    return data"
   ]
  },
  {
   "cell_type": "markdown",
   "metadata": {
    "collapsed": false,
    "pycharm": {
     "name": "#%% md\n"
    }
   },
   "source": [
    "## Esecuzione delle funzioni dichiarate"
   ]
  },
  {
   "cell_type": "code",
   "execution_count": 696,
   "metadata": {
    "collapsed": false,
    "pycharm": {
     "name": "#%%\n"
    }
   },
   "outputs": [],
   "source": [
    "data = extract_data()\n",
    "\n",
    "# Estrazione dei dati dei concetti in un dictionary\n",
    "data = sort_indexes(data)\n",
    "\n",
    "# Pre-processing dell'input\n",
    "data = pre_processing(data)"
   ]
  },
  {
   "cell_type": "code",
   "execution_count": 697,
   "metadata": {
    "collapsed": false,
    "pycharm": {
     "name": "#%%\n"
    }
   },
   "outputs": [
    {
     "name": "stdout",
     "output_type": "stream",
     "text": [
      "{'Courage': {0: ['ani', 'properti', 'situat', 'allow', 'despit', 'fear', 'feel', 'face'], 1: ['abil', 'make', 'someth', 'scar', 'us', 'unpleas', 'fear', 'face'], 2: ['abil', 'thing', 'without', 'fear', 'face'], 3: ['inner', 'thaht', 'situat', 'strength', 'allow', 'particular', 'face'], 4: ['abil', 'fear', 'control'], 5: ['abil', 'someth', 'control', 'unpleas', 'deal', 'fear'], 6: ['abil', 'take', 'action', 'avoid', 'riski', 'fear'], 7: ['make', 'abili', 'take', 'choic', 'action', 'without', 'fear'], 8: ['abl', 'someth', 'fear'], 9: ['abil', 'someth', 'frighten', 'despit'], 10: ['abil', 'peopl', 'someth', 'scare'], 11: ['situat', 'danger', 'consid', 'allow', 'us', 'feel', 'face'], 12: ['abil', 'scari', 'someth', 'may'], 13: ['abil', 'choic', 'drastic', 'make'], 14: ['abil', 'overcom', 'fear'], 15: ['take', 'person', 'risk', 'characterist'], 16: ['general', 'qualiti', 'abl', 'danger', 'scare', 'thing'], 17: ['behavior', 'typic', 'hero'], 18: ['difficult', 'abil', 'situat', 'face'], 19: ['abil', 'peopl', 'someth', 'fear'], 20: ['situat', 'mind', 'difficult', 'strength', 'allow', 'face'], 21: ['abil', \"'s\", 'one', 'fear', 'face'], 22: ['abil', 'fear', 'block'], 23: ['expect', 'go', 'someon', 'beyond', 'allow', 'emot'], 24: ['abil', 'perform', 'danger', 'act', 'despit', 'fear'], 25: ['moral', 'ventur', 'persever', 'danger', 'strength', 'mental', 'fear', 'withstand', 'difficulti'], 26: ['abil', 'situat', 'provok', 'scare', 'resist', 'fear'], 27: ['abil', 'overcom', 'fear'], 28: ['abil', 'overcom', 'situat', 'difficult', 'fear', 'face'], 29: ['make', 'abl', 'aptitud', 'scare', 'human']}, 'Paper': {0: ['cellulos', 'materi', 'cut', 'written', 'fold'], 1: ['context', 'materi', 'sever', 'use', 'tree', 'deriv'], 2: ['cellulos', 'materi', 'made', 'type'], 3: ['wood', 'cellulos', 'product', 'use', 'obtain', 'write'], 4: ['wood', 'materi', 'made', 'use', 'write', 'flat'], 5: ['piec', 'univers', 'student', 'done', 'subject', 'write', 'one', 'especi', 'short', 'particular'], 6: ['materi', 'use', 'tree', 'write', 'deriv'], 7: ['materi', 'cortex', 'tree', 'obtain', \"'s\"], 8: ['wood', 'materi', 'take', 'use', 'note', 'craft'], 9: ['object', 'thin', 'easili', 'write'], 10: ['wood', 'materi', 'made', 'packag', 'use', 'write', 'draw', 'print'], 11: ['cellulos', 'general', 'product', 'compos', 'use', 'write'], 12: ['surfac', 'write'], 13: ['draw', 'materi', 'possibl', 'write'], 14: ['materi', 'write'], 15: ['materi', 'tree', 'obtain'], 16: ['wood', 'materi', 'general', 'use', 'obtain', 'write'], 17: ['medium', 'written', 'communic'], 18: ['someth', 'write'], 19: ['cellulos', 'materi', 'made', 'thin'], 20: ['cellulos', 'materi', 'compos'], 21: ['wood', 'materi', 'multipl', 'purpos', 'use', 'obtain'], 22: ['materi', 'use', 'write'], 23: ['materi', 'avail', 'write'], 24: ['cellulos', 'product', 'tree', \"'s\"], 25: ['laid', 'usual', 'screen', 'felt', 'fiber', 'sheet', 'veget', 'water', 'fine', 'suspens'], 26: ['materi', 'use', 'print', 'handwrit'], 27: ['materi', 'use', 'write'], 28: ['materi', 'easi', 'use', 'rip', 'write', 'lightweight'], 29: ['materi', 'kind', 'retriev', 'one', 'inform', 'store']}, 'Apprehension': {0: ['someth', 'differ', 'veri', 'normal', 'abnorm', 'caus', 'strang', 'feel'], 1: ['anticip', 'fear', 'expect'], 2: ['mood', 'feel', 'agit', 'one'], 3: ['state', 'disturb'], 4: ['futur', 'worri'], 5: ['someth', 'way', 'act', 'understood', 'understand'], 6: ['state', 'non-relax', 'event', 'mind', 'unaccommod', 'deriv'], 7: ['awe', 'loss', 'sens', 'sad', 'fear'], 8: ['make', 'someth', 'status', 'situat', 'mental', 'person', 'uncofort', 'feel'], 9: ['state', 'one', 'frighten', 'mind'], 10: ['someth', 'bad', 'unexpect', 'happen', 'anxieti', 'fear'], 11: ['high', 'anxieti', 'state', 'mental'], 12: ['someon', 'someth', 'feel', 'preoccup'], 13: ['state', 'person', 'fear', 'emot', 'feel'], 14: ['happen', 'someth', 'feel', 'bad'], 15: ['negat', 'person', 'emot'], 16: ['status', 'character', 'mental', 'anxieti', 'fear'], 17: ['ansia', 'brutto', 'paura', 'spiacevol', 'accada', 'qualcosa'], 18: ['anxieti', 'fear', 'constant'], 19: ['anxieti', 'fear', 'feel'], 20: ['anxieti', 'state', 'upset', 'mind'], 21: ['mood', 'agit', 'nervous'], 22: ['pathway', 'learn'], 23: ['uneas', 'feel'], 24: ['someth', 'bad', 'happen', 'unpleas', 'anxieti', 'fear'], 25: ['someth', 'bad', 'happen', 'unpleas', 'anxieti', 'fear'], 26: ['discomfort', 'feel', 'fear'], 27: ['anxieti', 'happen', 'someth', 'unpleas'], 28: ['state', 'situat', 'anxieti', 'particular', 'fear'], 29: ['restless', 'make', 'experi', 'emot', 'agit']}, 'Sharpener': {0: ['sharpen', 'pencil', 'blade', 'equip', 'tip', 'allow', 'tool'], 1: ['object', 'use', 'pencil', 'shapen'], 2: ['object', 'sharpen', 'pencil'], 3: ['use', 'tool', 'sharpen', 'pencil'], 4: ['sharpen', 'pencil', 'object', 'allow', 'littl'], 5: ['make', 'someth', 'tool', 'sharper'], 6: ['cut', 'pencil', 'use', 'tip', 'tool'], 7: ['mine', 'make', 'sharpner', 'tool'], 8: ['use', 'tool', 'sharpen', 'pencil'], 9: ['object', 'sharpen', 'pencil', 'allow'], 10: ['sharpen', 'pencil', 'object', 'use', 'write'], 11: ['sharpen', 'pencil', 'use', 'blade', 'tool'], 12: ['tool', 'sharpen', 'pencil'], 13: ['tool', 'sharpen', 'pencil'], 14: ['tool', 'sharpen', 'pencil'], 15: ['object', 'sharpen', 'pencil', 'allow'], 16: ['use', 'tool', 'sharpen', 'pencil'], 17: ['make', 'someth', 'devic', 'person', 'sharp'], 18: ['use', 'object', 'sharpen', 'pencil'], 19: ['use', 'object', 'sharpen', 'pencil'], 20: ['graphit', 'object', 'use', 'stationeri', 'smooth'], 21: ['use', 'tool', 'sharpen', 'pencil'], 22: ['sharpen', 'pencil', 'object', 'use', 'lead'], 23: ['pencil', 'object', 'work', 'return', 'order'], 24: ['make', 'sharp', 'pencil', 'tool'], 25: ['make', 'someth', 'devic', 'person', 'sharp'], 26: ['creat', 'end', 'refin', 'pencil', 'edg', 'use', 'tool'], 27: ['use', 'tool', 'sharpen', 'pencil'], 28: ['pencil', 'object', 'use', 'write', 'mine'], 29: ['make', 'clearer', 'pencil', 'use', 'mark', 'tool']}}\n"
     ]
    }
   ],
   "source": [
    "print(data)"
   ]
  },
  {
   "cell_type": "markdown",
   "id": "66c276a4",
   "metadata": {},
   "source": [
    "# Calcolo della similarità\n",
    "## 1. Definizione della funzione per il calcolo della lunghezza media delle definizioni di un concetto.\n",
    "La lunghezza media delle definizioni è il rapporto tra la somma della lunghezza di tutte le definizioni e il numero delle definizioni\n",
    "Output atteso: `{concetto0: 0.58, concetto1: 0.22}`\n"
   ]
  },
  {
   "cell_type": "code",
   "execution_count": 698,
   "metadata": {
    "collapsed": false,
    "pycharm": {
     "name": "#%%\n"
    }
   },
   "outputs": [],
   "source": [
    "def average_length_computation(data_dictionary):\n",
    "    average_length = {}\n",
    "\n",
    "    for concept in data_dictionary.keys():\n",
    "\n",
    "        average_words = []\n",
    "        sentences = []\n",
    "\n",
    "        for sentence in data_dictionary[concept]:\n",
    "            new_sentence = word_tokenize(data_dictionary[concept][sentence])\n",
    "\n",
    "\n",
    "            for token in new_sentence:\n",
    "                average_words.append(1)\n",
    "            \n",
    "            sentences.append(1)\n",
    "        \n",
    "        average_length.setdefault(concept, sum(average_words) / len(sentences))\n",
    "\n",
    "    return average_length      "
   ]
  },
  {
   "cell_type": "code",
   "execution_count": 699,
   "metadata": {},
   "outputs": [
    {
     "name": "stdout",
     "output_type": "stream",
     "text": [
      "{'Courage': 9.333333333333334, 'Paper': 8.566666666666666, 'Apprehension': 7.533333333333333, 'Sharpener': 7.866666666666666}\n"
     ]
    }
   ],
   "source": [
    "print(average_length_computation(extract_data()))"
   ]
  },
  {
   "cell_type": "markdown",
   "metadata": {
    "collapsed": false,
    "pycharm": {
     "name": "#%% md\n"
    }
   },
   "source": [
    "## 2. Definizione della funzione per la sovrapposizione lessicale\n",
    "Si intende definire la sovrapposizione lessicale tramite l'utilizzo della seguente struttura dati:\n",
    "- `shared_words` sarà un dictionary annidato dove si terrà conto delle volte che una parola è stata utilizzata per ogni definizione di un concetto ecco un esempio del contenuto di questo array associativo: `{'Courage': { 'gatto': [0, 2, 0, 0, 0,..,0]}}` => Questo vuol dire che la parola gatto è stata usata due volte dall'utente in posizione 1.\n",
    "- Utilizzando `shared_words` verrà calcolato il rapporto (`shared_words_rateo`) tra la frequenza delle parole utilizzate nelle varie definizioni e la quantità di definizioni per il concetto sul quale si sta iterando.\n",
    "\n",
    "**Sovrapposizione lessicale** (`lexical_overlay`): Verrà restituito il numero delle \"parole più utilizzate\" nelle definizioni. Con \"*parole più utilizzate*\" si intendono le parole che sono comparse per almeno il 30% delle volte nelle definizioni del proprio concetto.\n"
   ]
  },
  {
   "cell_type": "code",
   "execution_count": 700,
   "metadata": {
    "collapsed": false,
    "pycharm": {
     "name": "#%%\n"
    }
   },
   "outputs": [],
   "source": [
    "def lexical_overlay_computation(data_dictionary):\n",
    "    defs = {}\n",
    "    shared_words = {}\n",
    "    lexical_overlay = {}\n",
    "    relevant_words = {}\n",
    "\n",
    "    # Creazione di un nuovo dictionary con gli indici ordinati (quello nella variabile \"data\" aveva alcuni indici senza definizione)\n",
    "    for concept in data_dictionary.keys():\n",
    "        i = 0\n",
    "        defs.setdefault(concept,{})\n",
    "        shared_words.setdefault(concept,{})\n",
    "        for index in data_dictionary[concept]:\n",
    "            defs[concept].setdefault(i, data_dictionary[concept][index])\n",
    "            i += 1\n",
    "\n",
    "    for concept in defs.keys():\n",
    "        for index in defs[concept]:\n",
    "            for word in defs[concept][index]:\n",
    "\n",
    "                # Si avrà, per ogni parola, una lista di zeri composta da tanti elementi quante sono le definizioni\n",
    "                # Si segna quante volte un utente utilizza una certa parola nella sua definizione\n",
    "                if word not in shared_words[concept].keys():\n",
    "                    shared_words[concept][word] = [0] * len(defs[concept].keys())\n",
    "\n",
    "                shared_words[concept][word][index] += 1\n",
    "\n",
    "    shared_words_rateo = {}\n",
    "    # Si contano quanti utenti distinti hanno utilizzato una certa parola in una definizione / il totale delle definizioni\n",
    "    for concept in shared_words.keys():\n",
    "        if concept not in shared_words_rateo.keys():\n",
    "            shared_words_rateo.setdefault(concept, {})\n",
    "\n",
    "        for word in shared_words[concept]:\n",
    "            if word not in shared_words_rateo[concept].keys():\n",
    "\n",
    "                # Per ogni parola si fa il rapporto tra il numero di volte che quella parola è stata utilizzata in tutte le definizioni diviso il numero delle definizioni\n",
    "                shared_words_rateo[concept].setdefault(word, sum(shared_words[concept][word]) / len(shared_words[concept][word]))\n",
    "                if word not in relevant_words.keys():\n",
    "                    relevant_words.setdefault(concept, [])\n",
    "                \n",
    "                relevant_words[concept].append([word, sum(shared_words[concept][word])])\n",
    "\n",
    "            # Le parole più utilizzate vengono inserite nel dictionary di output\n",
    "            if shared_words_rateo[concept][word] > 0.33:\n",
    "\n",
    "                if word not in lexical_overlay.keys():\n",
    "                    lexical_overlay.setdefault(concept, 0)\n",
    "                lexical_overlay[concept] += 1\n",
    "\n",
    "        lexical_overlay[concept] = lexical_overlay[concept]\n",
    "    return [lexical_overlay, relevant_words, shared_words_rateo]"
   ]
  },
  {
   "cell_type": "code",
   "execution_count": 701,
   "metadata": {},
   "outputs": [
    {
     "name": "stdout",
     "output_type": "stream",
     "text": [
      "{'Courage': 2, 'Paper': 3, 'Apprehension': 2, 'Sharpener': 5}\n"
     ]
    }
   ],
   "source": [
    "print(lexical_overlay_computation(data)[0])"
   ]
  },
  {
   "cell_type": "markdown",
   "metadata": {},
   "source": [
    "## 2b. Definizione sovrapposizione lessicale\n",
    "In questa seconda rivisitazione dell'algoritmo si considera la sovrapposizione lessicale come le $n$ parole più usate nelle definizioni di ciascun concetto"
   ]
  },
  {
   "cell_type": "code",
   "execution_count": 702,
   "metadata": {},
   "outputs": [],
   "source": [
    "def generate_most_frequent_words(definitions, keep):\n",
    "    \n",
    "    frequent_words = {}\n",
    "    temp = []\n",
    "\n",
    "    for definition_index in definitions.keys():\n",
    "\n",
    "        for word in definitions[definition_index]:\n",
    "\n",
    "            if word not in frequent_words.keys():\n",
    "                frequent_words.setdefault(word, [0] * len(definitions.values()))\n",
    "                frequent_words[word][definition_index] += 1\n",
    "            \n",
    "            else: \n",
    "                frequent_words[word][definition_index] += 1\n",
    "\n",
    "\n",
    "    for word in frequent_words.keys():\n",
    "        temp.append([word, sum(frequent_words[word])])\n",
    "\n",
    "\n",
    "    # Le parole vengono aggiunte all'interno del dictionary e vengono riordinate\n",
    "    temp = sorted(temp, key=itemgetter(1), reverse=True)\n",
    "\n",
    "    del frequent_words\n",
    "    frequent_words = {}\n",
    "\n",
    "    i = 0\n",
    "    for tpl in temp: \n",
    "        if i < keep:\n",
    "            frequent_words.setdefault(tpl[0], tpl[1])\n",
    "            i += 1\n",
    "    \n",
    "    return frequent_words"
   ]
  },
  {
   "cell_type": "code",
   "execution_count": 703,
   "metadata": {},
   "outputs": [
    {
     "name": "stdout",
     "output_type": "stream",
     "text": [
      "{'Courage': {'abil': 18, 'fear': 17, 'face': 9, 'situat': 7, 'someth': 7, 'allow': 5, 'make': 4, 'scare': 4, 'danger': 4, 'despit': 3, 'strength': 3, 'take': 3, 'abl': 3, 'overcom': 3, 'difficult': 3, 'feel': 2, 'us': 2, 'unpleas': 2, 'thing': 2, 'without': 2}, 'Paper': {'materi': 21, 'write': 16, 'use': 13, 'cellulos': 7, 'wood': 6, 'tree': 5, 'obtain': 5, 'made': 4, 'product': 3, 'written': 2, 'deriv': 2, 'one': 2, \"'s\": 2, 'thin': 2, 'draw': 2, 'print': 2, 'general': 2, 'compos': 2, 'cut': 1, 'fold': 1}, 'Apprehension': {'fear': 11, 'anxieti': 10, 'someth': 9, 'feel': 9, 'state': 7, 'happen': 5, 'bad': 4, 'agit': 3, 'mind': 3, 'mental': 3, 'person': 3, 'emot': 3, 'unpleas': 3, 'mood': 2, 'one': 2, 'make': 2, 'status': 2, 'situat': 2, 'differ': 1, 'veri': 1}, 'Sharpener': {'pencil': 25, 'sharpen': 18, 'tool': 16, 'use': 16, 'object': 12, 'make': 6, 'allow': 4, 'someth': 3, 'sharp': 3, 'blade': 2, 'tip': 2, 'mine': 2, 'write': 2, 'devic': 2, 'person': 2, 'equip': 1, 'shapen': 1, 'littl': 1, 'sharper': 1, 'cut': 1}}\n"
     ]
    }
   ],
   "source": [
    "frequ = {}\n",
    "for concept in data.keys():\n",
    "    frequ.setdefault(concept, {})\n",
    "    x = generate_most_frequent_words(data[concept], 20)\n",
    "    frequ[concept] = x\n",
    "\n",
    "print(frequ)\n",
    "    "
   ]
  },
  {
   "cell_type": "code",
   "execution_count": 704,
   "metadata": {},
   "outputs": [],
   "source": [
    "def generate_lexical_overlay2(corpus, keep=20):\n",
    "    frequencies = {}\n",
    "\n",
    "    for concept in corpus.keys():\n",
    "        frequencies.setdefault(concept, {})\n",
    "        frequencies[concept] = generate_most_frequent_words(corpus[concept], keep=keep)\n",
    "\n",
    "        best_words_count = sum(frequencies[concept].values()) # Conteggio delle parole più utilizzate\n",
    "        words_count = sum([1 for definition in corpus[concept] for element in corpus[concept][definition]]) # Conteggio di tutte le parole per ogni concetto\n",
    "        frequencies[concept] = best_words_count / words_count\n",
    "\n",
    "    return frequencies"
   ]
  },
  {
   "cell_type": "code",
   "execution_count": 705,
   "metadata": {},
   "outputs": [
    {
     "data": {
      "text/plain": [
       "{'Courage': 0.6645161290322581,\n",
       " 'Paper': 0.6896551724137931,\n",
       " 'Apprehension': 0.6538461538461539,\n",
       " 'Sharpener': 0.8955223880597015}"
      ]
     },
     "execution_count": 705,
     "metadata": {},
     "output_type": "execute_result"
    }
   ],
   "source": [
    "generate_lexical_overlay2(data, keep=20)\n"
   ]
  },
  {
   "cell_type": "markdown",
   "metadata": {
    "collapsed": false,
    "pycharm": {
     "name": "#%% md\n"
    }
   },
   "source": [
    "## 3. Definizione della funzione per il calcolo della similarità:\n",
    "Per similarità si intende il rapporto tra sovrapposizione lessicale e lunghezza media delle definizioni."
   ]
  },
  {
   "cell_type": "code",
   "execution_count": 706,
   "id": "0bca937e",
   "metadata": {},
   "outputs": [],
   "source": [
    "def similarity_computation(data_dictionary, lexical_overlay, average_length):\n",
    "    # Il calcolo della similarità è data dal rapporto tra sovrapposizione lessicale e lunghezza media delle definizioni\n",
    "    similarity = {}\n",
    "    for concept in data_dictionary.keys():\n",
    "        similarity[concept] = round(lexical_overlay[concept] / average_length[concept], 4)\n",
    "    return similarity"
   ]
  },
  {
   "cell_type": "markdown",
   "metadata": {
    "collapsed": false,
    "pycharm": {
     "name": "#%% md\n"
    }
   },
   "source": [
    "## a. Esecuzione delle funzioni dichiarate:"
   ]
  },
  {
   "cell_type": "code",
   "execution_count": 707,
   "id": "5f503071",
   "metadata": {},
   "outputs": [],
   "source": [
    "corpus = extract_data()\n",
    "\n",
    "# Calcolo della lunghezza media delle definizioni\n",
    "avg_len = average_length_computation(corpus)\n",
    "\n",
    "# Calcolo della sovrapposizione lessicale\n",
    "lex_overlay = lexical_overlay_computation(corpus)[0]\n",
    "\n",
    "# Calcolo della similarità\n",
    "similarity = similarity_computation(corpus, lex_overlay, avg_len)"
   ]
  },
  {
   "cell_type": "code",
   "execution_count": 708,
   "id": "5b25a110",
   "metadata": {},
   "outputs": [
    {
     "name": "stdout",
     "output_type": "stream",
     "text": [
      "{'Courage': 2.4643, 'Paper': 2.4514, 'Apprehension': 2.9204, 'Sharpener': 2.6695}\n"
     ]
    }
   ],
   "source": [
    "print(similarity)"
   ]
  },
  {
   "cell_type": "markdown",
   "metadata": {},
   "source": [
    "## b. Esecuzione delle funzioni dichiarate"
   ]
  },
  {
   "cell_type": "code",
   "execution_count": 733,
   "metadata": {},
   "outputs": [],
   "source": [
    "corpus2 = sort_indexes(extract_data())\n",
    "\n",
    "# Calcolo della lunghezza media delle definizioni\n",
    "avg_len2 = average_length_computation(corpus2)\n",
    "\n",
    "# Calcolo della sovrapposizione lessicale\n",
    "lex_overlay2 = generate_lexical_overlay2(corpus2)\n",
    "\n",
    "# Calcolo della similarità\n",
    "similarity2 = similarity_computation(corpus2, lex_overlay2, avg_len2)"
   ]
  },
  {
   "cell_type": "code",
   "execution_count": 734,
   "metadata": {},
   "outputs": [
    {
     "name": "stdout",
     "output_type": "stream",
     "text": [
      "{'Courage': 0.1031, 'Paper': 0.1125, 'Apprehension': 0.1266, 'Sharpener': 0.1219}\n"
     ]
    }
   ],
   "source": [
    "print(similarity2)"
   ]
  },
  {
   "cell_type": "markdown",
   "metadata": {
    "collapsed": false,
    "pycharm": {
     "name": "#%% md\n"
    }
   },
   "source": [
    "# Risultati laboratorio 1.1\n",
    "Di seguito una lista con gli di output del primo esercizio sul calcolo numerico della similarity:\n",
    "- Coraggio: 0.0291\n",
    "- Carta: 0.0286\n",
    "- Inquietudine: 0.0278\n",
    "- Temperino: 0.0527"
   ]
  },
  {
   "cell_type": "markdown",
   "metadata": {
    "collapsed": false,
    "pycharm": {
     "name": "#%% md\n"
    }
   },
   "source": [
    "___"
   ]
  },
  {
   "cell_type": "markdown",
   "metadata": {
    "collapsed": false,
    "pycharm": {
     "name": "#%% md\n"
    }
   },
   "source": [
    "# Laboratorio 1.2\n",
    "## Similarity Explanation: spiegazione della similarità numerica.\n",
    "Si intende spiegare la similarità numerica restituendo in output una lista con le 5 parole maggiormente rilevanti per ogni concetto.\n",
    "Le 5 parole sono state precedentemente calcolate con la funzione `lexical_overlay_computation()`. La funzione `get_relevant_words` permette di scegliere se ricevere in output il dictionary con tutte le parole più usate o una lista con le 5 parole più usate, o ancora, permette di visualizzare l'output in una tabella"
   ]
  },
  {
   "cell_type": "code",
   "execution_count": 711,
   "metadata": {},
   "outputs": [],
   "source": [
    "# TODO Dare come spiegazione che le parole concrete sono più frequenti nel calcolo della similarità, mentre quelle astratte sono meno frequenti perchè i concetti astratti sono più difficili/variabili da definire\n",
    "\n",
    "def generate_best_freq(frequencies, keep):\n",
    "\n",
    "    best_words = []\n",
    "    scores = []\n",
    "    temp = [element[0] for element in frequencies]\n",
    "    temp2 = [element[1] for element in frequencies]\n",
    "    i = 0\n",
    "    \n",
    "    for element in range(len(temp)):\n",
    "        if i < keep:\n",
    "            best_words.append(temp[element])\n",
    "            scores.append(temp2[element])\n",
    "            i += 1\n",
    "        else:\n",
    "            pass\n",
    "\n",
    "    return [best_words, scores]"
   ]
  },
  {
   "cell_type": "code",
   "execution_count": 712,
   "metadata": {},
   "outputs": [],
   "source": [
    "def plot_frequencies(concept, keep=10):\n",
    "\n",
    "    x = []\n",
    "    y = []\n",
    "\n",
    "    # Dictionary con tutte le parole più rilevanti\n",
    "    relevant_words = lexical_overlay_computation(data)[1]\n",
    "\n",
    "    i = 0\n",
    "    # Le parole vengono aggiunte all'interno del dictionary e vengono riordinate\n",
    "    relevant_words[concept] = sorted(relevant_words[concept], key=itemgetter(1), reverse=True)\n",
    "\n",
    "    x = generate_best_freq(relevant_words[concept], keep)[0]\n",
    "    y = generate_best_freq(relevant_words[concept], keep)[1]\n",
    "\n",
    "    # Data Visualization\n",
    "    plt.bar(x, y)\n",
    "    plt.xticks(rotation=30, ha='right', fontsize=8)\n",
    "    plt.grid(axis='y', alpha=.5)\n",
    "    plt.title('Parole con maggiore sovrapposizione lessicale', color=\"#1b0037\")\n",
    "\n",
    "    plt.show()\n",
    "\n",
    "    return x, y"
   ]
  },
  {
   "cell_type": "markdown",
   "metadata": {
    "collapsed": false,
    "pycharm": {
     "name": "#%% md\n"
    }
   },
   "source": [
    "# Esecuzione della funzione dichiarata"
   ]
  },
  {
   "cell_type": "code",
   "execution_count": 713,
   "metadata": {},
   "outputs": [
    {
     "data": {
      "image/png": "[encoded data removed]",
      "image/svg+xml": "<?xml version=\"1.0\" encoding=\"utf-8\" standalone=\"no\"?>\n<!DOCTYPE svg PUBLIC \"-//W3C//DTD SVG 1.1//EN\"\n  \"http://www.w3.org/Graphics/SVG/1.1/DTD/svg11.dtd\">\n<svg height=\"275.655202pt\" version=\"1.1\" viewBox=\"0 0 378.465625 275.655202\" width=\"378.465625pt\" xmlns=\"http://www.w3.org/2000/svg\" xmlns:xlink=\"http://www.w3.org/1999/xlink\">\n <metadata>\n  <rdf:RDF xmlns:cc=\"http://creativecommons.org/ns#\" xmlns:dc=\"http://purl.org/dc/elements/1.1/\" xmlns:rdf=\"http://www.w3.org/1999/02/22-rdf-syntax-ns#\">\n   <cc:Work>\n    <dc:type rdf:resource=\"http://purl.org/dc/dcmitype/StillImage\"/>\n    <dc:date>2021-10-26T22:51:24.732659</dc:date>\n    <dc:format>image/svg+xml</dc:format>\n    <dc:creator>\n     <cc:Agent>\n      <dc:title>Matplotlib v3.4.2, https://matplotlib.org/</dc:title>\n     </cc:Agent>\n    </dc:creator>\n   </cc:Work>\n  </rdf:RDF>\n </metadata>\n <defs>\n  <style type=\"text/css\">*{stroke-linecap:butt;stroke-linejoin:round;}</style>\n </defs>\n <g id=\"figure_1\">\n  <g id=\"patch_1\">\n   <path d=\"M 0 275.655202 \nL 378.465625 275.655202 \nL 378.465625 0 \nL 0 0 \nz\n\" style=\"fill:none;\"/>\n  </g>\n  <g id=\"axes_1\">\n   <g id=\"patch_2\">\n    <path d=\"M 36.465625 239.758125 \nL 371.265625 239.758125 \nL 371.265625 22.318125 \nL 36.465625 22.318125 \nz\n\" style=\"fill:#ffffff;\"/>\n   </g>\n   <g id=\"patch_3\">\n    <path clip-path=\"url(#p1aa81cf8ab)\" d=\"M 51.683807 239.758125 \nL 76.529818 239.758125 \nL 76.529818 32.672411 \nL 51.683807 32.672411 \nz\n\" style=\"fill:#1f77b4;\"/>\n   </g>\n   <g id=\"patch_4\">\n    <path clip-path=\"url(#p1aa81cf8ab)\" d=\"M 82.741321 239.758125 \nL 107.587332 239.758125 \nL 107.587332 44.177173 \nL 82.741321 44.177173 \nz\n\" style=\"fill:#1f77b4;\"/>\n   </g>\n   <g id=\"patch_5\">\n    <path clip-path=\"url(#p1aa81cf8ab)\" d=\"M 113.798835 239.758125 \nL 138.644846 239.758125 \nL 138.644846 136.215268 \nL 113.798835 136.215268 \nz\n\" style=\"fill:#1f77b4;\"/>\n   </g>\n   <g id=\"patch_6\">\n    <path clip-path=\"url(#p1aa81cf8ab)\" d=\"M 144.856349 239.758125 \nL 169.70236 239.758125 \nL 169.70236 159.224792 \nL 144.856349 159.224792 \nz\n\" style=\"fill:#1f77b4;\"/>\n   </g>\n   <g id=\"patch_7\">\n    <path clip-path=\"url(#p1aa81cf8ab)\" d=\"M 175.913862 239.758125 \nL 200.759874 239.758125 \nL 200.759874 159.224792 \nL 175.913862 159.224792 \nz\n\" style=\"fill:#1f77b4;\"/>\n   </g>\n   <g id=\"patch_8\">\n    <path clip-path=\"url(#p1aa81cf8ab)\" d=\"M 206.971376 239.758125 \nL 231.817388 239.758125 \nL 231.817388 182.234315 \nL 206.971376 182.234315 \nz\n\" style=\"fill:#1f77b4;\"/>\n   </g>\n   <g id=\"patch_9\">\n    <path clip-path=\"url(#p1aa81cf8ab)\" d=\"M 238.02889 239.758125 \nL 262.874901 239.758125 \nL 262.874901 193.739077 \nL 238.02889 193.739077 \nz\n\" style=\"fill:#1f77b4;\"/>\n   </g>\n   <g id=\"patch_10\">\n    <path clip-path=\"url(#p1aa81cf8ab)\" d=\"M 269.086404 239.758125 \nL 293.932415 239.758125 \nL 293.932415 193.739077 \nL 269.086404 193.739077 \nz\n\" style=\"fill:#1f77b4;\"/>\n   </g>\n   <g id=\"patch_11\">\n    <path clip-path=\"url(#p1aa81cf8ab)\" d=\"M 300.143918 239.758125 \nL 324.989929 239.758125 \nL 324.989929 193.739077 \nL 300.143918 193.739077 \nz\n\" style=\"fill:#1f77b4;\"/>\n   </g>\n   <g id=\"patch_12\">\n    <path clip-path=\"url(#p1aa81cf8ab)\" d=\"M 331.201432 239.758125 \nL 356.047443 239.758125 \nL 356.047443 205.243839 \nL 331.201432 205.243839 \nz\n\" style=\"fill:#1f77b4;\"/>\n   </g>\n   <g id=\"matplotlib.axis_1\">\n    <g id=\"xtick_1\">\n     <g id=\"line2d_1\">\n      <defs>\n       <path d=\"M 0 0 \nL 0 3.5 \n\" id=\"mf5f8a2d7c0\" style=\"stroke:#000000;stroke-width:0.8;\"/>\n      </defs>\n      <g>\n       <use style=\"stroke:#000000;stroke-width:0.8;\" x=\"64.106812\" xlink:href=\"#mf5f8a2d7c0\" y=\"239.758125\"/>\n      </g>\n     </g>\n     <g id=\"text_1\">\n      <!-- abil -->\n      <g transform=\"translate(50.781438 259.235602)rotate(-30)scale(0.08 -0.08)\">\n       <defs>\n        <path d=\"M 2194 1759 \nQ 1497 1759 1228 1600 \nQ 959 1441 959 1056 \nQ 959 750 1161 570 \nQ 1363 391 1709 391 \nQ 2188 391 2477 730 \nQ 2766 1069 2766 1631 \nL 2766 1759 \nL 2194 1759 \nz\nM 3341 1997 \nL 3341 0 \nL 2766 0 \nL 2766 531 \nQ 2569 213 2275 61 \nQ 1981 -91 1556 -91 \nQ 1019 -91 701 211 \nQ 384 513 384 1019 \nQ 384 1609 779 1909 \nQ 1175 2209 1959 2209 \nL 2766 2209 \nL 2766 2266 \nQ 2766 2663 2505 2880 \nQ 2244 3097 1772 3097 \nQ 1472 3097 1187 3025 \nQ 903 2953 641 2809 \nL 641 3341 \nQ 956 3463 1253 3523 \nQ 1550 3584 1831 3584 \nQ 2591 3584 2966 3190 \nQ 3341 2797 3341 1997 \nz\n\" id=\"DejaVuSans-61\" transform=\"scale(0.015625)\"/>\n        <path d=\"M 3116 1747 \nQ 3116 2381 2855 2742 \nQ 2594 3103 2138 3103 \nQ 1681 3103 1420 2742 \nQ 1159 2381 1159 1747 \nQ 1159 1113 1420 752 \nQ 1681 391 2138 391 \nQ 2594 391 2855 752 \nQ 3116 1113 3116 1747 \nz\nM 1159 2969 \nQ 1341 3281 1617 3432 \nQ 1894 3584 2278 3584 \nQ 2916 3584 3314 3078 \nQ 3713 2572 3713 1747 \nQ 3713 922 3314 415 \nQ 2916 -91 2278 -91 \nQ 1894 -91 1617 61 \nQ 1341 213 1159 525 \nL 1159 0 \nL 581 0 \nL 581 4863 \nL 1159 4863 \nL 1159 2969 \nz\n\" id=\"DejaVuSans-62\" transform=\"scale(0.015625)\"/>\n        <path d=\"M 603 3500 \nL 1178 3500 \nL 1178 0 \nL 603 0 \nL 603 3500 \nz\nM 603 4863 \nL 1178 4863 \nL 1178 4134 \nL 603 4134 \nL 603 4863 \nz\n\" id=\"DejaVuSans-69\" transform=\"scale(0.015625)\"/>\n        <path d=\"M 603 4863 \nL 1178 4863 \nL 1178 0 \nL 603 0 \nL 603 4863 \nz\n\" id=\"DejaVuSans-6c\" transform=\"scale(0.015625)\"/>\n       </defs>\n       <use xlink:href=\"#DejaVuSans-61\"/>\n       <use x=\"61.279297\" xlink:href=\"#DejaVuSans-62\"/>\n       <use x=\"124.755859\" xlink:href=\"#DejaVuSans-69\"/>\n       <use x=\"152.539062\" xlink:href=\"#DejaVuSans-6c\"/>\n      </g>\n     </g>\n    </g>\n    <g id=\"xtick_2\">\n     <g id=\"line2d_2\">\n      <g>\n       <use style=\"stroke:#000000;stroke-width:0.8;\" x=\"95.164326\" xlink:href=\"#mf5f8a2d7c0\" y=\"239.758125\"/>\n      </g>\n     </g>\n     <g id=\"text_2\">\n      <!-- fear -->\n      <g transform=\"translate(80.536667 259.987477)rotate(-30)scale(0.08 -0.08)\">\n       <defs>\n        <path d=\"M 2375 4863 \nL 2375 4384 \nL 1825 4384 \nQ 1516 4384 1395 4259 \nQ 1275 4134 1275 3809 \nL 1275 3500 \nL 2222 3500 \nL 2222 3053 \nL 1275 3053 \nL 1275 0 \nL 697 0 \nL 697 3053 \nL 147 3053 \nL 147 3500 \nL 697 3500 \nL 697 3744 \nQ 697 4328 969 4595 \nQ 1241 4863 1831 4863 \nL 2375 4863 \nz\n\" id=\"DejaVuSans-66\" transform=\"scale(0.015625)\"/>\n        <path d=\"M 3597 1894 \nL 3597 1613 \nL 953 1613 \nQ 991 1019 1311 708 \nQ 1631 397 2203 397 \nQ 2534 397 2845 478 \nQ 3156 559 3463 722 \nL 3463 178 \nQ 3153 47 2828 -22 \nQ 2503 -91 2169 -91 \nQ 1331 -91 842 396 \nQ 353 884 353 1716 \nQ 353 2575 817 3079 \nQ 1281 3584 2069 3584 \nQ 2775 3584 3186 3129 \nQ 3597 2675 3597 1894 \nz\nM 3022 2063 \nQ 3016 2534 2758 2815 \nQ 2500 3097 2075 3097 \nQ 1594 3097 1305 2825 \nQ 1016 2553 972 2059 \nL 3022 2063 \nz\n\" id=\"DejaVuSans-65\" transform=\"scale(0.015625)\"/>\n        <path d=\"M 2631 2963 \nQ 2534 3019 2420 3045 \nQ 2306 3072 2169 3072 \nQ 1681 3072 1420 2755 \nQ 1159 2438 1159 1844 \nL 1159 0 \nL 581 0 \nL 581 3500 \nL 1159 3500 \nL 1159 2956 \nQ 1341 3275 1631 3429 \nQ 1922 3584 2338 3584 \nQ 2397 3584 2469 3576 \nQ 2541 3569 2628 3553 \nL 2631 2963 \nz\n\" id=\"DejaVuSans-72\" transform=\"scale(0.015625)\"/>\n       </defs>\n       <use xlink:href=\"#DejaVuSans-66\"/>\n       <use x=\"35.205078\" xlink:href=\"#DejaVuSans-65\"/>\n       <use x=\"96.728516\" xlink:href=\"#DejaVuSans-61\"/>\n       <use x=\"158.007812\" xlink:href=\"#DejaVuSans-72\"/>\n      </g>\n     </g>\n    </g>\n    <g id=\"xtick_3\">\n     <g id=\"line2d_3\">\n      <g>\n       <use style=\"stroke:#000000;stroke-width:0.8;\" x=\"126.22184\" xlink:href=\"#mf5f8a2d7c0\" y=\"239.758125\"/>\n      </g>\n     </g>\n     <g id=\"text_3\">\n      <!-- face -->\n      <g transform=\"translate(110.632892 260.542477)rotate(-30)scale(0.08 -0.08)\">\n       <defs>\n        <path d=\"M 3122 3366 \nL 3122 2828 \nQ 2878 2963 2633 3030 \nQ 2388 3097 2138 3097 \nQ 1578 3097 1268 2742 \nQ 959 2388 959 1747 \nQ 959 1106 1268 751 \nQ 1578 397 2138 397 \nQ 2388 397 2633 464 \nQ 2878 531 3122 666 \nL 3122 134 \nQ 2881 22 2623 -34 \nQ 2366 -91 2075 -91 \nQ 1284 -91 818 406 \nQ 353 903 353 1747 \nQ 353 2603 823 3093 \nQ 1294 3584 2113 3584 \nQ 2378 3584 2631 3529 \nQ 2884 3475 3122 3366 \nz\n\" id=\"DejaVuSans-63\" transform=\"scale(0.015625)\"/>\n       </defs>\n       <use xlink:href=\"#DejaVuSans-66\"/>\n       <use x=\"35.205078\" xlink:href=\"#DejaVuSans-61\"/>\n       <use x=\"96.484375\" xlink:href=\"#DejaVuSans-63\"/>\n       <use x=\"151.464844\" xlink:href=\"#DejaVuSans-65\"/>\n      </g>\n     </g>\n    </g>\n    <g id=\"xtick_4\">\n     <g id=\"line2d_4\">\n      <g>\n       <use style=\"stroke:#000000;stroke-width:0.8;\" x=\"157.279354\" xlink:href=\"#mf5f8a2d7c0\" y=\"239.758125\"/>\n      </g>\n     </g>\n     <g id=\"text_4\">\n      <!-- situat -->\n      <g transform=\"translate(136.844994 263.339977)rotate(-30)scale(0.08 -0.08)\">\n       <defs>\n        <path d=\"M 2834 3397 \nL 2834 2853 \nQ 2591 2978 2328 3040 \nQ 2066 3103 1784 3103 \nQ 1356 3103 1142 2972 \nQ 928 2841 928 2578 \nQ 928 2378 1081 2264 \nQ 1234 2150 1697 2047 \nL 1894 2003 \nQ 2506 1872 2764 1633 \nQ 3022 1394 3022 966 \nQ 3022 478 2636 193 \nQ 2250 -91 1575 -91 \nQ 1294 -91 989 -36 \nQ 684 19 347 128 \nL 347 722 \nQ 666 556 975 473 \nQ 1284 391 1588 391 \nQ 1994 391 2212 530 \nQ 2431 669 2431 922 \nQ 2431 1156 2273 1281 \nQ 2116 1406 1581 1522 \nL 1381 1569 \nQ 847 1681 609 1914 \nQ 372 2147 372 2553 \nQ 372 3047 722 3315 \nQ 1072 3584 1716 3584 \nQ 2034 3584 2315 3537 \nQ 2597 3491 2834 3397 \nz\n\" id=\"DejaVuSans-73\" transform=\"scale(0.015625)\"/>\n        <path d=\"M 1172 4494 \nL 1172 3500 \nL 2356 3500 \nL 2356 3053 \nL 1172 3053 \nL 1172 1153 \nQ 1172 725 1289 603 \nQ 1406 481 1766 481 \nL 2356 481 \nL 2356 0 \nL 1766 0 \nQ 1100 0 847 248 \nQ 594 497 594 1153 \nL 594 3053 \nL 172 3053 \nL 172 3500 \nL 594 3500 \nL 594 4494 \nL 1172 4494 \nz\n\" id=\"DejaVuSans-74\" transform=\"scale(0.015625)\"/>\n        <path d=\"M 544 1381 \nL 544 3500 \nL 1119 3500 \nL 1119 1403 \nQ 1119 906 1312 657 \nQ 1506 409 1894 409 \nQ 2359 409 2629 706 \nQ 2900 1003 2900 1516 \nL 2900 3500 \nL 3475 3500 \nL 3475 0 \nL 2900 0 \nL 2900 538 \nQ 2691 219 2414 64 \nQ 2138 -91 1772 -91 \nQ 1169 -91 856 284 \nQ 544 659 544 1381 \nz\nM 1991 3584 \nL 1991 3584 \nz\n\" id=\"DejaVuSans-75\" transform=\"scale(0.015625)\"/>\n       </defs>\n       <use xlink:href=\"#DejaVuSans-73\"/>\n       <use x=\"52.099609\" xlink:href=\"#DejaVuSans-69\"/>\n       <use x=\"79.882812\" xlink:href=\"#DejaVuSans-74\"/>\n       <use x=\"119.091797\" xlink:href=\"#DejaVuSans-75\"/>\n       <use x=\"182.470703\" xlink:href=\"#DejaVuSans-61\"/>\n       <use x=\"243.75\" xlink:href=\"#DejaVuSans-74\"/>\n      </g>\n     </g>\n    </g>\n    <g id=\"xtick_5\">\n     <g id=\"line2d_5\">\n      <g>\n       <use style=\"stroke:#000000;stroke-width:0.8;\" x=\"188.336868\" xlink:href=\"#mf5f8a2d7c0\" y=\"239.758125\"/>\n      </g>\n     </g>\n     <g id=\"text_5\">\n      <!-- someth -->\n      <g transform=\"translate(161.538304 267.014352)rotate(-30)scale(0.08 -0.08)\">\n       <defs>\n        <path d=\"M 1959 3097 \nQ 1497 3097 1228 2736 \nQ 959 2375 959 1747 \nQ 959 1119 1226 758 \nQ 1494 397 1959 397 \nQ 2419 397 2687 759 \nQ 2956 1122 2956 1747 \nQ 2956 2369 2687 2733 \nQ 2419 3097 1959 3097 \nz\nM 1959 3584 \nQ 2709 3584 3137 3096 \nQ 3566 2609 3566 1747 \nQ 3566 888 3137 398 \nQ 2709 -91 1959 -91 \nQ 1206 -91 779 398 \nQ 353 888 353 1747 \nQ 353 2609 779 3096 \nQ 1206 3584 1959 3584 \nz\n\" id=\"DejaVuSans-6f\" transform=\"scale(0.015625)\"/>\n        <path d=\"M 3328 2828 \nQ 3544 3216 3844 3400 \nQ 4144 3584 4550 3584 \nQ 5097 3584 5394 3201 \nQ 5691 2819 5691 2113 \nL 5691 0 \nL 5113 0 \nL 5113 2094 \nQ 5113 2597 4934 2840 \nQ 4756 3084 4391 3084 \nQ 3944 3084 3684 2787 \nQ 3425 2491 3425 1978 \nL 3425 0 \nL 2847 0 \nL 2847 2094 \nQ 2847 2600 2669 2842 \nQ 2491 3084 2119 3084 \nQ 1678 3084 1418 2786 \nQ 1159 2488 1159 1978 \nL 1159 0 \nL 581 0 \nL 581 3500 \nL 1159 3500 \nL 1159 2956 \nQ 1356 3278 1631 3431 \nQ 1906 3584 2284 3584 \nQ 2666 3584 2933 3390 \nQ 3200 3197 3328 2828 \nz\n\" id=\"DejaVuSans-6d\" transform=\"scale(0.015625)\"/>\n        <path d=\"M 3513 2113 \nL 3513 0 \nL 2938 0 \nL 2938 2094 \nQ 2938 2591 2744 2837 \nQ 2550 3084 2163 3084 \nQ 1697 3084 1428 2787 \nQ 1159 2491 1159 1978 \nL 1159 0 \nL 581 0 \nL 581 4863 \nL 1159 4863 \nL 1159 2956 \nQ 1366 3272 1645 3428 \nQ 1925 3584 2291 3584 \nQ 2894 3584 3203 3211 \nQ 3513 2838 3513 2113 \nz\n\" id=\"DejaVuSans-68\" transform=\"scale(0.015625)\"/>\n       </defs>\n       <use xlink:href=\"#DejaVuSans-73\"/>\n       <use x=\"52.099609\" xlink:href=\"#DejaVuSans-6f\"/>\n       <use x=\"113.28125\" xlink:href=\"#DejaVuSans-6d\"/>\n       <use x=\"210.693359\" xlink:href=\"#DejaVuSans-65\"/>\n       <use x=\"272.216797\" xlink:href=\"#DejaVuSans-74\"/>\n       <use x=\"311.425781\" xlink:href=\"#DejaVuSans-68\"/>\n      </g>\n     </g>\n    </g>\n    <g id=\"xtick_6\">\n     <g id=\"line2d_6\">\n      <g>\n       <use style=\"stroke:#000000;stroke-width:0.8;\" x=\"219.394382\" xlink:href=\"#mf5f8a2d7c0\" y=\"239.758125\"/>\n      </g>\n     </g>\n     <g id=\"text_6\">\n      <!-- allow -->\n      <g transform=\"translate(200.562169 262.414977)rotate(-30)scale(0.08 -0.08)\">\n       <defs>\n        <path d=\"M 269 3500 \nL 844 3500 \nL 1563 769 \nL 2278 3500 \nL 2956 3500 \nL 3675 769 \nL 4391 3500 \nL 4966 3500 \nL 4050 0 \nL 3372 0 \nL 2619 2869 \nL 1863 0 \nL 1184 0 \nL 269 3500 \nz\n\" id=\"DejaVuSans-77\" transform=\"scale(0.015625)\"/>\n       </defs>\n       <use xlink:href=\"#DejaVuSans-61\"/>\n       <use x=\"61.279297\" xlink:href=\"#DejaVuSans-6c\"/>\n       <use x=\"89.0625\" xlink:href=\"#DejaVuSans-6c\"/>\n       <use x=\"116.845703\" xlink:href=\"#DejaVuSans-6f\"/>\n       <use x=\"178.027344\" xlink:href=\"#DejaVuSans-77\"/>\n      </g>\n     </g>\n    </g>\n    <g id=\"xtick_7\">\n     <g id=\"line2d_7\">\n      <g>\n       <use style=\"stroke:#000000;stroke-width:0.8;\" x=\"250.451896\" xlink:href=\"#mf5f8a2d7c0\" y=\"239.758125\"/>\n      </g>\n     </g>\n     <g id=\"text_7\">\n      <!-- make -->\n      <g transform=\"translate(230.602103 263.002477)rotate(-30)scale(0.08 -0.08)\">\n       <defs>\n        <path d=\"M 581 4863 \nL 1159 4863 \nL 1159 1991 \nL 2875 3500 \nL 3609 3500 \nL 1753 1863 \nL 3688 0 \nL 2938 0 \nL 1159 1709 \nL 1159 0 \nL 581 0 \nL 581 4863 \nz\n\" id=\"DejaVuSans-6b\" transform=\"scale(0.015625)\"/>\n       </defs>\n       <use xlink:href=\"#DejaVuSans-6d\"/>\n       <use x=\"97.412109\" xlink:href=\"#DejaVuSans-61\"/>\n       <use x=\"158.691406\" xlink:href=\"#DejaVuSans-6b\"/>\n       <use x=\"212.976562\" xlink:href=\"#DejaVuSans-65\"/>\n      </g>\n     </g>\n    </g>\n    <g id=\"xtick_8\">\n     <g id=\"line2d_8\">\n      <g>\n       <use style=\"stroke:#000000;stroke-width:0.8;\" x=\"281.50941\" xlink:href=\"#mf5f8a2d7c0\" y=\"239.758125\"/>\n      </g>\n     </g>\n     <g id=\"text_8\">\n      <!-- scare -->\n      <g transform=\"translate(262.057989 262.772477)rotate(-30)scale(0.08 -0.08)\">\n       <use xlink:href=\"#DejaVuSans-73\"/>\n       <use x=\"52.099609\" xlink:href=\"#DejaVuSans-63\"/>\n       <use x=\"107.080078\" xlink:href=\"#DejaVuSans-61\"/>\n       <use x=\"168.359375\" xlink:href=\"#DejaVuSans-72\"/>\n       <use x=\"207.222656\" xlink:href=\"#DejaVuSans-65\"/>\n      </g>\n     </g>\n    </g>\n    <g id=\"xtick_9\">\n     <g id=\"line2d_9\">\n      <g>\n       <use style=\"stroke:#000000;stroke-width:0.8;\" x=\"312.566924\" xlink:href=\"#mf5f8a2d7c0\" y=\"239.758125\"/>\n      </g>\n     </g>\n     <g id=\"text_9\">\n      <!-- danger -->\n      <g transform=\"translate(287.190806 266.193102)rotate(-30)scale(0.08 -0.08)\">\n       <defs>\n        <path d=\"M 2906 2969 \nL 2906 4863 \nL 3481 4863 \nL 3481 0 \nL 2906 0 \nL 2906 525 \nQ 2725 213 2448 61 \nQ 2172 -91 1784 -91 \nQ 1150 -91 751 415 \nQ 353 922 353 1747 \nQ 353 2572 751 3078 \nQ 1150 3584 1784 3584 \nQ 2172 3584 2448 3432 \nQ 2725 3281 2906 2969 \nz\nM 947 1747 \nQ 947 1113 1208 752 \nQ 1469 391 1925 391 \nQ 2381 391 2643 752 \nQ 2906 1113 2906 1747 \nQ 2906 2381 2643 2742 \nQ 2381 3103 1925 3103 \nQ 1469 3103 1208 2742 \nQ 947 2381 947 1747 \nz\n\" id=\"DejaVuSans-64\" transform=\"scale(0.015625)\"/>\n        <path d=\"M 3513 2113 \nL 3513 0 \nL 2938 0 \nL 2938 2094 \nQ 2938 2591 2744 2837 \nQ 2550 3084 2163 3084 \nQ 1697 3084 1428 2787 \nQ 1159 2491 1159 1978 \nL 1159 0 \nL 581 0 \nL 581 3500 \nL 1159 3500 \nL 1159 2956 \nQ 1366 3272 1645 3428 \nQ 1925 3584 2291 3584 \nQ 2894 3584 3203 3211 \nQ 3513 2838 3513 2113 \nz\n\" id=\"DejaVuSans-6e\" transform=\"scale(0.015625)\"/>\n        <path d=\"M 2906 1791 \nQ 2906 2416 2648 2759 \nQ 2391 3103 1925 3103 \nQ 1463 3103 1205 2759 \nQ 947 2416 947 1791 \nQ 947 1169 1205 825 \nQ 1463 481 1925 481 \nQ 2391 481 2648 825 \nQ 2906 1169 2906 1791 \nz\nM 3481 434 \nQ 3481 -459 3084 -895 \nQ 2688 -1331 1869 -1331 \nQ 1566 -1331 1297 -1286 \nQ 1028 -1241 775 -1147 \nL 775 -588 \nQ 1028 -725 1275 -790 \nQ 1522 -856 1778 -856 \nQ 2344 -856 2625 -561 \nQ 2906 -266 2906 331 \nL 2906 616 \nQ 2728 306 2450 153 \nQ 2172 0 1784 0 \nQ 1141 0 747 490 \nQ 353 981 353 1791 \nQ 353 2603 747 3093 \nQ 1141 3584 1784 3584 \nQ 2172 3584 2450 3431 \nQ 2728 3278 2906 2969 \nL 2906 3500 \nL 3481 3500 \nL 3481 434 \nz\n\" id=\"DejaVuSans-67\" transform=\"scale(0.015625)\"/>\n       </defs>\n       <use xlink:href=\"#DejaVuSans-64\"/>\n       <use x=\"63.476562\" xlink:href=\"#DejaVuSans-61\"/>\n       <use x=\"124.755859\" xlink:href=\"#DejaVuSans-6e\"/>\n       <use x=\"188.134766\" xlink:href=\"#DejaVuSans-67\"/>\n       <use x=\"251.611328\" xlink:href=\"#DejaVuSans-65\"/>\n       <use x=\"313.134766\" xlink:href=\"#DejaVuSans-72\"/>\n      </g>\n     </g>\n    </g>\n    <g id=\"xtick_10\">\n     <g id=\"line2d_10\">\n      <g>\n       <use style=\"stroke:#000000;stroke-width:0.8;\" x=\"343.624438\" xlink:href=\"#mf5f8a2d7c0\" y=\"239.758125\"/>\n      </g>\n     </g>\n     <g id=\"text_10\">\n      <!-- despit -->\n      <g transform=\"translate(321.482925 264.325602)rotate(-30)scale(0.08 -0.08)\">\n       <defs>\n        <path d=\"M 1159 525 \nL 1159 -1331 \nL 581 -1331 \nL 581 3500 \nL 1159 3500 \nL 1159 2969 \nQ 1341 3281 1617 3432 \nQ 1894 3584 2278 3584 \nQ 2916 3584 3314 3078 \nQ 3713 2572 3713 1747 \nQ 3713 922 3314 415 \nQ 2916 -91 2278 -91 \nQ 1894 -91 1617 61 \nQ 1341 213 1159 525 \nz\nM 3116 1747 \nQ 3116 2381 2855 2742 \nQ 2594 3103 2138 3103 \nQ 1681 3103 1420 2742 \nQ 1159 2381 1159 1747 \nQ 1159 1113 1420 752 \nQ 1681 391 2138 391 \nQ 2594 391 2855 752 \nQ 3116 1113 3116 1747 \nz\n\" id=\"DejaVuSans-70\" transform=\"scale(0.015625)\"/>\n       </defs>\n       <use xlink:href=\"#DejaVuSans-64\"/>\n       <use x=\"63.476562\" xlink:href=\"#DejaVuSans-65\"/>\n       <use x=\"125\" xlink:href=\"#DejaVuSans-73\"/>\n       <use x=\"177.099609\" xlink:href=\"#DejaVuSans-70\"/>\n       <use x=\"240.576172\" xlink:href=\"#DejaVuSans-69\"/>\n       <use x=\"268.359375\" xlink:href=\"#DejaVuSans-74\"/>\n      </g>\n     </g>\n    </g>\n   </g>\n   <g id=\"matplotlib.axis_2\">\n    <g id=\"ytick_1\">\n     <g id=\"line2d_11\">\n      <path clip-path=\"url(#p1aa81cf8ab)\" d=\"M 36.465625 239.758125 \nL 371.265625 239.758125 \n\" style=\"fill:none;stroke:#b0b0b0;stroke-linecap:square;stroke-opacity:0.5;stroke-width:0.8;\"/>\n     </g>\n     <g id=\"line2d_12\">\n      <defs>\n       <path d=\"M 0 0 \nL -3.5 0 \n\" id=\"mb1b454fd42\" style=\"stroke:#000000;stroke-width:0.8;\"/>\n      </defs>\n      <g>\n       <use style=\"stroke:#000000;stroke-width:0.8;\" x=\"36.465625\" xlink:href=\"#mb1b454fd42\" y=\"239.758125\"/>\n      </g>\n     </g>\n     <g id=\"text_11\">\n      <!-- 0.0 -->\n      <g transform=\"translate(13.5625 243.557344)scale(0.1 -0.1)\">\n       <defs>\n        <path d=\"M 2034 4250 \nQ 1547 4250 1301 3770 \nQ 1056 3291 1056 2328 \nQ 1056 1369 1301 889 \nQ 1547 409 2034 409 \nQ 2525 409 2770 889 \nQ 3016 1369 3016 2328 \nQ 3016 3291 2770 3770 \nQ 2525 4250 2034 4250 \nz\nM 2034 4750 \nQ 2819 4750 3233 4129 \nQ 3647 3509 3647 2328 \nQ 3647 1150 3233 529 \nQ 2819 -91 2034 -91 \nQ 1250 -91 836 529 \nQ 422 1150 422 2328 \nQ 422 3509 836 4129 \nQ 1250 4750 2034 4750 \nz\n\" id=\"DejaVuSans-30\" transform=\"scale(0.015625)\"/>\n        <path d=\"M 684 794 \nL 1344 794 \nL 1344 0 \nL 684 0 \nL 684 794 \nz\n\" id=\"DejaVuSans-2e\" transform=\"scale(0.015625)\"/>\n       </defs>\n       <use xlink:href=\"#DejaVuSans-30\"/>\n       <use x=\"63.623047\" xlink:href=\"#DejaVuSans-2e\"/>\n       <use x=\"95.410156\" xlink:href=\"#DejaVuSans-30\"/>\n      </g>\n     </g>\n    </g>\n    <g id=\"ytick_2\">\n     <g id=\"line2d_13\">\n      <path clip-path=\"url(#p1aa81cf8ab)\" d=\"M 36.465625 210.99622 \nL 371.265625 210.99622 \n\" style=\"fill:none;stroke:#b0b0b0;stroke-linecap:square;stroke-opacity:0.5;stroke-width:0.8;\"/>\n     </g>\n     <g id=\"line2d_14\">\n      <g>\n       <use style=\"stroke:#000000;stroke-width:0.8;\" x=\"36.465625\" xlink:href=\"#mb1b454fd42\" y=\"210.99622\"/>\n      </g>\n     </g>\n     <g id=\"text_12\">\n      <!-- 2.5 -->\n      <g transform=\"translate(13.5625 214.795439)scale(0.1 -0.1)\">\n       <defs>\n        <path d=\"M 1228 531 \nL 3431 531 \nL 3431 0 \nL 469 0 \nL 469 531 \nQ 828 903 1448 1529 \nQ 2069 2156 2228 2338 \nQ 2531 2678 2651 2914 \nQ 2772 3150 2772 3378 \nQ 2772 3750 2511 3984 \nQ 2250 4219 1831 4219 \nQ 1534 4219 1204 4116 \nQ 875 4013 500 3803 \nL 500 4441 \nQ 881 4594 1212 4672 \nQ 1544 4750 1819 4750 \nQ 2544 4750 2975 4387 \nQ 3406 4025 3406 3419 \nQ 3406 3131 3298 2873 \nQ 3191 2616 2906 2266 \nQ 2828 2175 2409 1742 \nQ 1991 1309 1228 531 \nz\n\" id=\"DejaVuSans-32\" transform=\"scale(0.015625)\"/>\n        <path d=\"M 691 4666 \nL 3169 4666 \nL 3169 4134 \nL 1269 4134 \nL 1269 2991 \nQ 1406 3038 1543 3061 \nQ 1681 3084 1819 3084 \nQ 2600 3084 3056 2656 \nQ 3513 2228 3513 1497 \nQ 3513 744 3044 326 \nQ 2575 -91 1722 -91 \nQ 1428 -91 1123 -41 \nQ 819 9 494 109 \nL 494 744 \nQ 775 591 1075 516 \nQ 1375 441 1709 441 \nQ 2250 441 2565 725 \nQ 2881 1009 2881 1497 \nQ 2881 1984 2565 2268 \nQ 2250 2553 1709 2553 \nQ 1456 2553 1204 2497 \nQ 953 2441 691 2322 \nL 691 4666 \nz\n\" id=\"DejaVuSans-35\" transform=\"scale(0.015625)\"/>\n       </defs>\n       <use xlink:href=\"#DejaVuSans-32\"/>\n       <use x=\"63.623047\" xlink:href=\"#DejaVuSans-2e\"/>\n       <use x=\"95.410156\" xlink:href=\"#DejaVuSans-35\"/>\n      </g>\n     </g>\n    </g>\n    <g id=\"ytick_3\">\n     <g id=\"line2d_15\">\n      <path clip-path=\"url(#p1aa81cf8ab)\" d=\"M 36.465625 182.234315 \nL 371.265625 182.234315 \n\" style=\"fill:none;stroke:#b0b0b0;stroke-linecap:square;stroke-opacity:0.5;stroke-width:0.8;\"/>\n     </g>\n     <g id=\"line2d_16\">\n      <g>\n       <use style=\"stroke:#000000;stroke-width:0.8;\" x=\"36.465625\" xlink:href=\"#mb1b454fd42\" y=\"182.234315\"/>\n      </g>\n     </g>\n     <g id=\"text_13\">\n      <!-- 5.0 -->\n      <g transform=\"translate(13.5625 186.033534)scale(0.1 -0.1)\">\n       <use xlink:href=\"#DejaVuSans-35\"/>\n       <use x=\"63.623047\" xlink:href=\"#DejaVuSans-2e\"/>\n       <use x=\"95.410156\" xlink:href=\"#DejaVuSans-30\"/>\n      </g>\n     </g>\n    </g>\n    <g id=\"ytick_4\">\n     <g id=\"line2d_17\">\n      <path clip-path=\"url(#p1aa81cf8ab)\" d=\"M 36.465625 153.472411 \nL 371.265625 153.472411 \n\" style=\"fill:none;stroke:#b0b0b0;stroke-linecap:square;stroke-opacity:0.5;stroke-width:0.8;\"/>\n     </g>\n     <g id=\"line2d_18\">\n      <g>\n       <use style=\"stroke:#000000;stroke-width:0.8;\" x=\"36.465625\" xlink:href=\"#mb1b454fd42\" y=\"153.472411\"/>\n      </g>\n     </g>\n     <g id=\"text_14\">\n      <!-- 7.5 -->\n      <g transform=\"translate(13.5625 157.271629)scale(0.1 -0.1)\">\n       <defs>\n        <path d=\"M 525 4666 \nL 3525 4666 \nL 3525 4397 \nL 1831 0 \nL 1172 0 \nL 2766 4134 \nL 525 4134 \nL 525 4666 \nz\n\" id=\"DejaVuSans-37\" transform=\"scale(0.015625)\"/>\n       </defs>\n       <use xlink:href=\"#DejaVuSans-37\"/>\n       <use x=\"63.623047\" xlink:href=\"#DejaVuSans-2e\"/>\n       <use x=\"95.410156\" xlink:href=\"#DejaVuSans-35\"/>\n      </g>\n     </g>\n    </g>\n    <g id=\"ytick_5\">\n     <g id=\"line2d_19\">\n      <path clip-path=\"url(#p1aa81cf8ab)\" d=\"M 36.465625 124.710506 \nL 371.265625 124.710506 \n\" style=\"fill:none;stroke:#b0b0b0;stroke-linecap:square;stroke-opacity:0.5;stroke-width:0.8;\"/>\n     </g>\n     <g id=\"line2d_20\">\n      <g>\n       <use style=\"stroke:#000000;stroke-width:0.8;\" x=\"36.465625\" xlink:href=\"#mb1b454fd42\" y=\"124.710506\"/>\n      </g>\n     </g>\n     <g id=\"text_15\">\n      <!-- 10.0 -->\n      <g transform=\"translate(7.2 128.509725)scale(0.1 -0.1)\">\n       <defs>\n        <path d=\"M 794 531 \nL 1825 531 \nL 1825 4091 \nL 703 3866 \nL 703 4441 \nL 1819 4666 \nL 2450 4666 \nL 2450 531 \nL 3481 531 \nL 3481 0 \nL 794 0 \nL 794 531 \nz\n\" id=\"DejaVuSans-31\" transform=\"scale(0.015625)\"/>\n       </defs>\n       <use xlink:href=\"#DejaVuSans-31\"/>\n       <use x=\"63.623047\" xlink:href=\"#DejaVuSans-30\"/>\n       <use x=\"127.246094\" xlink:href=\"#DejaVuSans-2e\"/>\n       <use x=\"159.033203\" xlink:href=\"#DejaVuSans-30\"/>\n      </g>\n     </g>\n    </g>\n    <g id=\"ytick_6\">\n     <g id=\"line2d_21\">\n      <path clip-path=\"url(#p1aa81cf8ab)\" d=\"M 36.465625 95.948601 \nL 371.265625 95.948601 \n\" style=\"fill:none;stroke:#b0b0b0;stroke-linecap:square;stroke-opacity:0.5;stroke-width:0.8;\"/>\n     </g>\n     <g id=\"line2d_22\">\n      <g>\n       <use style=\"stroke:#000000;stroke-width:0.8;\" x=\"36.465625\" xlink:href=\"#mb1b454fd42\" y=\"95.948601\"/>\n      </g>\n     </g>\n     <g id=\"text_16\">\n      <!-- 12.5 -->\n      <g transform=\"translate(7.2 99.74782)scale(0.1 -0.1)\">\n       <use xlink:href=\"#DejaVuSans-31\"/>\n       <use x=\"63.623047\" xlink:href=\"#DejaVuSans-32\"/>\n       <use x=\"127.246094\" xlink:href=\"#DejaVuSans-2e\"/>\n       <use x=\"159.033203\" xlink:href=\"#DejaVuSans-35\"/>\n      </g>\n     </g>\n    </g>\n    <g id=\"ytick_7\">\n     <g id=\"line2d_23\">\n      <path clip-path=\"url(#p1aa81cf8ab)\" d=\"M 36.465625 67.186696 \nL 371.265625 67.186696 \n\" style=\"fill:none;stroke:#b0b0b0;stroke-linecap:square;stroke-opacity:0.5;stroke-width:0.8;\"/>\n     </g>\n     <g id=\"line2d_24\">\n      <g>\n       <use style=\"stroke:#000000;stroke-width:0.8;\" x=\"36.465625\" xlink:href=\"#mb1b454fd42\" y=\"67.186696\"/>\n      </g>\n     </g>\n     <g id=\"text_17\">\n      <!-- 15.0 -->\n      <g transform=\"translate(7.2 70.985915)scale(0.1 -0.1)\">\n       <use xlink:href=\"#DejaVuSans-31\"/>\n       <use x=\"63.623047\" xlink:href=\"#DejaVuSans-35\"/>\n       <use x=\"127.246094\" xlink:href=\"#DejaVuSans-2e\"/>\n       <use x=\"159.033203\" xlink:href=\"#DejaVuSans-30\"/>\n      </g>\n     </g>\n    </g>\n    <g id=\"ytick_8\">\n     <g id=\"line2d_25\">\n      <path clip-path=\"url(#p1aa81cf8ab)\" d=\"M 36.465625 38.424792 \nL 371.265625 38.424792 \n\" style=\"fill:none;stroke:#b0b0b0;stroke-linecap:square;stroke-opacity:0.5;stroke-width:0.8;\"/>\n     </g>\n     <g id=\"line2d_26\">\n      <g>\n       <use style=\"stroke:#000000;stroke-width:0.8;\" x=\"36.465625\" xlink:href=\"#mb1b454fd42\" y=\"38.424792\"/>\n      </g>\n     </g>\n     <g id=\"text_18\">\n      <!-- 17.5 -->\n      <g transform=\"translate(7.2 42.22401)scale(0.1 -0.1)\">\n       <use xlink:href=\"#DejaVuSans-31\"/>\n       <use x=\"63.623047\" xlink:href=\"#DejaVuSans-37\"/>\n       <use x=\"127.246094\" xlink:href=\"#DejaVuSans-2e\"/>\n       <use x=\"159.033203\" xlink:href=\"#DejaVuSans-35\"/>\n      </g>\n     </g>\n    </g>\n   </g>\n   <g id=\"patch_13\">\n    <path d=\"M 36.465625 239.758125 \nL 36.465625 22.318125 \n\" style=\"fill:none;stroke:#000000;stroke-linecap:square;stroke-linejoin:miter;stroke-width:0.8;\"/>\n   </g>\n   <g id=\"patch_14\">\n    <path d=\"M 371.265625 239.758125 \nL 371.265625 22.318125 \n\" style=\"fill:none;stroke:#000000;stroke-linecap:square;stroke-linejoin:miter;stroke-width:0.8;\"/>\n   </g>\n   <g id=\"patch_15\">\n    <path d=\"M 36.465625 239.758125 \nL 371.265625 239.758125 \n\" style=\"fill:none;stroke:#000000;stroke-linecap:square;stroke-linejoin:miter;stroke-width:0.8;\"/>\n   </g>\n   <g id=\"patch_16\">\n    <path d=\"M 36.465625 22.318125 \nL 371.265625 22.318125 \n\" style=\"fill:none;stroke:#000000;stroke-linecap:square;stroke-linejoin:miter;stroke-width:0.8;\"/>\n   </g>\n   <g id=\"text_19\">\n    <!-- Parole con maggiore sovrapposizione lessicale -->\n    <g style=\"fill:#1b0037;\" transform=\"translate(64.411563 16.318125)scale(0.12 -0.12)\">\n     <defs>\n      <path d=\"M 1259 4147 \nL 1259 2394 \nL 2053 2394 \nQ 2494 2394 2734 2622 \nQ 2975 2850 2975 3272 \nQ 2975 3691 2734 3919 \nQ 2494 4147 2053 4147 \nL 1259 4147 \nz\nM 628 4666 \nL 2053 4666 \nQ 2838 4666 3239 4311 \nQ 3641 3956 3641 3272 \nQ 3641 2581 3239 2228 \nQ 2838 1875 2053 1875 \nL 1259 1875 \nL 1259 0 \nL 628 0 \nL 628 4666 \nz\n\" id=\"DejaVuSans-50\" transform=\"scale(0.015625)\"/>\n      <path id=\"DejaVuSans-20\" transform=\"scale(0.015625)\"/>\n      <path d=\"M 191 3500 \nL 800 3500 \nL 1894 563 \nL 2988 3500 \nL 3597 3500 \nL 2284 0 \nL 1503 0 \nL 191 3500 \nz\n\" id=\"DejaVuSans-76\" transform=\"scale(0.015625)\"/>\n      <path d=\"M 353 3500 \nL 3084 3500 \nL 3084 2975 \nL 922 459 \nL 3084 459 \nL 3084 0 \nL 275 0 \nL 275 525 \nL 2438 3041 \nL 353 3041 \nL 353 3500 \nz\n\" id=\"DejaVuSans-7a\" transform=\"scale(0.015625)\"/>\n     </defs>\n     <use xlink:href=\"#DejaVuSans-50\"/>\n     <use x=\"55.802734\" xlink:href=\"#DejaVuSans-61\"/>\n     <use x=\"117.082031\" xlink:href=\"#DejaVuSans-72\"/>\n     <use x=\"155.945312\" xlink:href=\"#DejaVuSans-6f\"/>\n     <use x=\"217.126953\" xlink:href=\"#DejaVuSans-6c\"/>\n     <use x=\"244.910156\" xlink:href=\"#DejaVuSans-65\"/>\n     <use x=\"306.433594\" xlink:href=\"#DejaVuSans-20\"/>\n     <use x=\"338.220703\" xlink:href=\"#DejaVuSans-63\"/>\n     <use x=\"393.201172\" xlink:href=\"#DejaVuSans-6f\"/>\n     <use x=\"454.382812\" xlink:href=\"#DejaVuSans-6e\"/>\n     <use x=\"517.761719\" xlink:href=\"#DejaVuSans-20\"/>\n     <use x=\"549.548828\" xlink:href=\"#DejaVuSans-6d\"/>\n     <use x=\"646.960938\" xlink:href=\"#DejaVuSans-61\"/>\n     <use x=\"708.240234\" xlink:href=\"#DejaVuSans-67\"/>\n     <use x=\"771.716797\" xlink:href=\"#DejaVuSans-67\"/>\n     <use x=\"835.193359\" xlink:href=\"#DejaVuSans-69\"/>\n     <use x=\"862.976562\" xlink:href=\"#DejaVuSans-6f\"/>\n     <use x=\"924.158203\" xlink:href=\"#DejaVuSans-72\"/>\n     <use x=\"963.021484\" xlink:href=\"#DejaVuSans-65\"/>\n     <use x=\"1024.544922\" xlink:href=\"#DejaVuSans-20\"/>\n     <use x=\"1056.332031\" xlink:href=\"#DejaVuSans-73\"/>\n     <use x=\"1108.431641\" xlink:href=\"#DejaVuSans-6f\"/>\n     <use x=\"1169.613281\" xlink:href=\"#DejaVuSans-76\"/>\n     <use x=\"1228.792969\" xlink:href=\"#DejaVuSans-72\"/>\n     <use x=\"1269.90625\" xlink:href=\"#DejaVuSans-61\"/>\n     <use x=\"1331.185547\" xlink:href=\"#DejaVuSans-70\"/>\n     <use x=\"1394.662109\" xlink:href=\"#DejaVuSans-70\"/>\n     <use x=\"1458.138672\" xlink:href=\"#DejaVuSans-6f\"/>\n     <use x=\"1519.320312\" xlink:href=\"#DejaVuSans-73\"/>\n     <use x=\"1571.419922\" xlink:href=\"#DejaVuSans-69\"/>\n     <use x=\"1599.203125\" xlink:href=\"#DejaVuSans-7a\"/>\n     <use x=\"1651.693359\" xlink:href=\"#DejaVuSans-69\"/>\n     <use x=\"1679.476562\" xlink:href=\"#DejaVuSans-6f\"/>\n     <use x=\"1740.658203\" xlink:href=\"#DejaVuSans-6e\"/>\n     <use x=\"1804.037109\" xlink:href=\"#DejaVuSans-65\"/>\n     <use x=\"1865.560547\" xlink:href=\"#DejaVuSans-20\"/>\n     <use x=\"1897.347656\" xlink:href=\"#DejaVuSans-6c\"/>\n     <use x=\"1925.130859\" xlink:href=\"#DejaVuSans-65\"/>\n     <use x=\"1986.654297\" xlink:href=\"#DejaVuSans-73\"/>\n     <use x=\"2038.753906\" xlink:href=\"#DejaVuSans-73\"/>\n     <use x=\"2090.853516\" xlink:href=\"#DejaVuSans-69\"/>\n     <use x=\"2118.636719\" xlink:href=\"#DejaVuSans-63\"/>\n     <use x=\"2173.617188\" xlink:href=\"#DejaVuSans-61\"/>\n     <use x=\"2234.896484\" xlink:href=\"#DejaVuSans-6c\"/>\n     <use x=\"2262.679688\" xlink:href=\"#DejaVuSans-65\"/>\n    </g>\n   </g>\n  </g>\n </g>\n <defs>\n  <clipPath id=\"p1aa81cf8ab\">\n   <rect height=\"217.44\" width=\"334.8\" x=\"36.465625\" y=\"22.318125\"/>\n  </clipPath>\n </defs>\n</svg>\n",
      "text/plain": [
       "<Figure size 432x288 with 1 Axes>"
      ]
     },
     "metadata": {
      "needs_background": "light"
     },
     "output_type": "display_data"
    },
    {
     "data": {
      "text/plain": [
       "(['abil',\n",
       "  'fear',\n",
       "  'face',\n",
       "  'situat',\n",
       "  'someth',\n",
       "  'allow',\n",
       "  'make',\n",
       "  'scare',\n",
       "  'danger',\n",
       "  'despit'],\n",
       " [18, 17, 9, 7, 7, 5, 4, 4, 4, 3])"
      ]
     },
     "execution_count": 713,
     "metadata": {},
     "output_type": "execute_result"
    }
   ],
   "source": [
    "plot_frequencies('Courage')"
   ]
  },
  {
   "cell_type": "markdown",
   "metadata": {
    "collapsed": false,
    "pycharm": {
     "name": "#%% md\n"
    }
   },
   "source": [
    "# Laboratorio 1.3\n",
    "## Word Sense Induction\n",
    "Si contrappone al Word Sense Disambiguation che è un problema computazionale aperto in cui si deve riconoscere il **senso** di una parola in una frase, siccome una parola può essere utilizzata con accezioni differenti.\n",
    "Il ***Word Sense Induction*** è invece basato su un meccanismo dove si uniscono due parole (creando una pseudo-word) e si da uno score se quando si itera sul corpus si incontra una delle componenti della pseudoword. Lo score può essere positivo se si ci riferisce a una componente e negativo se ci si riferisce alla seconda componente."
   ]
  },
  {
   "cell_type": "code",
   "execution_count": 714,
   "metadata": {
    "collapsed": false,
    "pycharm": {
     "name": "#%%\n"
    }
   },
   "outputs": [],
   "source": [
    "# Restituisce una lista con tutti i token distinte utilizzate\n",
    "def get_tokens(corpus): \n",
    "    words = []\n",
    "    data = pre_processing(corpus)\n",
    "\n",
    "    if type(corpus) == dict:\n",
    "        for concept in data.keys():\n",
    "            for sentence in corpus[concept]:\n",
    "                for token in corpus[concept][sentence]:\n",
    "                    if token != \"'s\":\n",
    "                        words.append(token)\n",
    "\n",
    "    elif type(data) == list:\n",
    "        for element in data:\n",
    "            if element[0] != \"'s\":\n",
    "                words.append(element[0])\n",
    "\n",
    "    return list(set(words))"
   ]
  },
  {
   "cell_type": "code",
   "execution_count": 715,
   "metadata": {},
   "outputs": [
    {
     "ename": "NameError",
     "evalue": "name 'data_extraction' is not defined",
     "output_type": "error",
     "traceback": [
      "\u001b[0;31m---------------------------------------------------------------------------\u001b[0m",
      "\u001b[0;31mNameError\u001b[0m                                 Traceback (most recent call last)",
      "\u001b[0;32m/tmp/ipykernel_209587/2807094657.py\u001b[0m in \u001b[0;36m<module>\u001b[0;34m\u001b[0m\n\u001b[0;32m----> 1\u001b[0;31m \u001b[0mprint\u001b[0m\u001b[0;34m(\u001b[0m\u001b[0mget_tokens\u001b[0m\u001b[0;34m(\u001b[0m\u001b[0mdata_extraction\u001b[0m\u001b[0;34m(\u001b[0m\u001b[0;34m)\u001b[0m\u001b[0;34m)\u001b[0m\u001b[0;34m)\u001b[0m\u001b[0;34m\u001b[0m\u001b[0;34m\u001b[0m\u001b[0m\n\u001b[0m",
      "\u001b[0;31mNameError\u001b[0m: name 'data_extraction' is not defined"
     ]
    }
   ],
   "source": [
    "print(get_tokens(data_extraction()))"
   ]
  },
  {
   "cell_type": "code",
   "execution_count": null,
   "metadata": {},
   "outputs": [],
   "source": [
    "# Restituisce un dictionary con le pseudo-words come chiavi e 0 come valori\n",
    "def generate_pseudo_words(corpus):\n",
    "    list_of_tokens = get_tokens(corpus)\n",
    "    pseudo_words = {}\n",
    "    scores = {}\n",
    "    \n",
    "    for token in range(0, len(list_of_tokens), 2):\n",
    "        try:\n",
    "            pseudo_word = list_of_tokens[token] + list_of_tokens[token + 1]\n",
    "            scores.setdefault(pseudo_word, 0)\n",
    "            pseudo_words.setdefault(pseudo_word, [list_of_tokens[token], list_of_tokens[token + 1]])\n",
    "\n",
    "        except IndexError:\n",
    "            continue\n",
    "        \n",
    "    return [scores, pseudo_words]"
   ]
  },
  {
   "cell_type": "code",
   "execution_count": null,
   "metadata": {},
   "outputs": [],
   "source": [
    "#print(generate_pseudo_words(data_extraction('dataset/db.csv'))[1])"
   ]
  },
  {
   "cell_type": "code",
   "execution_count": null,
   "metadata": {},
   "outputs": [],
   "source": [
    "# Restituisce un nuovo corpus con al posto di alcuni token i token con le pseudo-words, e in più restituisce anche una lista associativa con le pseudo-words e il loro score\n",
    "def substitute_pseudo_words(corpus, corpus_to_substitute=None):\n",
    "    corpus = pre_processing(corpus)\n",
    "    corpus_to_substitute = pre_processing(corpus_to_substitute)\n",
    "    new_corpus = {}\n",
    "    pseudo_words_dictionary = generate_pseudo_words(data_extraction('dataset/db.csv'))[0]\n",
    "    pseudo_words_map = generate_pseudo_words(data_extraction('dataset/db.csv'))[1]\n",
    "\n",
    "\n",
    "    if type(corpus) == dict:\n",
    "\n",
    "        for concept in corpus.keys():\n",
    "            new_corpus.setdefault(concept, {})\n",
    "            \n",
    "            for definition_number in corpus[concept]: \n",
    "\n",
    "                if definition_number not in new_corpus[concept].keys():\n",
    "                    new_corpus[concept].setdefault(definition_number, [])\n",
    "                    \n",
    "                    \n",
    "                for token in corpus[concept][definition_number]:\n",
    "                    keys = list(pseudo_words_map.keys())\n",
    "                    combined = '\\t'.join(keys)\n",
    "                    if token in combined:\n",
    "                        pseudo_word = [pseudo_word for pseudo_word in keys if token in pseudo_word][0]\n",
    "\n",
    "                        # Se la parola la prima parola che compone la pseudo-word è contenuta nella pseudo-word allora si aggiunge 1\n",
    "                        if token in pseudo_words_map[pseudo_word][0]:\n",
    "                            pseudo_words_dictionary[pseudo_word] += 1\n",
    "                        else: \n",
    "                            pseudo_words_dictionary[pseudo_word] -= 1   \n",
    "\n",
    "                        if pseudo_word != '':\n",
    "                            token = token.replace(token, pseudo_word)\n",
    "\n",
    "                    new_corpus[concept][definition_number].append(token)\n",
    "\n",
    "    \n",
    "    \n",
    "    elif type(corpus) == list:\n",
    "        for element in corpus:\n",
    "            token = element[0]\n",
    "            keys = list(pseudo_words_dictionary.keys())\n",
    "            combined = '\\t'.join(keys)\n",
    "            if token in combined:\n",
    "                pseudo_word = [pseudo_word for pseudo_word in keys if token in pseudo_word][0]\n",
    "\n",
    "                # Se la parola la prima parola che compone la pseudo-word è contenuta nella pseudo-word allora si aggiunge 1\n",
    "                try:\n",
    "                    if token in pseudo_words_map[pseudo_word][0]:\n",
    "                        pseudo_words_dictionary[pseudo_word] += 1\n",
    "\n",
    "                except KeyError:\n",
    "                    pseudo_words_dictionary.setdefault(pseudo_word, 1)\n",
    "\n",
    "                try:\n",
    "                    if token in pseudo_words_map[pseudo_word][1]:\n",
    "                        pseudo_words_dictionary[pseudo_word] -= 1\n",
    "\n",
    "                except KeyError:\n",
    "                    pseudo_words_dictionary.setdefault(pseudo_word, -1)\n",
    "\n",
    "                if pseudo_word != '':\n",
    "                    token = token.replace(token, pseudo_word)\n",
    "\n",
    "            for concept in corpus_to_substitute.keys():\n",
    "                if concept not in new_corpus.keys():\n",
    "                    new_corpus.setdefault(concept, {})\n",
    "\n",
    "\n",
    "                for definition_number in corpus_to_substitute[concept]:\n",
    "                    new_definition = []\n",
    "\n",
    "                    # Ogni token viene sostituito con la pseudoword che contiene il token\n",
    "                    for token in corpus_to_substitute[concept][definition_number]:\n",
    "                        if token in pseudo_word:\n",
    "                            #print(f\"{token} - {pseudo_word[:len(token)]}\")\n",
    "\n",
    "                            token = token.replace(token, pseudo_word)\n",
    "\n",
    "                        new_definition.append(token)\n",
    "                    new_corpus[concept].setdefault(definition_number, new_definition)\n",
    "\n",
    "    return [new_corpus, pseudo_words_dictionary]           "
   ]
  },
  {
   "cell_type": "code",
   "execution_count": null,
   "metadata": {},
   "outputs": [
    {
     "data": {
      "text/plain": [
       "[{'Courage': {0: ['situat',\n",
       "    'feel',\n",
       "    'ani',\n",
       "    'fear',\n",
       "    'face',\n",
       "    'allow',\n",
       "    'properti',\n",
       "    'despit'],\n",
       "   1: ['unpleas', 'someth', 'scar', 'us', 'fear', 'face', 'abil', 'make'],\n",
       "   2: ['fear', 'face', 'abil', 'thing', 'without'],\n",
       "   4: ['situat', 'face', 'thaht', 'allow', 'strength', 'particular', 'inner'],\n",
       "   5: ['control', 'fear', 'abil'],\n",
       "   6: ['unpleas', 'someth', 'fear', 'abil', 'control', 'deal'],\n",
       "   7: ['fear', 'action', 'abil', 'take', 'riski', 'avoid'],\n",
       "   8: ['abili', 'fear', 'action', 'take', 'choic', 'make', 'without'],\n",
       "   9: ['someth', 'abl', 'fear'],\n",
       "   10: ['someth', 'frighten', 'abil', 'despit'],\n",
       "   11: ['someth', 'peopl', 'scare', 'abil'],\n",
       "   13: ['situat', 'feel', 'us', 'danger', 'face', 'allow', 'consid'],\n",
       "   14: ['someth', 'may', 'abil', 'scari'],\n",
       "   15: ['choic', 'make', 'drastic', 'abil'],\n",
       "   16: ['overcom', 'fear', 'abil'],\n",
       "   17: ['person', 'characterist', 'risk', 'take'],\n",
       "   18: ['qualiti', 'general', 'danger', 'abl', 'thing', 'scare'],\n",
       "   19: ['behavior', 'hero', 'typic'],\n",
       "   20: ['difficult', 'situat', 'face', 'abil'],\n",
       "   21: ['someth', 'peopl', 'fear', 'abil'],\n",
       "   22: ['situat', 'mind', 'face', 'allow', 'strength', 'difficult'],\n",
       "   23: ['one', \"'s\", 'fear', 'face', 'abil'],\n",
       "   24: ['block', 'fear', 'abil'],\n",
       "   25: ['expect', 'beyond', 'go', 'allow', 'emot', 'someon'],\n",
       "   26: ['perform', 'fear', 'danger', 'abil', 'act', 'despit'],\n",
       "   27: ['difficulti',\n",
       "    'moral',\n",
       "    'ventur',\n",
       "    'fear',\n",
       "    'danger',\n",
       "    'mental',\n",
       "    'strength',\n",
       "    'persever',\n",
       "    'withstand'],\n",
       "   28: ['situat', 'resist', 'fear', 'abil', 'scare', 'provok'],\n",
       "   29: ['overcom', 'fear', 'abil'],\n",
       "   30: ['situat', 'overcom', 'fear', 'face', 'abil', 'difficult'],\n",
       "   31: ['aptitud', 'abl', 'human', 'scare', 'make']},\n",
       "  'Paper': {0: ['fold', 'cellulos', 'written', 'cut', 'materi'],\n",
       "   1: ['tree', 'context', 'use', 'sever', 'materi', 'deriv'],\n",
       "   2: ['cellulos', 'made', 'materi', 'type'],\n",
       "   4: ['product', 'obtain', 'cellulos', 'write', 'wood', 'use'],\n",
       "   5: ['made', 'flat', 'write', 'wood', 'use', 'materi'],\n",
       "   6: ['especi',\n",
       "    'one',\n",
       "    'piec',\n",
       "    'done',\n",
       "    'subject',\n",
       "    'student',\n",
       "    'short',\n",
       "    'univers',\n",
       "    'write',\n",
       "    'particular'],\n",
       "   7: ['tree', 'write', 'use', 'materi', 'deriv'],\n",
       "   8: [\"'s\", 'obtain', 'cortex', 'tree', 'materi'],\n",
       "   9: ['note', 'take', 'wood', 'use', 'craft', 'materi'],\n",
       "   10: ['write', 'thin', 'object', 'easili'],\n",
       "   11: ['made', 'materi', 'write', 'print', 'wood', 'use', 'draw', 'packag'],\n",
       "   13: ['product', 'general', 'cellulos', 'write', 'compos', 'use'],\n",
       "   14: ['write', 'surfac'],\n",
       "   15: ['draw', 'write', 'possibl', 'materi'],\n",
       "   16: ['write', 'materi'],\n",
       "   17: ['tree', 'obtain', 'materi'],\n",
       "   18: ['general', 'obtain', 'write', 'wood', 'use', 'materi'],\n",
       "   19: ['written', 'medium', 'communic'],\n",
       "   20: ['someth', 'write'],\n",
       "   21: ['materi', 'made', 'thin', 'cellulos'],\n",
       "   22: ['compos', 'materi', 'cellulos'],\n",
       "   23: ['multipl', 'purpos', 'obtain', 'wood', 'use', 'materi'],\n",
       "   24: ['use', 'write', 'materi'],\n",
       "   25: ['avail', 'write', 'materi'],\n",
       "   26: ['tree', 'product', \"'s\", 'cellulos'],\n",
       "   27: ['felt',\n",
       "    'suspens',\n",
       "    'laid',\n",
       "    'fine',\n",
       "    'screen',\n",
       "    'sheet',\n",
       "    'fiber',\n",
       "    'usual',\n",
       "    'veget',\n",
       "    'water'],\n",
       "   28: ['use', 'print', 'handwrit', 'materi'],\n",
       "   29: ['use', 'write', 'materi'],\n",
       "   30: ['lightweight', 'rip', 'write', 'use', 'materi', 'easi'],\n",
       "   31: ['one', 'store', 'retriev', 'kind', 'inform', 'materi']},\n",
       "  'Apprehension': {0: ['feel',\n",
       "    'normal',\n",
       "    'someth',\n",
       "    'strang',\n",
       "    'veri',\n",
       "    'differ',\n",
       "    'abnorm',\n",
       "    'caus'],\n",
       "   1: ['expect', 'fear', 'anticip'],\n",
       "   2: ['one', 'feel', 'agit', 'mood'],\n",
       "   4: ['disturb', 'state'],\n",
       "   5: ['worri', 'futur'],\n",
       "   6: ['someth', 'way', 'act', 'understand', 'understood'],\n",
       "   7: ['state', 'event', 'mind', 'unaccommod', 'non-relax', 'deriv'],\n",
       "   8: ['loss', 'fear', 'awe', 'sad', 'sens'],\n",
       "   9: ['situat',\n",
       "    'feel',\n",
       "    'uncofort',\n",
       "    'someth',\n",
       "    'person',\n",
       "    'mental',\n",
       "    'status',\n",
       "    'make'],\n",
       "   10: ['one', 'state', 'frighten', 'mind'],\n",
       "   11: ['anxieti', 'someth', 'fear', 'bad', 'unexpect', 'happen'],\n",
       "   13: ['anxieti', 'state', 'mental', 'high'],\n",
       "   14: ['someth', 'someon', 'feel', 'preoccup'],\n",
       "   15: ['state', 'feel', 'person', 'fear', 'emot'],\n",
       "   16: ['someth', 'happen', 'feel', 'bad'],\n",
       "   17: ['person', 'emot', 'negat'],\n",
       "   18: ['character', 'anxieti', 'fear', 'mental', 'status'],\n",
       "   19: ['brutto', 'paura', 'ansia', 'accada', 'qualcosa', 'spiacevol'],\n",
       "   20: ['anxieti', 'fear', 'constant'],\n",
       "   21: ['anxieti', 'fear', 'feel'],\n",
       "   22: ['anxieti', 'state', 'mind', 'upset'],\n",
       "   23: ['agit', 'mood', 'nervous'],\n",
       "   24: ['learn', 'pathway'],\n",
       "   25: ['uneas', 'feel'],\n",
       "   26: ['unpleas', 'anxieti', 'someth', 'fear', 'bad', 'happen'],\n",
       "   27: ['unpleas', 'anxieti', 'someth', 'fear', 'bad', 'happen'],\n",
       "   28: ['fear', 'discomfort', 'feel'],\n",
       "   29: ['anxieti', 'happen', 'someth', 'unpleas'],\n",
       "   30: ['state', 'situat', 'anxieti', 'fear', 'particular'],\n",
       "   31: ['experi', 'emot', 'make', 'agit', 'restless']},\n",
       "  'Sharpener': {0: ['equip',\n",
       "    'tool',\n",
       "    'blade',\n",
       "    'allow',\n",
       "    'tip',\n",
       "    'sharpen',\n",
       "    'pencil'],\n",
       "   1: ['use', 'shapen', 'object', 'pencil'],\n",
       "   2: ['object', 'sharpen', 'pencil'],\n",
       "   4: ['use', 'tool', 'sharpen', 'pencil'],\n",
       "   5: ['object', 'allow', 'sharpen', 'pencil', 'littl'],\n",
       "   6: ['someth', 'sharper', 'tool', 'make'],\n",
       "   7: ['tool', 'use', 'tip', 'pencil', 'cut'],\n",
       "   8: ['sharpner', 'mine', 'tool', 'make'],\n",
       "   9: ['use', 'tool', 'sharpen', 'pencil'],\n",
       "   10: ['object', 'sharpen', 'allow', 'pencil'],\n",
       "   11: ['object', 'write', 'sharpen', 'pencil', 'use'],\n",
       "   13: ['tool', 'blade', 'sharpen', 'pencil', 'use'],\n",
       "   14: ['tool', 'sharpen', 'pencil'],\n",
       "   15: ['tool', 'sharpen', 'pencil'],\n",
       "   16: ['tool', 'sharpen', 'pencil'],\n",
       "   17: ['object', 'sharpen', 'allow', 'pencil'],\n",
       "   18: ['use', 'tool', 'sharpen', 'pencil'],\n",
       "   19: ['sharp', 'someth', 'person', 'devic', 'make'],\n",
       "   20: ['use', 'object', 'sharpen', 'pencil'],\n",
       "   21: ['use', 'object', 'sharpen', 'pencil'],\n",
       "   22: ['graphit', 'object', 'stationeri', 'smooth', 'use'],\n",
       "   23: ['use', 'tool', 'sharpen', 'pencil'],\n",
       "   24: ['object', 'lead', 'sharpen', 'pencil', 'use'],\n",
       "   25: ['return', 'object', 'work', 'order', 'pencil'],\n",
       "   26: ['sharp', 'tool', 'make', 'pencil'],\n",
       "   27: ['sharp', 'someth', 'person', 'devic', 'make'],\n",
       "   28: ['refin', 'tool', 'end', 'creat', 'pencil', 'use', 'edg'],\n",
       "   29: ['use', 'tool', 'sharpen', 'pencil'],\n",
       "   30: ['object', 'mine', 'write', 'pencil', 'use'],\n",
       "   31: ['tool', 'use', 'make', 'pencil', 'clearer', 'mark']}},\n",
       " {'setonharv': 29,\n",
       "  'didrexobituary': -29,\n",
       "  'chathamwichita': 15,\n",
       "  'limerickemail': 21,\n",
       "  'tribunepete': -31,\n",
       "  'tamilreeves': 0,\n",
       "  'archivedpenn': 0,\n",
       "  'yeovilbingo': -14,\n",
       "  'buckyguitar': 0,\n",
       "  'episoderemus': 0,\n",
       "  'nataleestateroom': 0,\n",
       "  'breedersdiethylpropion': 0,\n",
       "  'joshhousemate': 10,\n",
       "  'belgradep': 1,\n",
       "  'gaavale': 0,\n",
       "  'seasonastros': 0,\n",
       "  'hindwingremake': 0,\n",
       "  'zxinjiang': 6,\n",
       "  'icanncybertron': 0,\n",
       "  'nathanign': 0,\n",
       "  'broadcastdwarve': 0,\n",
       "  'triocontestant': 0,\n",
       "  'kinoub': 1,\n",
       "  'trivotril': -1,\n",
       "  'cs1roster': 0,\n",
       "  'stationmna': 0,\n",
       "  'collieryisabel': 0,\n",
       "  'zoomshiflett': -22,\n",
       "  'kentuckyu': 1,\n",
       "  'gamingh': 1,\n",
       "  'xenahist': 0,\n",
       "  'galwayrafa': 0,\n",
       "  'iuyghur': -1,\n",
       "  'canuckf': 1,\n",
       "  'espnpradesh': 0,\n",
       "  'nswauthors': 0,\n",
       "  'palintna': 0,\n",
       "  'منritalin': 0,\n",
       "  'remixeyusuke': 0,\n",
       "  'pikmincomedy': 0,\n",
       "  'larabeesabha': 0,\n",
       "  'nrlltte': 0,\n",
       "  'gitweblog': 0,\n",
       "  'koyofilms': -1,\n",
       "  'upcraider': 0,\n",
       "  'wcodivisión': -1,\n",
       "  'sonnykoopa': 0,\n",
       "  'colombojesse': 0,\n",
       "  'derekvoldemort': 0,\n",
       "  'baseballjstor': 0,\n",
       "  'lb3hannity': 0,\n",
       "  'mlnc': 1,\n",
       "  'jasonbutalbital': 0,\n",
       "  'allmusicfic': 0,\n",
       "  'namesn': 1,\n",
       "  'dkiba': -2,\n",
       "  'prefecturecubs': 0,\n",
       "  'eduardctv': 0,\n",
       "  'bellatoressex': 1,\n",
       "  'repriseusr': 0,\n",
       "  'wilmingtonpayout': 0,\n",
       "  'mikeboots': 0,\n",
       "  'guwahatiwelterweight': 1,\n",
       "  'nebraskahanover': 0,\n",
       "  'northboundjakarta': 0,\n",
       "  'combstexans': 0,\n",
       "  'ubfdiff': 0,\n",
       "  'riffcornerback': 0,\n",
       "  'giulianisprite': 0,\n",
       "  'nadudarren': 0,\n",
       "  'sydneymla': 0,\n",
       "  'joséchristchurch': 0,\n",
       "  'treokor': 0,\n",
       "  'issngig': 0,\n",
       "  'giantssofia': 0,\n",
       "  'jackpotroyals': 0,\n",
       "  'covidginny': 0,\n",
       "  'thunbergdorchester': 0,\n",
       "  'toyspatrick': 0,\n",
       "  'harlankirby': 0,\n",
       "  'duetmorales': 0,\n",
       "  'tamiyadodgers': 0,\n",
       "  'shifflettcodeine': 0,\n",
       "  'ativaninara': 0,\n",
       "  'archibaldpiroxicam': 0,\n",
       "  'romanianpac-12': 0,\n",
       "  'libbatman': 0,\n",
       "  'pradainflorescence': 0,\n",
       "  'decodercostello': 1,\n",
       "  'rushdenorton': 0,\n",
       "  'starscreamo': 1,\n",
       "  'manorbettor': 0,\n",
       "  'singulairsolo': 0,\n",
       "  'comparatorlions': 0,\n",
       "  'co-writencaa': 0,\n",
       "  'contribmanga': 0,\n",
       "  'idahosesshomaru': 0,\n",
       "  'downloadsamiga': 0,\n",
       "  'playoffmick': 0,\n",
       "  'cowboysع': 0,\n",
       "  'juneagrave': 0,\n",
       "  'cfiajpg': 0,\n",
       "  'b-sideفي': 0,\n",
       "  'fagsongwriter': -1,\n",
       "  'māorialbum': 0,\n",
       "  'decwario': -1,\n",
       "  'alfordauburn': 0,\n",
       "  'kerryargentine': 0,\n",
       "  'upibella': 1,\n",
       "  'disambiguationnashville': 0,\n",
       "  'longhornrepresentatives': 0,\n",
       "  'regimentsynopsis': 0,\n",
       "  'archivespremarin': 0,\n",
       "  'elfw': 1,\n",
       "  'strikeoutbroadband': -1,\n",
       "  'multiplexercreek': 0,\n",
       "  'homelessnessuab': 0,\n",
       "  'pngindicia': 0,\n",
       "  'uwakeanu': -1,\n",
       "  'shipyardin-person': 0,\n",
       "  'kibavas': -1,\n",
       "  'wayne摘要': 0,\n",
       "  'jdinterment': 0,\n",
       "  'loyolakarnataka': 0,\n",
       "  'lj': 0,\n",
       "  'ólegolas': -1,\n",
       "  'loistags': 0,\n",
       "  'gspock': -1,\n",
       "  'oriolesm': 1,\n",
       "  'afcfootballer': 0,\n",
       "  'rahulnoel': 0,\n",
       "  'toddfemdom': 0,\n",
       "  'ufcgore': 0,\n",
       "  'awarddolly': 0,\n",
       "  'cenakuwabara': 0,\n",
       "  'buttigiegpages': 0,\n",
       "  'medalsussex': 0,\n",
       "  'quarantinepercocet': 0,\n",
       "  'obi-wanbactrim': 0,\n",
       "  'decembertrig': 0,\n",
       "  'cemeterymax': 0,\n",
       "  'bahrainblair': 0,\n",
       "  'welshlevothyroxine': 0,\n",
       "  's10re-elect': 0,\n",
       "  'brucehms': 0,\n",
       "  'baccaratguitarist': 0,\n",
       "  'quarterbacktournament': 0,\n",
       "  'broncomodi': 0,\n",
       "  'zellxpress': 0,\n",
       "  'alotofserie': 0,\n",
       "  'railwayarts': 0,\n",
       "  'ziprecruitera': 1,\n",
       "  'batsmansquall': 0,\n",
       "  'newchurchwellington': 0,\n",
       "  'first-classugrave': 0,\n",
       "  'pluralityscreenplay': 0,\n",
       "  'klamathvocal': 0,\n",
       "  'mpsino': 1,\n",
       "  'radiovin': 0,\n",
       "  'vdrummer': -1,\n",
       "  'bassisthughesnet': 0,\n",
       "  'londonderrydisplaystyle': 0,\n",
       "  'adirondackemmett': 0,\n",
       "  'whereinpremiere': 0,\n",
       "  'zohoororo': 0,\n",
       "  'spxwildblue': 0,\n",
       "  'seanfacesitting': 0,\n",
       "  'erikdoyle': 0,\n",
       "  'bahamaswinning': 0,\n",
       "  'norcowiki': 0,\n",
       "  'tenuaterotatable': 0,\n",
       "  'tipperaryipfw': 0,\n",
       "  'starfleetno-deal': 0,\n",
       "  'squadronhinata': 0,\n",
       "  'drewtelangana': 0,\n",
       "  'wwefreecad': 0,\n",
       "  'boulevardemini': 0,\n",
       "  'riscs': 1,\n",
       "  'riverapinyin': 0,\n",
       "  'undefeatedblackjack': 0,\n",
       "  'ïmilwaukee': 0,\n",
       "  'rbicharlotte': 0,\n",
       "  'hemorrhoidco-production': 0,\n",
       "  'paylineadipex': 0,\n",
       "  'linebackerbulgarian': 0,\n",
       "  'kennyjanuary': 0,\n",
       "  'unswimpeachment': 0,\n",
       "  'booksphp': 0,\n",
       "  'boisebearings': 0,\n",
       "  'apparatusrepec': 0,\n",
       "  'self-titledglabrous': 0,\n",
       "  'novellأن': 0,\n",
       "  'kakashib': 1,\n",
       "  'uconnkagome': 0,\n",
       "  'saxophonistskyrim': 0,\n",
       "  'blueecarrie': 0,\n",
       "  'cheneyslot': 0,\n",
       "  'abilifyy': 1,\n",
       "  'shopsflagyl': 0,\n",
       "  'circuitryexede': 0,\n",
       "  'seahawksx': 1,\n",
       "  'wesnothre-election': 0,\n",
       "  'moreexpand_morebbc': 0,\n",
       "  'bushfireband': 1,\n",
       "  'lizdistrict': 0,\n",
       "  'alexcelina': 0,\n",
       "  'gaeldonegal': 0,\n",
       "  'figliam': 0,\n",
       "  'recordsoptimus': 0,\n",
       "  'u-mr': 1,\n",
       "  'joranrunner-up': 0,\n",
       "  'lieutenantinaugural': 0,\n",
       "  'oclck': 1,\n",
       "  'baronetspongebob': 0,\n",
       "  'unairish': 0,\n",
       "  'great-grandchildfayette': 0,\n",
       "  'eflip-flop': -1,\n",
       "  'avonembodiment': 0,\n",
       "  'ezrafandom': 0,\n",
       "  'reopennée': 0,\n",
       "  'temazepamskor': 0,\n",
       "  'synthroidcaller': 0,\n",
       "  'periactinyankees': 0,\n",
       "  'hoodiatributary': 0,\n",
       "  'retrieveoblast': 0,\n",
       "  'microprocessorpass4sure': 0,\n",
       "  'tannersena': 0,\n",
       "  'pfassong': 1,\n",
       "  'murfreesborojoker': 0,\n",
       "  'doikeno': 0,\n",
       "  'distancingtennessee': 0,\n",
       "  'igemobverse': 0,\n",
       "  'wrestleregrave': 0,\n",
       "  'luigihasbro': 0,\n",
       "  'moverilleg': 0,\n",
       "  'belfastwebinar': 0,\n",
       "  'coltdublin': 0,\n",
       "  'wyzantmccain': 0,\n",
       "  'septemberwaterford': 0,\n",
       "  'sgmlfuselage': 0,\n",
       "  'wolverinehampshire': 0,\n",
       "  'floydmario': 0,\n",
       "  'filmall-star': -1,\n",
       "  'mayorhydrocodone': 0,\n",
       "  'kahlobumblebee': 0,\n",
       "  'irelandhubert': 0,\n",
       "  'octobercounty': 0,\n",
       "  'latinxeviction': 0,\n",
       "  'tortolapitcher': 0,\n",
       "  'vflconductive': 0,\n",
       "  'nolvadexvoivodeship': 0,\n",
       "  'rookielansing': 0,\n",
       "  'venezuelamanitoba': 0,\n",
       "  'safetylitbiographical': 0,\n",
       "  'agnesproductions': 0,\n",
       "  'ephedrinebarcode': 0,\n",
       "  'josiahbarr': 0,\n",
       "  'baronywsu': 0,\n",
       "  'gulesco-wrote': 0,\n",
       "  'billboardbelarusian': 0,\n",
       "  'regattapaperback': 0,\n",
       "  'heloviawuhan': 0}]"
      ]
     },
     "execution_count": 41,
     "metadata": {},
     "output_type": "execute_result"
    }
   ],
   "source": [
    "substitute_pseudo_words(data_extraction('dataset/db.csv'), data_extraction())"
   ]
  },
  {
   "cell_type": "code",
   "execution_count": null,
   "metadata": {},
   "outputs": [],
   "source": [
    "# Score to probability\n",
    "def score_converter(score, scores_dictionary):\n",
    "    temp = []\n",
    "    rate = 0.00\n",
    "\n",
    "    for value in scores_dictionary.values():\n",
    "        temp.append(value)\n",
    "    \n",
    "    pos_max_score = max(temp)\n",
    "    neg_max_score = min(temp)\n",
    "\n",
    "    # Percentuale di quanto lo score è positivo (1.0 se è uguale al massimo)\n",
    "    if score > 0:\n",
    "        rate = score / pos_max_score\n",
    "\n",
    "    elif score < 0:\n",
    "        # Percentuale di quanto lo score è negativo (1.0 se è uguale al massimo)\n",
    "        rate = score / neg_max_score\n",
    "        \n",
    "    rate = round(rate, 2)\n",
    "    return rate\n"
   ]
  },
  {
   "cell_type": "code",
   "execution_count": null,
   "metadata": {},
   "outputs": [
    {
     "data": {
      "text/plain": [
       "0.32"
      ]
     },
     "execution_count": 43,
     "metadata": {},
     "output_type": "execute_result"
    }
   ],
   "source": [
    "score_converter(-10, substitute_pseudo_words(data_extraction('dataset/db.csv'), data_extraction())[1])"
   ]
  },
  {
   "cell_type": "code",
   "execution_count": null,
   "metadata": {},
   "outputs": [],
   "source": [
    "def wsi(target_corpus, scores, pseudo_words):\n",
    "\n",
    "    for concept in target_corpus.keys():\n",
    "        for index in target_corpus[concept]:\n",
    "            for token_index in range(len(target_corpus[concept][index])):\n",
    "                token = target_corpus[concept][index][token_index]\n",
    "\n",
    "                if token in scores.keys():\n",
    "                    pseudo_word = pseudo_words[token]\n",
    "\n",
    "                    score = scores[token]\n",
    "\n",
    "                    if score > 0:\n",
    "                        target_corpus[concept][index][token_index] = token.replace(token, pseudo_word[0]) \n",
    "\n",
    "                    elif score == 0:\n",
    "                        random_index = random.randint(0, 1)\n",
    "                        target_corpus[concept][index][token_index] = token.replace(token, pseudo_word[random_index]) \n",
    "\n",
    "                    else: \n",
    "                        target_corpus[concept][index][token_index] = token.replace(token, pseudo_word[1]) \n",
    "\n",
    "    return target_corpus"
   ]
  },
  {
   "cell_type": "code",
   "execution_count": null,
   "metadata": {},
   "outputs": [],
   "source": [
    "def wsi2(target_corpus, scores, pseudo_words):\n",
    "\n",
    "    for concept in target_corpus.keys():\n",
    "        for index in target_corpus[concept]:\n",
    "            for token_index in range(len(target_corpus[concept][index])):\n",
    "                token = target_corpus[concept][index][token_index]\n",
    "\n",
    "                if token in scores.keys():\n",
    "                    pseudo_word = pseudo_words[token]\n",
    "\n",
    "                    score = scores[token]\n",
    "\n",
    "                    rate = score_converter(score, substitute_pseudo_words(data_extraction())[1])\n",
    "                    rnd = random.randint(0.00, 1.00)\n",
    "\n",
    "                    if score > 0:\n",
    "                        if rate > rnd:\n",
    "                            target_corpus[concept][index][token_index] = token.replace(token, pseudo_word[0]) \n",
    "                        else:\n",
    "                            target_corpus[concept][index][token_index] = token.replace(token, pseudo_word[1]) \n",
    "\n",
    "                    elif score == 0:\n",
    "                        random_index = random.randint(0, 1)\n",
    "                        target_corpus[concept][index][token_index] = token.replace(token, pseudo_word[random_index]) \n",
    "\n",
    "                    else: \n",
    "                        if rate > rnd:\n",
    "                            target_corpus[concept][index][token_index] = token.replace(token, pseudo_word[0]) \n",
    "                        else:\n",
    "                            target_corpus[concept][index][token_index] = token.replace(token, pseudo_word[1]) \n",
    "\n",
    "    return target_corpus"
   ]
  },
  {
   "cell_type": "code",
   "execution_count": null,
   "metadata": {},
   "outputs": [],
   "source": [
    "def eval(wsi_corpus, real_corpus):\n",
    "    real_corpus = pre_processing(real_corpus)\n",
    "    right_previsions = 0\n",
    "    total = 0\n",
    "    for concept in real_corpus.keys():\n",
    "        for index in real_corpus[concept]:\n",
    "            for token_index in range(len(real_corpus[concept][index])):\n",
    "                token = real_corpus[concept][index][token_index]\n",
    "                \n",
    "                if token == wsi_corpus[concept][index][token_index]:\n",
    "                    right_previsions += 1\n",
    "                    \n",
    "                total += 1\n",
    "    accuracy = right_previsions / total\n",
    "\n",
    "    return accuracy"
   ]
  },
  {
   "cell_type": "code",
   "execution_count": null,
   "metadata": {},
   "outputs": [],
   "source": [
    "# Main\n",
    "input_corpus = substitute_pseudo_words(data_extraction())[0]\n",
    "\n",
    "scores = substitute_pseudo_words(data_extraction('dataset/db.csv'), data_extraction())[1]\n",
    "\n",
    "pseudo_words = generate_pseudo_words(data_extraction('dataset/db.csv'))[1]\n",
    "\n",
    "wsi_corpus = wsi2(input_corpus, scores, pseudo_words)\n",
    "\n",
    "accuracy = eval(wsi_corpus, data_extraction())"
   ]
  },
  {
   "cell_type": "code",
   "execution_count": null,
   "metadata": {},
   "outputs": [
    {
     "name": "stdout",
     "output_type": "stream",
     "text": [
      "0.77\n"
     ]
    }
   ],
   "source": [
    "print(round(accuracy, 2))"
   ]
  }
 ],
 "metadata": {
  "interpreter": {
   "hash": "e7370f93d1d0cde622a1f8e1c04877d8463912d04d973331ad4851f04de6915a"
  },
  "kernelspec": {
   "display_name": "Python 3.9.7 64-bit",
   "name": "python3"
  },
  "language_info": {
   "codemirror_mode": {
    "name": "ipython",
    "version": 3
   },
   "file_extension": ".py",
   "mimetype": "text/x-python",
   "name": "python",
   "nbconvert_exporter": "python",
   "pygments_lexer": "ipython3",
   "version": "3.9.7"
  }
 },
 "nbformat": 4,
 "nbformat_minor": 5
}
