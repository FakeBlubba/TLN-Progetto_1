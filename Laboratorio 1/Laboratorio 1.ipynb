{
 "cells": [
  {
   "cell_type": "markdown",
   "metadata": {
    "collapsed": false
   },
   "source": [
    "# Laboratorio 1.1\n",
    "## Calcolare la similarità nelle definizioni dei 4 concetti del dataset\n",
    "\n"
   ]
  },
  {
   "cell_type": "code",
   "execution_count": 132,
   "id": "69d051cc",
   "metadata": {},
   "outputs": [],
   "source": [
    "# python -m IPython notebook\n",
    "from nltk import word_tokenize, SnowballStemmer\n",
    "from nltk.corpus import stopwords, words\n",
    "import string\n",
    "import pandas as pd\n",
    "import time\n",
    "import random\n",
    "import matplotlib.pylab as plt\n",
    "start_time = time.time()\n",
    "\n",
    "snow_stemmer = SnowballStemmer(language='english')\n",
    "\n",
    "# Crea la variabile stop_words con le stop word e con la punteggiatura\n",
    "stop_words = set(stopwords.words('english'))\n",
    "stop_words.update(set(stopwords.words('italian')))\n",
    "stop_words.update(set(string.punctuation))\n",
    "\n",
    "def output_message(o=None):\n",
    "    if o:\n",
    "        print('\\n ------------------------------------------------------------------------------------------------------------------\\n Output - ' + str(o) + ' ------------------------------------------------------------------------------------------------------------------ ') \n",
    "        print(\"Tempo di esecuzione: %s secondi. \" % round((time.time() - start_time),3))\n",
    "    else:\n",
    "        print('\\n ------------------------------------------------------------------------------------------------------------------\\n Tempo di esecuzione: %s secondi. ---------------------------------------------------------------------------------------------------------------- ' % round((time.time() - start_time),2))"
   ]
  },
  {
   "cell_type": "markdown",
   "id": "0098597a",
   "metadata": {},
   "source": [
    "# Pre-Processing\n",
    "## 1. Definizione della funzione per l'estrazione delle informazioni dalla base di dati"
   ]
  },
  {
   "cell_type": "code",
   "execution_count": 133,
   "id": "d6390192",
   "metadata": {},
   "outputs": [],
   "source": [
    "media = {}           # Dictionary che conterrà la media aritmetica della lunghezza di ogni definizione per ogni concetto\n",
    "\n",
    "def data_extraction(path='dataset/defs.csv'):\n",
    "    if path == 'dataset/defs.csv':\n",
    "        df = pd.read_csv(path, header=0)\n",
    "        df = df.dropna()\n",
    "        df.drop(['Partecipante'],axis=1,inplace=True)\n",
    "        data = df.to_dict()\n",
    "\n",
    "    elif 'dataset/db.csv':\n",
    "        df = pd.read_csv(path, header=0, sep=',')\n",
    "        data = df.values.tolist()\n",
    "\n",
    "    return data"
   ]
  },
  {
   "cell_type": "markdown",
   "metadata": {
    "collapsed": false,
    "pycharm": {
     "name": "#%% md\n"
    }
   },
   "source": [
    "## 2. Definizione della funzione per la pulitura dell'input\n",
    "La funzione restituirà un dictionary innestato di questo tipo `{Concetto: {utente 0: [definizione tokenizzata e stemmatizzata]}}`"
   ]
  },
  {
   "cell_type": "code",
   "execution_count": 134,
   "metadata": {
    "collapsed": false,
    "pycharm": {
     "name": "#%%\n"
    }
   },
   "outputs": [],
   "source": [
    "def sort_indexes(data):\n",
    "    defs = {}\n",
    "\n",
    "    for concept in data.keys():\n",
    "        i = 0\n",
    "        defs.setdefault(concept,{})\n",
    "        for index in data[concept]:\n",
    "            defs[concept].setdefault(i, data[concept][index])\n",
    "            i += 1\n",
    "    return defs"
   ]
  },
  {
   "cell_type": "code",
   "execution_count": 135,
   "metadata": {
    "collapsed": false,
    "pycharm": {
     "name": "#%%\n"
    }
   },
   "outputs": [],
   "source": [
    "def pre_processing(data):\n",
    "    \n",
    "    if type(data) == list:\n",
    "        for element in range(len(data)):\n",
    "            token = word_tokenize(data[element][0].lower())\n",
    "            token = snow_stemmer.stem(token[0])\n",
    "            del data[element]\n",
    "            data.append(token)\n",
    "\n",
    "    elif type(data) == dict:\n",
    "\n",
    "        for names in data.keys():\n",
    "            for index in data[names]:\n",
    "                data[names][index] = word_tokenize(data[names][index].lower())\n",
    "                data[names][index] = list(set([snow_stemmer.stem(word) for word in data[names][index] if word not in stop_words or word != \"'s\"]) - stop_words)\n",
    "\n",
    "    return data"
   ]
  },
  {
   "cell_type": "markdown",
   "metadata": {
    "collapsed": false,
    "pycharm": {
     "name": "#%% md\n"
    }
   },
   "source": [
    "## Esecuzione delle funzioni dichiarate"
   ]
  },
  {
   "cell_type": "code",
   "execution_count": 136,
   "metadata": {
    "collapsed": false,
    "pycharm": {
     "name": "#%%\n"
    }
   },
   "outputs": [],
   "source": [
    "start_time = time.time()\n",
    "# Estrazione dei dati dei concetti in un dictionary\n",
    "data = sort_indexes(data_extraction())\n",
    "\n",
    "# Pre-processing dell'input\n",
    "data = pre_processing(data)"
   ]
  },
  {
   "cell_type": "code",
   "execution_count": 137,
   "metadata": {
    "collapsed": false,
    "pycharm": {
     "name": "#%%\n"
    }
   },
   "outputs": [
    {
     "name": "stdout",
     "output_type": "stream",
     "text": [
      "\n",
      " ------------------------------------------------------------------------------------------------------------------\n",
      " Output - {'Courage': {0: ['properti', 'situat', 'despit', 'allow', 'ani', 'face', 'fear', 'feel'], 1: ['someth', 'fear', 'scar', 'make', 'face', 'us', 'abil', 'unpleas'], 2: ['face', 'thing', 'without', 'fear', 'abil'], 3: ['situat', 'allow', 'face', 'inner', 'thaht', 'strength', 'particular'], 4: ['fear', 'abil', 'control'], 5: ['someth', 'deal', 'unpleas', 'fear', 'abil', 'control'], 6: ['action', 'avoid', 'take', 'riski', 'fear', 'abil'], 7: ['action', 'abili', 'make', 'choic', 'take', 'without', 'fear'], 8: ['fear', 'abl', 'someth'], 9: ['frighten', 'someth', 'despit', 'abil'], 10: ['scare', 'peopl', 'someth', 'abil'], 11: ['situat', 'allow', 'consid', 'danger', 'face', 'us', 'feel'], 12: ['scari', 'someth', 'may', 'abil'], 13: ['make', 'drastic', 'abil', 'choic'], 14: ['fear', 'abil', 'overcom'], 15: ['person', 'characterist', 'take', 'risk'], 16: ['general', 'qualiti', 'scare', 'danger', 'abl', 'thing'], 17: ['typic', 'behavior', 'hero'], 18: ['face', 'situat', 'difficult', 'abil'], 19: ['fear', 'peopl', 'someth', 'abil'], 20: ['situat', 'difficult', 'mind', 'allow', 'face', 'strength'], 21: [\"'s\", 'face', 'one', 'fear', 'abil'], 22: ['fear', 'block', 'abil'], 23: ['beyond', 'allow', 'someon', 'go', 'emot', 'expect'], 24: ['despit', 'act', 'danger', 'perform', 'fear', 'abil'], 25: ['difficulti', 'mental', 'danger', 'moral', 'withstand', 'persever', 'strength', 'fear', 'ventur'], 26: ['situat', 'scare', 'provok', 'resist', 'fear', 'abil'], 27: ['fear', 'abil', 'overcom'], 28: ['situat', 'difficult', 'face', 'fear', 'abil', 'overcom'], 29: ['make', 'scare', 'aptitud', 'human', 'abl']}, 'Paper': {0: ['cut', 'fold', 'written', 'cellulos', 'materi'], 1: ['context', 'tree', 'use', 'sever', 'deriv', 'materi'], 2: ['cellulos', 'made', 'materi', 'type'], 3: ['obtain', 'use', 'product', 'wood', 'write', 'cellulos'], 4: ['use', 'made', 'wood', 'write', 'materi', 'flat'], 5: ['piec', 'subject', 'done', 'write', 'short', 'student', 'one', 'especi', 'univers', 'particular'], 6: ['tree', 'use', 'deriv', 'write', 'materi'], 7: ['tree', 'obtain', \"'s\", 'cortex', 'materi'], 8: ['use', 'note', 'craft', 'wood', 'take', 'materi'], 9: ['easili', 'object', 'write', 'thin'], 10: ['draw', 'use', 'packag', 'made', 'print', 'wood', 'write', 'materi'], 11: ['use', 'general', 'compos', 'product', 'write', 'cellulos'], 12: ['surfac', 'write'], 13: ['write', 'materi', 'draw', 'possibl'], 14: ['write', 'materi'], 15: ['tree', 'obtain', 'materi'], 16: ['obtain', 'general', 'use', 'wood', 'write', 'materi'], 17: ['medium', 'written', 'communic'], 18: ['write', 'someth'], 19: ['thin', 'made', 'materi', 'cellulos'], 20: ['cellulos', 'materi', 'compos'], 21: ['obtain', 'use', 'purpos', 'multipl', 'wood', 'materi'], 22: ['write', 'materi', 'use'], 23: ['write', 'materi', 'avail'], 24: ['tree', 'cellulos', \"'s\", 'product'], 25: ['water', 'veget', 'sheet', 'suspens', 'fiber', 'felt', 'fine', 'usual', 'screen', 'laid'], 26: ['materi', 'print', 'use', 'handwrit'], 27: ['write', 'materi', 'use'], 28: ['easi', 'use', 'rip', 'lightweight', 'write', 'materi'], 29: ['store', 'kind', 'inform', 'retriev', 'one', 'materi']}, 'Apprehension': {0: ['someth', 'differ', 'veri', 'caus', 'normal', 'abnorm', 'strang', 'feel'], 1: ['expect', 'anticip', 'fear'], 2: ['mood', 'one', 'feel', 'agit'], 3: ['state', 'disturb'], 4: ['worri', 'futur'], 5: ['understood', 'someth', 'understand', 'act', 'way'], 6: ['event', 'mind', 'state', 'non-relax', 'deriv', 'unaccommod'], 7: ['sens', 'sad', 'loss', 'awe', 'fear'], 8: ['situat', 'someth', 'mental', 'status', 'make', 'uncofort', 'person', 'feel'], 9: ['state', 'frighten', 'one', 'mind'], 10: ['bad', 'someth', 'happen', 'anxieti', 'fear', 'unexpect'], 11: ['anxieti', 'mental', 'state', 'high'], 12: ['someon', 'feel', 'preoccup', 'someth'], 13: ['state', 'emot', 'person', 'fear', 'feel'], 14: ['bad', 'happen', 'someth', 'feel'], 15: ['person', 'emot', 'negat'], 16: ['character', 'mental', 'status', 'anxieti', 'fear'], 17: ['paura', 'qualcosa', 'brutto', 'spiacevol', 'accada', 'ansia'], 18: ['anxieti', 'constant', 'fear'], 19: ['anxieti', 'fear', 'feel'], 20: ['anxieti', 'state', 'mind', 'upset'], 21: ['mood', 'nervous', 'agit'], 22: ['learn', 'pathway'], 23: ['feel', 'uneas'], 24: ['bad', 'someth', 'happen', 'anxieti', 'fear', 'unpleas'], 25: ['bad', 'someth', 'happen', 'anxieti', 'fear', 'unpleas'], 26: ['discomfort', 'fear', 'feel'], 27: ['anxieti', 'happen', 'someth', 'unpleas'], 28: ['situat', 'state', 'anxieti', 'fear', 'particular'], 29: ['agit', 'experi', 'restless', 'make', 'emot']}, 'Sharpener': {0: ['sharpen', 'allow', 'tip', 'tool', 'blade', 'equip', 'pencil'], 1: ['object', 'pencil', 'shapen', 'use'], 2: ['object', 'pencil', 'sharpen'], 3: ['use', 'pencil', 'sharpen', 'tool'], 4: ['object', 'sharpen', 'allow', 'littl', 'pencil'], 5: ['sharper', 'make', 'someth', 'tool'], 6: ['use', 'tip', 'cut', 'tool', 'pencil'], 7: ['sharpner', 'mine', 'make', 'tool'], 8: ['tool', 'pencil', 'use', 'sharpen'], 9: ['object', 'pencil', 'sharpen', 'allow'], 10: ['object', 'use', 'sharpen', 'write', 'pencil'], 11: ['use', 'sharpen', 'tool', 'blade', 'pencil'], 12: ['pencil', 'sharpen', 'tool'], 13: ['pencil', 'sharpen', 'tool'], 14: ['pencil', 'sharpen', 'tool'], 15: ['object', 'pencil', 'sharpen', 'allow'], 16: ['use', 'pencil', 'sharpen', 'tool'], 17: ['someth', 'sharp', 'make', 'person', 'devic'], 18: ['object', 'pencil', 'use', 'sharpen'], 19: ['object', 'pencil', 'use', 'sharpen'], 20: ['object', 'stationeri', 'use', 'graphit', 'smooth'], 21: ['use', 'pencil', 'sharpen', 'tool'], 22: ['lead', 'object', 'use', 'sharpen', 'pencil'], 23: ['object', 'order', 'work', 'return', 'pencil'], 24: ['make', 'pencil', 'sharp', 'tool'], 25: ['someth', 'sharp', 'make', 'person', 'devic'], 26: ['end', 'use', 'refin', 'creat', 'tool', 'edg', 'pencil'], 27: ['use', 'pencil', 'sharpen', 'tool'], 28: ['object', 'use', 'mine', 'write', 'pencil'], 29: ['clearer', 'use', 'make', 'mark', 'tool', 'pencil']}} ------------------------------------------------------------------------------------------------------------------ \n",
      "Tempo di esecuzione: 0.053 secondi. \n"
     ]
    }
   ],
   "source": [
    "output_message(data)"
   ]
  },
  {
   "cell_type": "markdown",
   "id": "66c276a4",
   "metadata": {},
   "source": [
    "# Calcolo della similarità\n",
    "## 1. Definizione della funzione per il calcolo della lunghezza media delle definizioni di un concetto.\n",
    "La lunghezza media delle definizioni è il rapporto tra la somma della lunghezza di tutte le definizioni e il numero delle definizioni\n",
    "Output atteso: `{concetto0: 0.58, concetto1: 0.22}`\n"
   ]
  },
  {
   "cell_type": "code",
   "execution_count": 138,
   "metadata": {
    "collapsed": false,
    "pycharm": {
     "name": "#%%\n"
    }
   },
   "outputs": [],
   "source": [
    "def average_length_computation(data_dictionary):\n",
    "    average_length = {}\n",
    "\n",
    "    for concept in data_dictionary.keys():\n",
    "\n",
    "        average_words = []\n",
    "        sentences = []\n",
    "\n",
    "        for sentence in data_dictionary[concept]:\n",
    "            new_sentence = word_tokenize(data_dictionary[concept][sentence])\n",
    "\n",
    "\n",
    "            for token in new_sentence:\n",
    "                average_words.append(1)\n",
    "            \n",
    "            sentences.append(1)\n",
    "        \n",
    "        average_length.setdefault(concept, sum(average_words) / len(sentences))\n",
    "\n",
    "    return average_length      \n"
   ]
  },
  {
   "cell_type": "code",
   "execution_count": 139,
   "metadata": {},
   "outputs": [
    {
     "name": "stdout",
     "output_type": "stream",
     "text": [
      "{'Courage': 9.333333333333334, 'Paper': 8.566666666666666, 'Apprehension': 7.533333333333333, 'Sharpener': 7.866666666666666}\n"
     ]
    }
   ],
   "source": [
    "print(average_length_computation(data_extraction()))"
   ]
  },
  {
   "cell_type": "markdown",
   "metadata": {
    "collapsed": false,
    "pycharm": {
     "name": "#%% md\n"
    }
   },
   "source": [
    "## 2. Definizione della funzione per la sovrapposizione lessicale\n",
    "Si intende definire la sovrapposizione lessicale tramite l'utilizzo della seguente struttura dati:\n",
    "- `shared_words` sarà un dictionary annidato dove si terrà conto delle volte che una parola è stata utilizzata per ogni definizione di un concetto ecco un esempio del contenuto di questo array associativo: `{'Courage': { 'gatto': [0, 2, 0, 0, 0,..,0]}}` => Questo vuol dire che la parola gatto è stata usata due volte dall'utente in posizione 1.\n",
    "- Utilizzando `shared_words` verrà calcolato il rapporto (`shared_words_rateo`) tra la frequenza delle parole utilizzate nelle varie definizioni e la quantità di definizioni per il concetto sul quale si sta iterando.\n",
    "\n",
    "**Sovrapposizione lessicale** (`lexical_overlay`): Verrà restituito il numero delle \"parole più utilizzate\" nelle definizioni. Con \"*parole più utilizzate*\" si intendono le parole che sono comparse per almeno il 30% delle volte nelle definizioni del proprio concetto.\n"
   ]
  },
  {
   "cell_type": "code",
   "execution_count": 140,
   "metadata": {
    "collapsed": false,
    "pycharm": {
     "name": "#%%\n"
    }
   },
   "outputs": [],
   "source": [
    "def lexical_overlay_computation(data_dictionary):\n",
    "    defs = {}\n",
    "    shared_words = {}\n",
    "    lexical_overlay = {}\n",
    "    relevant_words = {}\n",
    "\n",
    "    # Creazione di un nuovo dictionary con gli indici ordinati (quello nella variabile \"data\" aveva alcuni indici senza definizione)\n",
    "    for concept in data_dictionary.keys():\n",
    "        i = 0\n",
    "        defs.setdefault(concept,{})\n",
    "        shared_words.setdefault(concept,{})\n",
    "        for index in data_dictionary[concept]:\n",
    "            defs[concept].setdefault(i, data_dictionary[concept][index])\n",
    "            i += 1\n",
    "\n",
    "    for concept in defs.keys():\n",
    "        for index in defs[concept]:\n",
    "            for word in defs[concept][index]:\n",
    "\n",
    "                # Si avrà, per ogni parola, una lista di zeri composta da tanti elementi quante sono le definizioni\n",
    "                # Si segna quante volte un utente utilizza una certa parola nella sua definizione\n",
    "                if word not in shared_words[concept].keys():\n",
    "                    shared_words[concept][word] = [0] * len(defs[concept].keys())\n",
    "\n",
    "                shared_words[concept][word][index] += 1\n",
    "\n",
    "    shared_words_rateo = {}\n",
    "    # Si contano quanti utenti distinti hanno utilizzato una certa parola in una definizione / il totale delle definizioni\n",
    "    for concept in shared_words.keys():\n",
    "        if concept not in shared_words_rateo.keys():\n",
    "            shared_words_rateo.setdefault(concept, {})\n",
    "\n",
    "        for word in shared_words[concept]:\n",
    "            if word not in shared_words_rateo[concept].keys():\n",
    "\n",
    "                # Per ogni parola si fa il rapporto tra il numero di volte che quella parola è stata utilizzata in tutte le definizioni diviso il numero delle definizioni\n",
    "                shared_words_rateo[concept].setdefault(word, sum(shared_words[concept][word]) / len(shared_words[concept][word]))\n",
    "                if word not in relevant_words.keys():\n",
    "                    relevant_words.setdefault(concept, [])\n",
    "                \n",
    "                relevant_words[concept].append([word, sum(shared_words[concept][word])])\n",
    "\n",
    "            # Le parole più utilizzate vengono inserite nel dictionary di output\n",
    "            if shared_words_rateo[concept][word] > 0.36:\n",
    "\n",
    "                if word not in lexical_overlay.keys():\n",
    "                    lexical_overlay.setdefault(concept, 0)\n",
    "                lexical_overlay[concept] += 1\n",
    "\n",
    "        lexical_overlay[concept] = lexical_overlay[concept]\n",
    "    return [lexical_overlay, relevant_words, shared_words_rateo]"
   ]
  },
  {
   "cell_type": "code",
   "execution_count": 141,
   "metadata": {
    "collapsed": false,
    "pycharm": {
     "name": "#%%\n"
    }
   },
   "outputs": [
    {
     "name": "stdout",
     "output_type": "stream",
     "text": [
      "{'Courage': 2, 'Paper': 3, 'Apprehension': 1, 'Sharpener': 5}\n"
     ]
    }
   ],
   "source": [
    "print(lexical_overlay_computation(data)[0])"
   ]
  },
  {
   "cell_type": "markdown",
   "metadata": {
    "collapsed": false,
    "pycharm": {
     "name": "#%% md\n"
    }
   },
   "source": [
    "## 3. Definizione della funzione per il calcolo della similarità:\n",
    "Per similarità si intende il rapporto tra sovrapposizione lessicale e lunghezza media delle definizioni."
   ]
  },
  {
   "cell_type": "code",
   "execution_count": 142,
   "id": "0bca937e",
   "metadata": {},
   "outputs": [],
   "source": [
    "def similarity_computation(data_dictionary, lexical_overlay, average_length):\n",
    "    # Il calcolo della similarità è data dal rapporto tra sovrapposizione lessicale e lunghezza media delle definizioni\n",
    "    similarity = {}\n",
    "    for concept in data_dictionary.keys():\n",
    "        similarity[concept] = round(lexical_overlay[concept] / average_length[concept], 4)\n",
    "    return similarity"
   ]
  },
  {
   "cell_type": "markdown",
   "metadata": {
    "collapsed": false,
    "pycharm": {
     "name": "#%% md\n"
    }
   },
   "source": [
    "## Esecuzione delle funzioni dichiarate:"
   ]
  },
  {
   "cell_type": "code",
   "execution_count": 143,
   "id": "5f503071",
   "metadata": {},
   "outputs": [],
   "source": [
    "# Calcolo della lunghezza media delle definizioni\n",
    "avg_len = average_length_computation(data_extraction())\n",
    "\n",
    "# Calcolo della sovrapposizione lessicale\n",
    "lex_overlay = lexical_overlay_computation(data)[0]\n",
    "\n",
    "# Calcolo della similarità\n",
    "similarity = similarity_computation(data, lex_overlay, avg_len)"
   ]
  },
  {
   "cell_type": "code",
   "execution_count": 144,
   "id": "5b25a110",
   "metadata": {},
   "outputs": [
    {
     "name": "stdout",
     "output_type": "stream",
     "text": [
      "\n",
      " ------------------------------------------------------------------------------------------------------------------\n",
      " Output - {'Courage': 0.2143, 'Paper': 0.3502, 'Apprehension': 0.1327, 'Sharpener': 0.6356} ------------------------------------------------------------------------------------------------------------------ \n",
      "Tempo di esecuzione: 0.251 secondi. \n"
     ]
    }
   ],
   "source": [
    "output_message(similarity)"
   ]
  },
  {
   "cell_type": "markdown",
   "metadata": {
    "collapsed": false,
    "pycharm": {
     "name": "#%% md\n"
    }
   },
   "source": [
    "# Risultati laboratorio 1.1\n",
    "Di seguito una lista con gli di output del primo esercizio sul calcolo numerico della similarity:\n",
    "- Coraggio: 0.0291\n",
    "- Carta: 0.0286\n",
    "- Inquietudine: 0.0278\n",
    "- Temperino: 0.0527"
   ]
  },
  {
   "cell_type": "markdown",
   "metadata": {
    "collapsed": false,
    "pycharm": {
     "name": "#%% md\n"
    }
   },
   "source": [
    "___"
   ]
  },
  {
   "cell_type": "markdown",
   "metadata": {
    "collapsed": false,
    "pycharm": {
     "name": "#%% md\n"
    }
   },
   "source": [
    "# Laboratorio 1.2\n",
    "## Similarity Explanation: spiegazione della similarità numerica.\n",
    "Si intende spiegare la similarità numerica restituendo in output una lista con le 5 parole maggiormente rilevanti per ogni concetto.\n",
    "Le 5 parole sono state precedentemente calcolate con la funzione `lexical_overlay_computation()`. La funzione `get_relevant_words` permette di scegliere se ricevere in output il dictionary con tutte le parole più usate o una lista con le 5 parole più usate, o ancora, permette di visualizzare l'output in una tabella"
   ]
  },
  {
   "cell_type": "code",
   "execution_count": 145,
   "metadata": {},
   "outputs": [],
   "source": [
    "def generate_best_freq(frequencies, keep):\n",
    "\n",
    "    best_words = []\n",
    "    scores = []\n",
    "    temp = [element[0] for element in frequencies]\n",
    "    temp2 = [element[1] for element in frequencies]\n",
    "    i = 0\n",
    "    for element in range(len(temp)):\n",
    "        if i < keep:\n",
    "            best_words.append(temp[element])\n",
    "            scores.append(temp2[element])\n",
    "            i += 1\n",
    "        else:\n",
    "            pass\n",
    "\n",
    "    return [best_words, scores]"
   ]
  },
  {
   "cell_type": "code",
   "execution_count": 146,
   "metadata": {},
   "outputs": [],
   "source": [
    "def plot_frequencies(concept, keep=10):\n",
    "\n",
    "    x = []\n",
    "    y = []\n",
    "\n",
    "    # Dictionary con tutte le parole più rilevanti\n",
    "    relevant_words = lexical_overlay_computation(data)[1]\n",
    "\n",
    "    i = 0\n",
    "    # Le parole vengono aggiunte all'interno del dictionary e vengono riordinate\n",
    "    relevant_words[concept] = sorted(relevant_words[concept], key=itemgetter(1), reverse=True)\n",
    "\n",
    "    x = generate_best_freq(relevant_words[concept], keep)[0]\n",
    "    y = generate_best_freq(relevant_words[concept], keep)[1]\n",
    "\n",
    "    # Data Visualization\n",
    "    plt.bar(x, y)\n",
    "    plt.xticks(rotation=30, ha='right', fontsize=8)\n",
    "    plt.grid(axis='y', alpha=.5)\n",
    "    plt.title('Parole con maggiore sovrapposizione lessicale', color=\"#1b0037\")\n",
    "\n",
    "    plt.show()\n",
    "\n",
    "    return [x, y]"
   ]
  },
  {
   "cell_type": "markdown",
   "metadata": {
    "collapsed": false,
    "pycharm": {
     "name": "#%% md\n"
    }
   },
   "source": [
    "# Esecuzione della funzione dichiarata"
   ]
  },
  {
   "cell_type": "code",
   "execution_count": 147,
   "metadata": {},
   "outputs": [
    {
     "data": {
      "image/png": "[encoded data removed]",
      "image/svg+xml": "<?xml version=\"1.0\" encoding=\"utf-8\" standalone=\"no\"?>\n<!DOCTYPE svg PUBLIC \"-//W3C//DTD SVG 1.1//EN\"\n  \"http://www.w3.org/Graphics/SVG/1.1/DTD/svg11.dtd\">\n<svg height=\"275.655202pt\" version=\"1.1\" viewBox=\"0 0 378.465625 275.655202\" width=\"378.465625pt\" xmlns=\"http://www.w3.org/2000/svg\" xmlns:xlink=\"http://www.w3.org/1999/xlink\">\n <metadata>\n  <rdf:RDF xmlns:cc=\"http://creativecommons.org/ns#\" xmlns:dc=\"http://purl.org/dc/elements/1.1/\" xmlns:rdf=\"http://www.w3.org/1999/02/22-rdf-syntax-ns#\">\n   <cc:Work>\n    <dc:type rdf:resource=\"http://purl.org/dc/dcmitype/StillImage\"/>\n    <dc:date>2021-10-24T18:13:46.891469</dc:date>\n    <dc:format>image/svg+xml</dc:format>\n    <dc:creator>\n     <cc:Agent>\n      <dc:title>Matplotlib v3.4.2, https://matplotlib.org/</dc:title>\n     </cc:Agent>\n    </dc:creator>\n   </cc:Work>\n  </rdf:RDF>\n </metadata>\n <defs>\n  <style type=\"text/css\">*{stroke-linecap:butt;stroke-linejoin:round;}</style>\n </defs>\n <g id=\"figure_1\">\n  <g id=\"patch_1\">\n   <path d=\"M 0 275.655202 \nL 378.465625 275.655202 \nL 378.465625 0 \nL 0 0 \nz\n\" style=\"fill:none;\"/>\n  </g>\n  <g id=\"axes_1\">\n   <g id=\"patch_2\">\n    <path d=\"M 36.465625 239.758125 \nL 371.265625 239.758125 \nL 371.265625 22.318125 \nL 36.465625 22.318125 \nz\n\" style=\"fill:#ffffff;\"/>\n   </g>\n   <g id=\"patch_3\">\n    <path clip-path=\"url(#p1a36b13d2e)\" d=\"M 51.683807 239.758125 \nL 76.529818 239.758125 \nL 76.529818 32.672411 \nL 51.683807 32.672411 \nz\n\" style=\"fill:#1f77b4;\"/>\n   </g>\n   <g id=\"patch_4\">\n    <path clip-path=\"url(#p1a36b13d2e)\" d=\"M 82.741321 239.758125 \nL 107.587332 239.758125 \nL 107.587332 44.177173 \nL 82.741321 44.177173 \nz\n\" style=\"fill:#1f77b4;\"/>\n   </g>\n   <g id=\"patch_5\">\n    <path clip-path=\"url(#p1a36b13d2e)\" d=\"M 113.798835 239.758125 \nL 138.644846 239.758125 \nL 138.644846 136.215268 \nL 113.798835 136.215268 \nz\n\" style=\"fill:#1f77b4;\"/>\n   </g>\n   <g id=\"patch_6\">\n    <path clip-path=\"url(#p1a36b13d2e)\" d=\"M 144.856349 239.758125 \nL 169.70236 239.758125 \nL 169.70236 159.224792 \nL 144.856349 159.224792 \nz\n\" style=\"fill:#1f77b4;\"/>\n   </g>\n   <g id=\"patch_7\">\n    <path clip-path=\"url(#p1a36b13d2e)\" d=\"M 175.913862 239.758125 \nL 200.759874 239.758125 \nL 200.759874 159.224792 \nL 175.913862 159.224792 \nz\n\" style=\"fill:#1f77b4;\"/>\n   </g>\n   <g id=\"patch_8\">\n    <path clip-path=\"url(#p1a36b13d2e)\" d=\"M 206.971376 239.758125 \nL 231.817388 239.758125 \nL 231.817388 182.234315 \nL 206.971376 182.234315 \nz\n\" style=\"fill:#1f77b4;\"/>\n   </g>\n   <g id=\"patch_9\">\n    <path clip-path=\"url(#p1a36b13d2e)\" d=\"M 238.02889 239.758125 \nL 262.874901 239.758125 \nL 262.874901 193.739077 \nL 238.02889 193.739077 \nz\n\" style=\"fill:#1f77b4;\"/>\n   </g>\n   <g id=\"patch_10\">\n    <path clip-path=\"url(#p1a36b13d2e)\" d=\"M 269.086404 239.758125 \nL 293.932415 239.758125 \nL 293.932415 193.739077 \nL 269.086404 193.739077 \nz\n\" style=\"fill:#1f77b4;\"/>\n   </g>\n   <g id=\"patch_11\">\n    <path clip-path=\"url(#p1a36b13d2e)\" d=\"M 300.143918 239.758125 \nL 324.989929 239.758125 \nL 324.989929 193.739077 \nL 300.143918 193.739077 \nz\n\" style=\"fill:#1f77b4;\"/>\n   </g>\n   <g id=\"patch_12\">\n    <path clip-path=\"url(#p1a36b13d2e)\" d=\"M 331.201432 239.758125 \nL 356.047443 239.758125 \nL 356.047443 205.243839 \nL 331.201432 205.243839 \nz\n\" style=\"fill:#1f77b4;\"/>\n   </g>\n   <g id=\"matplotlib.axis_1\">\n    <g id=\"xtick_1\">\n     <g id=\"line2d_1\">\n      <defs>\n       <path d=\"M 0 0 \nL 0 3.5 \n\" id=\"maf3ed6bf2a\" style=\"stroke:#000000;stroke-width:0.8;\"/>\n      </defs>\n      <g>\n       <use style=\"stroke:#000000;stroke-width:0.8;\" x=\"64.106812\" xlink:href=\"#maf3ed6bf2a\" y=\"239.758125\"/>\n      </g>\n     </g>\n     <g id=\"text_1\">\n      <!-- abil -->\n      <g transform=\"translate(50.781438 259.235602)rotate(-30)scale(0.08 -0.08)\">\n       <defs>\n        <path d=\"M 2194 1759 \nQ 1497 1759 1228 1600 \nQ 959 1441 959 1056 \nQ 959 750 1161 570 \nQ 1363 391 1709 391 \nQ 2188 391 2477 730 \nQ 2766 1069 2766 1631 \nL 2766 1759 \nL 2194 1759 \nz\nM 3341 1997 \nL 3341 0 \nL 2766 0 \nL 2766 531 \nQ 2569 213 2275 61 \nQ 1981 -91 1556 -91 \nQ 1019 -91 701 211 \nQ 384 513 384 1019 \nQ 384 1609 779 1909 \nQ 1175 2209 1959 2209 \nL 2766 2209 \nL 2766 2266 \nQ 2766 2663 2505 2880 \nQ 2244 3097 1772 3097 \nQ 1472 3097 1187 3025 \nQ 903 2953 641 2809 \nL 641 3341 \nQ 956 3463 1253 3523 \nQ 1550 3584 1831 3584 \nQ 2591 3584 2966 3190 \nQ 3341 2797 3341 1997 \nz\n\" id=\"DejaVuSans-61\" transform=\"scale(0.015625)\"/>\n        <path d=\"M 3116 1747 \nQ 3116 2381 2855 2742 \nQ 2594 3103 2138 3103 \nQ 1681 3103 1420 2742 \nQ 1159 2381 1159 1747 \nQ 1159 1113 1420 752 \nQ 1681 391 2138 391 \nQ 2594 391 2855 752 \nQ 3116 1113 3116 1747 \nz\nM 1159 2969 \nQ 1341 3281 1617 3432 \nQ 1894 3584 2278 3584 \nQ 2916 3584 3314 3078 \nQ 3713 2572 3713 1747 \nQ 3713 922 3314 415 \nQ 2916 -91 2278 -91 \nQ 1894 -91 1617 61 \nQ 1341 213 1159 525 \nL 1159 0 \nL 581 0 \nL 581 4863 \nL 1159 4863 \nL 1159 2969 \nz\n\" id=\"DejaVuSans-62\" transform=\"scale(0.015625)\"/>\n        <path d=\"M 603 3500 \nL 1178 3500 \nL 1178 0 \nL 603 0 \nL 603 3500 \nz\nM 603 4863 \nL 1178 4863 \nL 1178 4134 \nL 603 4134 \nL 603 4863 \nz\n\" id=\"DejaVuSans-69\" transform=\"scale(0.015625)\"/>\n        <path d=\"M 603 4863 \nL 1178 4863 \nL 1178 0 \nL 603 0 \nL 603 4863 \nz\n\" id=\"DejaVuSans-6c\" transform=\"scale(0.015625)\"/>\n       </defs>\n       <use xlink:href=\"#DejaVuSans-61\"/>\n       <use x=\"61.279297\" xlink:href=\"#DejaVuSans-62\"/>\n       <use x=\"124.755859\" xlink:href=\"#DejaVuSans-69\"/>\n       <use x=\"152.539062\" xlink:href=\"#DejaVuSans-6c\"/>\n      </g>\n     </g>\n    </g>\n    <g id=\"xtick_2\">\n     <g id=\"line2d_2\">\n      <g>\n       <use style=\"stroke:#000000;stroke-width:0.8;\" x=\"95.164326\" xlink:href=\"#maf3ed6bf2a\" y=\"239.758125\"/>\n      </g>\n     </g>\n     <g id=\"text_2\">\n      <!-- fear -->\n      <g transform=\"translate(80.536667 259.987477)rotate(-30)scale(0.08 -0.08)\">\n       <defs>\n        <path d=\"M 2375 4863 \nL 2375 4384 \nL 1825 4384 \nQ 1516 4384 1395 4259 \nQ 1275 4134 1275 3809 \nL 1275 3500 \nL 2222 3500 \nL 2222 3053 \nL 1275 3053 \nL 1275 0 \nL 697 0 \nL 697 3053 \nL 147 3053 \nL 147 3500 \nL 697 3500 \nL 697 3744 \nQ 697 4328 969 4595 \nQ 1241 4863 1831 4863 \nL 2375 4863 \nz\n\" id=\"DejaVuSans-66\" transform=\"scale(0.015625)\"/>\n        <path d=\"M 3597 1894 \nL 3597 1613 \nL 953 1613 \nQ 991 1019 1311 708 \nQ 1631 397 2203 397 \nQ 2534 397 2845 478 \nQ 3156 559 3463 722 \nL 3463 178 \nQ 3153 47 2828 -22 \nQ 2503 -91 2169 -91 \nQ 1331 -91 842 396 \nQ 353 884 353 1716 \nQ 353 2575 817 3079 \nQ 1281 3584 2069 3584 \nQ 2775 3584 3186 3129 \nQ 3597 2675 3597 1894 \nz\nM 3022 2063 \nQ 3016 2534 2758 2815 \nQ 2500 3097 2075 3097 \nQ 1594 3097 1305 2825 \nQ 1016 2553 972 2059 \nL 3022 2063 \nz\n\" id=\"DejaVuSans-65\" transform=\"scale(0.015625)\"/>\n        <path d=\"M 2631 2963 \nQ 2534 3019 2420 3045 \nQ 2306 3072 2169 3072 \nQ 1681 3072 1420 2755 \nQ 1159 2438 1159 1844 \nL 1159 0 \nL 581 0 \nL 581 3500 \nL 1159 3500 \nL 1159 2956 \nQ 1341 3275 1631 3429 \nQ 1922 3584 2338 3584 \nQ 2397 3584 2469 3576 \nQ 2541 3569 2628 3553 \nL 2631 2963 \nz\n\" id=\"DejaVuSans-72\" transform=\"scale(0.015625)\"/>\n       </defs>\n       <use xlink:href=\"#DejaVuSans-66\"/>\n       <use x=\"35.205078\" xlink:href=\"#DejaVuSans-65\"/>\n       <use x=\"96.728516\" xlink:href=\"#DejaVuSans-61\"/>\n       <use x=\"158.007812\" xlink:href=\"#DejaVuSans-72\"/>\n      </g>\n     </g>\n    </g>\n    <g id=\"xtick_3\">\n     <g id=\"line2d_3\">\n      <g>\n       <use style=\"stroke:#000000;stroke-width:0.8;\" x=\"126.22184\" xlink:href=\"#maf3ed6bf2a\" y=\"239.758125\"/>\n      </g>\n     </g>\n     <g id=\"text_3\">\n      <!-- face -->\n      <g transform=\"translate(110.632892 260.542477)rotate(-30)scale(0.08 -0.08)\">\n       <defs>\n        <path d=\"M 3122 3366 \nL 3122 2828 \nQ 2878 2963 2633 3030 \nQ 2388 3097 2138 3097 \nQ 1578 3097 1268 2742 \nQ 959 2388 959 1747 \nQ 959 1106 1268 751 \nQ 1578 397 2138 397 \nQ 2388 397 2633 464 \nQ 2878 531 3122 666 \nL 3122 134 \nQ 2881 22 2623 -34 \nQ 2366 -91 2075 -91 \nQ 1284 -91 818 406 \nQ 353 903 353 1747 \nQ 353 2603 823 3093 \nQ 1294 3584 2113 3584 \nQ 2378 3584 2631 3529 \nQ 2884 3475 3122 3366 \nz\n\" id=\"DejaVuSans-63\" transform=\"scale(0.015625)\"/>\n       </defs>\n       <use xlink:href=\"#DejaVuSans-66\"/>\n       <use x=\"35.205078\" xlink:href=\"#DejaVuSans-61\"/>\n       <use x=\"96.484375\" xlink:href=\"#DejaVuSans-63\"/>\n       <use x=\"151.464844\" xlink:href=\"#DejaVuSans-65\"/>\n      </g>\n     </g>\n    </g>\n    <g id=\"xtick_4\">\n     <g id=\"line2d_4\">\n      <g>\n       <use style=\"stroke:#000000;stroke-width:0.8;\" x=\"157.279354\" xlink:href=\"#maf3ed6bf2a\" y=\"239.758125\"/>\n      </g>\n     </g>\n     <g id=\"text_4\">\n      <!-- situat -->\n      <g transform=\"translate(136.844994 263.339977)rotate(-30)scale(0.08 -0.08)\">\n       <defs>\n        <path d=\"M 2834 3397 \nL 2834 2853 \nQ 2591 2978 2328 3040 \nQ 2066 3103 1784 3103 \nQ 1356 3103 1142 2972 \nQ 928 2841 928 2578 \nQ 928 2378 1081 2264 \nQ 1234 2150 1697 2047 \nL 1894 2003 \nQ 2506 1872 2764 1633 \nQ 3022 1394 3022 966 \nQ 3022 478 2636 193 \nQ 2250 -91 1575 -91 \nQ 1294 -91 989 -36 \nQ 684 19 347 128 \nL 347 722 \nQ 666 556 975 473 \nQ 1284 391 1588 391 \nQ 1994 391 2212 530 \nQ 2431 669 2431 922 \nQ 2431 1156 2273 1281 \nQ 2116 1406 1581 1522 \nL 1381 1569 \nQ 847 1681 609 1914 \nQ 372 2147 372 2553 \nQ 372 3047 722 3315 \nQ 1072 3584 1716 3584 \nQ 2034 3584 2315 3537 \nQ 2597 3491 2834 3397 \nz\n\" id=\"DejaVuSans-73\" transform=\"scale(0.015625)\"/>\n        <path d=\"M 1172 4494 \nL 1172 3500 \nL 2356 3500 \nL 2356 3053 \nL 1172 3053 \nL 1172 1153 \nQ 1172 725 1289 603 \nQ 1406 481 1766 481 \nL 2356 481 \nL 2356 0 \nL 1766 0 \nQ 1100 0 847 248 \nQ 594 497 594 1153 \nL 594 3053 \nL 172 3053 \nL 172 3500 \nL 594 3500 \nL 594 4494 \nL 1172 4494 \nz\n\" id=\"DejaVuSans-74\" transform=\"scale(0.015625)\"/>\n        <path d=\"M 544 1381 \nL 544 3500 \nL 1119 3500 \nL 1119 1403 \nQ 1119 906 1312 657 \nQ 1506 409 1894 409 \nQ 2359 409 2629 706 \nQ 2900 1003 2900 1516 \nL 2900 3500 \nL 3475 3500 \nL 3475 0 \nL 2900 0 \nL 2900 538 \nQ 2691 219 2414 64 \nQ 2138 -91 1772 -91 \nQ 1169 -91 856 284 \nQ 544 659 544 1381 \nz\nM 1991 3584 \nL 1991 3584 \nz\n\" id=\"DejaVuSans-75\" transform=\"scale(0.015625)\"/>\n       </defs>\n       <use xlink:href=\"#DejaVuSans-73\"/>\n       <use x=\"52.099609\" xlink:href=\"#DejaVuSans-69\"/>\n       <use x=\"79.882812\" xlink:href=\"#DejaVuSans-74\"/>\n       <use x=\"119.091797\" xlink:href=\"#DejaVuSans-75\"/>\n       <use x=\"182.470703\" xlink:href=\"#DejaVuSans-61\"/>\n       <use x=\"243.75\" xlink:href=\"#DejaVuSans-74\"/>\n      </g>\n     </g>\n    </g>\n    <g id=\"xtick_5\">\n     <g id=\"line2d_5\">\n      <g>\n       <use style=\"stroke:#000000;stroke-width:0.8;\" x=\"188.336868\" xlink:href=\"#maf3ed6bf2a\" y=\"239.758125\"/>\n      </g>\n     </g>\n     <g id=\"text_5\">\n      <!-- someth -->\n      <g transform=\"translate(161.538304 267.014352)rotate(-30)scale(0.08 -0.08)\">\n       <defs>\n        <path d=\"M 1959 3097 \nQ 1497 3097 1228 2736 \nQ 959 2375 959 1747 \nQ 959 1119 1226 758 \nQ 1494 397 1959 397 \nQ 2419 397 2687 759 \nQ 2956 1122 2956 1747 \nQ 2956 2369 2687 2733 \nQ 2419 3097 1959 3097 \nz\nM 1959 3584 \nQ 2709 3584 3137 3096 \nQ 3566 2609 3566 1747 \nQ 3566 888 3137 398 \nQ 2709 -91 1959 -91 \nQ 1206 -91 779 398 \nQ 353 888 353 1747 \nQ 353 2609 779 3096 \nQ 1206 3584 1959 3584 \nz\n\" id=\"DejaVuSans-6f\" transform=\"scale(0.015625)\"/>\n        <path d=\"M 3328 2828 \nQ 3544 3216 3844 3400 \nQ 4144 3584 4550 3584 \nQ 5097 3584 5394 3201 \nQ 5691 2819 5691 2113 \nL 5691 0 \nL 5113 0 \nL 5113 2094 \nQ 5113 2597 4934 2840 \nQ 4756 3084 4391 3084 \nQ 3944 3084 3684 2787 \nQ 3425 2491 3425 1978 \nL 3425 0 \nL 2847 0 \nL 2847 2094 \nQ 2847 2600 2669 2842 \nQ 2491 3084 2119 3084 \nQ 1678 3084 1418 2786 \nQ 1159 2488 1159 1978 \nL 1159 0 \nL 581 0 \nL 581 3500 \nL 1159 3500 \nL 1159 2956 \nQ 1356 3278 1631 3431 \nQ 1906 3584 2284 3584 \nQ 2666 3584 2933 3390 \nQ 3200 3197 3328 2828 \nz\n\" id=\"DejaVuSans-6d\" transform=\"scale(0.015625)\"/>\n        <path d=\"M 3513 2113 \nL 3513 0 \nL 2938 0 \nL 2938 2094 \nQ 2938 2591 2744 2837 \nQ 2550 3084 2163 3084 \nQ 1697 3084 1428 2787 \nQ 1159 2491 1159 1978 \nL 1159 0 \nL 581 0 \nL 581 4863 \nL 1159 4863 \nL 1159 2956 \nQ 1366 3272 1645 3428 \nQ 1925 3584 2291 3584 \nQ 2894 3584 3203 3211 \nQ 3513 2838 3513 2113 \nz\n\" id=\"DejaVuSans-68\" transform=\"scale(0.015625)\"/>\n       </defs>\n       <use xlink:href=\"#DejaVuSans-73\"/>\n       <use x=\"52.099609\" xlink:href=\"#DejaVuSans-6f\"/>\n       <use x=\"113.28125\" xlink:href=\"#DejaVuSans-6d\"/>\n       <use x=\"210.693359\" xlink:href=\"#DejaVuSans-65\"/>\n       <use x=\"272.216797\" xlink:href=\"#DejaVuSans-74\"/>\n       <use x=\"311.425781\" xlink:href=\"#DejaVuSans-68\"/>\n      </g>\n     </g>\n    </g>\n    <g id=\"xtick_6\">\n     <g id=\"line2d_6\">\n      <g>\n       <use style=\"stroke:#000000;stroke-width:0.8;\" x=\"219.394382\" xlink:href=\"#maf3ed6bf2a\" y=\"239.758125\"/>\n      </g>\n     </g>\n     <g id=\"text_6\">\n      <!-- allow -->\n      <g transform=\"translate(200.562169 262.414977)rotate(-30)scale(0.08 -0.08)\">\n       <defs>\n        <path d=\"M 269 3500 \nL 844 3500 \nL 1563 769 \nL 2278 3500 \nL 2956 3500 \nL 3675 769 \nL 4391 3500 \nL 4966 3500 \nL 4050 0 \nL 3372 0 \nL 2619 2869 \nL 1863 0 \nL 1184 0 \nL 269 3500 \nz\n\" id=\"DejaVuSans-77\" transform=\"scale(0.015625)\"/>\n       </defs>\n       <use xlink:href=\"#DejaVuSans-61\"/>\n       <use x=\"61.279297\" xlink:href=\"#DejaVuSans-6c\"/>\n       <use x=\"89.0625\" xlink:href=\"#DejaVuSans-6c\"/>\n       <use x=\"116.845703\" xlink:href=\"#DejaVuSans-6f\"/>\n       <use x=\"178.027344\" xlink:href=\"#DejaVuSans-77\"/>\n      </g>\n     </g>\n    </g>\n    <g id=\"xtick_7\">\n     <g id=\"line2d_7\">\n      <g>\n       <use style=\"stroke:#000000;stroke-width:0.8;\" x=\"250.451896\" xlink:href=\"#maf3ed6bf2a\" y=\"239.758125\"/>\n      </g>\n     </g>\n     <g id=\"text_7\">\n      <!-- make -->\n      <g transform=\"translate(230.602103 263.002477)rotate(-30)scale(0.08 -0.08)\">\n       <defs>\n        <path d=\"M 581 4863 \nL 1159 4863 \nL 1159 1991 \nL 2875 3500 \nL 3609 3500 \nL 1753 1863 \nL 3688 0 \nL 2938 0 \nL 1159 1709 \nL 1159 0 \nL 581 0 \nL 581 4863 \nz\n\" id=\"DejaVuSans-6b\" transform=\"scale(0.015625)\"/>\n       </defs>\n       <use xlink:href=\"#DejaVuSans-6d\"/>\n       <use x=\"97.412109\" xlink:href=\"#DejaVuSans-61\"/>\n       <use x=\"158.691406\" xlink:href=\"#DejaVuSans-6b\"/>\n       <use x=\"212.976562\" xlink:href=\"#DejaVuSans-65\"/>\n      </g>\n     </g>\n    </g>\n    <g id=\"xtick_8\">\n     <g id=\"line2d_8\">\n      <g>\n       <use style=\"stroke:#000000;stroke-width:0.8;\" x=\"281.50941\" xlink:href=\"#maf3ed6bf2a\" y=\"239.758125\"/>\n      </g>\n     </g>\n     <g id=\"text_8\">\n      <!-- scare -->\n      <g transform=\"translate(262.057989 262.772477)rotate(-30)scale(0.08 -0.08)\">\n       <use xlink:href=\"#DejaVuSans-73\"/>\n       <use x=\"52.099609\" xlink:href=\"#DejaVuSans-63\"/>\n       <use x=\"107.080078\" xlink:href=\"#DejaVuSans-61\"/>\n       <use x=\"168.359375\" xlink:href=\"#DejaVuSans-72\"/>\n       <use x=\"207.222656\" xlink:href=\"#DejaVuSans-65\"/>\n      </g>\n     </g>\n    </g>\n    <g id=\"xtick_9\">\n     <g id=\"line2d_9\">\n      <g>\n       <use style=\"stroke:#000000;stroke-width:0.8;\" x=\"312.566924\" xlink:href=\"#maf3ed6bf2a\" y=\"239.758125\"/>\n      </g>\n     </g>\n     <g id=\"text_9\">\n      <!-- danger -->\n      <g transform=\"translate(287.190806 266.193102)rotate(-30)scale(0.08 -0.08)\">\n       <defs>\n        <path d=\"M 2906 2969 \nL 2906 4863 \nL 3481 4863 \nL 3481 0 \nL 2906 0 \nL 2906 525 \nQ 2725 213 2448 61 \nQ 2172 -91 1784 -91 \nQ 1150 -91 751 415 \nQ 353 922 353 1747 \nQ 353 2572 751 3078 \nQ 1150 3584 1784 3584 \nQ 2172 3584 2448 3432 \nQ 2725 3281 2906 2969 \nz\nM 947 1747 \nQ 947 1113 1208 752 \nQ 1469 391 1925 391 \nQ 2381 391 2643 752 \nQ 2906 1113 2906 1747 \nQ 2906 2381 2643 2742 \nQ 2381 3103 1925 3103 \nQ 1469 3103 1208 2742 \nQ 947 2381 947 1747 \nz\n\" id=\"DejaVuSans-64\" transform=\"scale(0.015625)\"/>\n        <path d=\"M 3513 2113 \nL 3513 0 \nL 2938 0 \nL 2938 2094 \nQ 2938 2591 2744 2837 \nQ 2550 3084 2163 3084 \nQ 1697 3084 1428 2787 \nQ 1159 2491 1159 1978 \nL 1159 0 \nL 581 0 \nL 581 3500 \nL 1159 3500 \nL 1159 2956 \nQ 1366 3272 1645 3428 \nQ 1925 3584 2291 3584 \nQ 2894 3584 3203 3211 \nQ 3513 2838 3513 2113 \nz\n\" id=\"DejaVuSans-6e\" transform=\"scale(0.015625)\"/>\n        <path d=\"M 2906 1791 \nQ 2906 2416 2648 2759 \nQ 2391 3103 1925 3103 \nQ 1463 3103 1205 2759 \nQ 947 2416 947 1791 \nQ 947 1169 1205 825 \nQ 1463 481 1925 481 \nQ 2391 481 2648 825 \nQ 2906 1169 2906 1791 \nz\nM 3481 434 \nQ 3481 -459 3084 -895 \nQ 2688 -1331 1869 -1331 \nQ 1566 -1331 1297 -1286 \nQ 1028 -1241 775 -1147 \nL 775 -588 \nQ 1028 -725 1275 -790 \nQ 1522 -856 1778 -856 \nQ 2344 -856 2625 -561 \nQ 2906 -266 2906 331 \nL 2906 616 \nQ 2728 306 2450 153 \nQ 2172 0 1784 0 \nQ 1141 0 747 490 \nQ 353 981 353 1791 \nQ 353 2603 747 3093 \nQ 1141 3584 1784 3584 \nQ 2172 3584 2450 3431 \nQ 2728 3278 2906 2969 \nL 2906 3500 \nL 3481 3500 \nL 3481 434 \nz\n\" id=\"DejaVuSans-67\" transform=\"scale(0.015625)\"/>\n       </defs>\n       <use xlink:href=\"#DejaVuSans-64\"/>\n       <use x=\"63.476562\" xlink:href=\"#DejaVuSans-61\"/>\n       <use x=\"124.755859\" xlink:href=\"#DejaVuSans-6e\"/>\n       <use x=\"188.134766\" xlink:href=\"#DejaVuSans-67\"/>\n       <use x=\"251.611328\" xlink:href=\"#DejaVuSans-65\"/>\n       <use x=\"313.134766\" xlink:href=\"#DejaVuSans-72\"/>\n      </g>\n     </g>\n    </g>\n    <g id=\"xtick_10\">\n     <g id=\"line2d_10\">\n      <g>\n       <use style=\"stroke:#000000;stroke-width:0.8;\" x=\"343.624438\" xlink:href=\"#maf3ed6bf2a\" y=\"239.758125\"/>\n      </g>\n     </g>\n     <g id=\"text_10\">\n      <!-- despit -->\n      <g transform=\"translate(321.482925 264.325602)rotate(-30)scale(0.08 -0.08)\">\n       <defs>\n        <path d=\"M 1159 525 \nL 1159 -1331 \nL 581 -1331 \nL 581 3500 \nL 1159 3500 \nL 1159 2969 \nQ 1341 3281 1617 3432 \nQ 1894 3584 2278 3584 \nQ 2916 3584 3314 3078 \nQ 3713 2572 3713 1747 \nQ 3713 922 3314 415 \nQ 2916 -91 2278 -91 \nQ 1894 -91 1617 61 \nQ 1341 213 1159 525 \nz\nM 3116 1747 \nQ 3116 2381 2855 2742 \nQ 2594 3103 2138 3103 \nQ 1681 3103 1420 2742 \nQ 1159 2381 1159 1747 \nQ 1159 1113 1420 752 \nQ 1681 391 2138 391 \nQ 2594 391 2855 752 \nQ 3116 1113 3116 1747 \nz\n\" id=\"DejaVuSans-70\" transform=\"scale(0.015625)\"/>\n       </defs>\n       <use xlink:href=\"#DejaVuSans-64\"/>\n       <use x=\"63.476562\" xlink:href=\"#DejaVuSans-65\"/>\n       <use x=\"125\" xlink:href=\"#DejaVuSans-73\"/>\n       <use x=\"177.099609\" xlink:href=\"#DejaVuSans-70\"/>\n       <use x=\"240.576172\" xlink:href=\"#DejaVuSans-69\"/>\n       <use x=\"268.359375\" xlink:href=\"#DejaVuSans-74\"/>\n      </g>\n     </g>\n    </g>\n   </g>\n   <g id=\"matplotlib.axis_2\">\n    <g id=\"ytick_1\">\n     <g id=\"line2d_11\">\n      <path clip-path=\"url(#p1a36b13d2e)\" d=\"M 36.465625 239.758125 \nL 371.265625 239.758125 \n\" style=\"fill:none;stroke:#b0b0b0;stroke-linecap:square;stroke-opacity:0.5;stroke-width:0.8;\"/>\n     </g>\n     <g id=\"line2d_12\">\n      <defs>\n       <path d=\"M 0 0 \nL -3.5 0 \n\" id=\"m4646387711\" style=\"stroke:#000000;stroke-width:0.8;\"/>\n      </defs>\n      <g>\n       <use style=\"stroke:#000000;stroke-width:0.8;\" x=\"36.465625\" xlink:href=\"#m4646387711\" y=\"239.758125\"/>\n      </g>\n     </g>\n     <g id=\"text_11\">\n      <!-- 0.0 -->\n      <g transform=\"translate(13.5625 243.557344)scale(0.1 -0.1)\">\n       <defs>\n        <path d=\"M 2034 4250 \nQ 1547 4250 1301 3770 \nQ 1056 3291 1056 2328 \nQ 1056 1369 1301 889 \nQ 1547 409 2034 409 \nQ 2525 409 2770 889 \nQ 3016 1369 3016 2328 \nQ 3016 3291 2770 3770 \nQ 2525 4250 2034 4250 \nz\nM 2034 4750 \nQ 2819 4750 3233 4129 \nQ 3647 3509 3647 2328 \nQ 3647 1150 3233 529 \nQ 2819 -91 2034 -91 \nQ 1250 -91 836 529 \nQ 422 1150 422 2328 \nQ 422 3509 836 4129 \nQ 1250 4750 2034 4750 \nz\n\" id=\"DejaVuSans-30\" transform=\"scale(0.015625)\"/>\n        <path d=\"M 684 794 \nL 1344 794 \nL 1344 0 \nL 684 0 \nL 684 794 \nz\n\" id=\"DejaVuSans-2e\" transform=\"scale(0.015625)\"/>\n       </defs>\n       <use xlink:href=\"#DejaVuSans-30\"/>\n       <use x=\"63.623047\" xlink:href=\"#DejaVuSans-2e\"/>\n       <use x=\"95.410156\" xlink:href=\"#DejaVuSans-30\"/>\n      </g>\n     </g>\n    </g>\n    <g id=\"ytick_2\">\n     <g id=\"line2d_13\">\n      <path clip-path=\"url(#p1a36b13d2e)\" d=\"M 36.465625 210.99622 \nL 371.265625 210.99622 \n\" style=\"fill:none;stroke:#b0b0b0;stroke-linecap:square;stroke-opacity:0.5;stroke-width:0.8;\"/>\n     </g>\n     <g id=\"line2d_14\">\n      <g>\n       <use style=\"stroke:#000000;stroke-width:0.8;\" x=\"36.465625\" xlink:href=\"#m4646387711\" y=\"210.99622\"/>\n      </g>\n     </g>\n     <g id=\"text_12\">\n      <!-- 2.5 -->\n      <g transform=\"translate(13.5625 214.795439)scale(0.1 -0.1)\">\n       <defs>\n        <path d=\"M 1228 531 \nL 3431 531 \nL 3431 0 \nL 469 0 \nL 469 531 \nQ 828 903 1448 1529 \nQ 2069 2156 2228 2338 \nQ 2531 2678 2651 2914 \nQ 2772 3150 2772 3378 \nQ 2772 3750 2511 3984 \nQ 2250 4219 1831 4219 \nQ 1534 4219 1204 4116 \nQ 875 4013 500 3803 \nL 500 4441 \nQ 881 4594 1212 4672 \nQ 1544 4750 1819 4750 \nQ 2544 4750 2975 4387 \nQ 3406 4025 3406 3419 \nQ 3406 3131 3298 2873 \nQ 3191 2616 2906 2266 \nQ 2828 2175 2409 1742 \nQ 1991 1309 1228 531 \nz\n\" id=\"DejaVuSans-32\" transform=\"scale(0.015625)\"/>\n        <path d=\"M 691 4666 \nL 3169 4666 \nL 3169 4134 \nL 1269 4134 \nL 1269 2991 \nQ 1406 3038 1543 3061 \nQ 1681 3084 1819 3084 \nQ 2600 3084 3056 2656 \nQ 3513 2228 3513 1497 \nQ 3513 744 3044 326 \nQ 2575 -91 1722 -91 \nQ 1428 -91 1123 -41 \nQ 819 9 494 109 \nL 494 744 \nQ 775 591 1075 516 \nQ 1375 441 1709 441 \nQ 2250 441 2565 725 \nQ 2881 1009 2881 1497 \nQ 2881 1984 2565 2268 \nQ 2250 2553 1709 2553 \nQ 1456 2553 1204 2497 \nQ 953 2441 691 2322 \nL 691 4666 \nz\n\" id=\"DejaVuSans-35\" transform=\"scale(0.015625)\"/>\n       </defs>\n       <use xlink:href=\"#DejaVuSans-32\"/>\n       <use x=\"63.623047\" xlink:href=\"#DejaVuSans-2e\"/>\n       <use x=\"95.410156\" xlink:href=\"#DejaVuSans-35\"/>\n      </g>\n     </g>\n    </g>\n    <g id=\"ytick_3\">\n     <g id=\"line2d_15\">\n      <path clip-path=\"url(#p1a36b13d2e)\" d=\"M 36.465625 182.234315 \nL 371.265625 182.234315 \n\" style=\"fill:none;stroke:#b0b0b0;stroke-linecap:square;stroke-opacity:0.5;stroke-width:0.8;\"/>\n     </g>\n     <g id=\"line2d_16\">\n      <g>\n       <use style=\"stroke:#000000;stroke-width:0.8;\" x=\"36.465625\" xlink:href=\"#m4646387711\" y=\"182.234315\"/>\n      </g>\n     </g>\n     <g id=\"text_13\">\n      <!-- 5.0 -->\n      <g transform=\"translate(13.5625 186.033534)scale(0.1 -0.1)\">\n       <use xlink:href=\"#DejaVuSans-35\"/>\n       <use x=\"63.623047\" xlink:href=\"#DejaVuSans-2e\"/>\n       <use x=\"95.410156\" xlink:href=\"#DejaVuSans-30\"/>\n      </g>\n     </g>\n    </g>\n    <g id=\"ytick_4\">\n     <g id=\"line2d_17\">\n      <path clip-path=\"url(#p1a36b13d2e)\" d=\"M 36.465625 153.472411 \nL 371.265625 153.472411 \n\" style=\"fill:none;stroke:#b0b0b0;stroke-linecap:square;stroke-opacity:0.5;stroke-width:0.8;\"/>\n     </g>\n     <g id=\"line2d_18\">\n      <g>\n       <use style=\"stroke:#000000;stroke-width:0.8;\" x=\"36.465625\" xlink:href=\"#m4646387711\" y=\"153.472411\"/>\n      </g>\n     </g>\n     <g id=\"text_14\">\n      <!-- 7.5 -->\n      <g transform=\"translate(13.5625 157.271629)scale(0.1 -0.1)\">\n       <defs>\n        <path d=\"M 525 4666 \nL 3525 4666 \nL 3525 4397 \nL 1831 0 \nL 1172 0 \nL 2766 4134 \nL 525 4134 \nL 525 4666 \nz\n\" id=\"DejaVuSans-37\" transform=\"scale(0.015625)\"/>\n       </defs>\n       <use xlink:href=\"#DejaVuSans-37\"/>\n       <use x=\"63.623047\" xlink:href=\"#DejaVuSans-2e\"/>\n       <use x=\"95.410156\" xlink:href=\"#DejaVuSans-35\"/>\n      </g>\n     </g>\n    </g>\n    <g id=\"ytick_5\">\n     <g id=\"line2d_19\">\n      <path clip-path=\"url(#p1a36b13d2e)\" d=\"M 36.465625 124.710506 \nL 371.265625 124.710506 \n\" style=\"fill:none;stroke:#b0b0b0;stroke-linecap:square;stroke-opacity:0.5;stroke-width:0.8;\"/>\n     </g>\n     <g id=\"line2d_20\">\n      <g>\n       <use style=\"stroke:#000000;stroke-width:0.8;\" x=\"36.465625\" xlink:href=\"#m4646387711\" y=\"124.710506\"/>\n      </g>\n     </g>\n     <g id=\"text_15\">\n      <!-- 10.0 -->\n      <g transform=\"translate(7.2 128.509725)scale(0.1 -0.1)\">\n       <defs>\n        <path d=\"M 794 531 \nL 1825 531 \nL 1825 4091 \nL 703 3866 \nL 703 4441 \nL 1819 4666 \nL 2450 4666 \nL 2450 531 \nL 3481 531 \nL 3481 0 \nL 794 0 \nL 794 531 \nz\n\" id=\"DejaVuSans-31\" transform=\"scale(0.015625)\"/>\n       </defs>\n       <use xlink:href=\"#DejaVuSans-31\"/>\n       <use x=\"63.623047\" xlink:href=\"#DejaVuSans-30\"/>\n       <use x=\"127.246094\" xlink:href=\"#DejaVuSans-2e\"/>\n       <use x=\"159.033203\" xlink:href=\"#DejaVuSans-30\"/>\n      </g>\n     </g>\n    </g>\n    <g id=\"ytick_6\">\n     <g id=\"line2d_21\">\n      <path clip-path=\"url(#p1a36b13d2e)\" d=\"M 36.465625 95.948601 \nL 371.265625 95.948601 \n\" style=\"fill:none;stroke:#b0b0b0;stroke-linecap:square;stroke-opacity:0.5;stroke-width:0.8;\"/>\n     </g>\n     <g id=\"line2d_22\">\n      <g>\n       <use style=\"stroke:#000000;stroke-width:0.8;\" x=\"36.465625\" xlink:href=\"#m4646387711\" y=\"95.948601\"/>\n      </g>\n     </g>\n     <g id=\"text_16\">\n      <!-- 12.5 -->\n      <g transform=\"translate(7.2 99.74782)scale(0.1 -0.1)\">\n       <use xlink:href=\"#DejaVuSans-31\"/>\n       <use x=\"63.623047\" xlink:href=\"#DejaVuSans-32\"/>\n       <use x=\"127.246094\" xlink:href=\"#DejaVuSans-2e\"/>\n       <use x=\"159.033203\" xlink:href=\"#DejaVuSans-35\"/>\n      </g>\n     </g>\n    </g>\n    <g id=\"ytick_7\">\n     <g id=\"line2d_23\">\n      <path clip-path=\"url(#p1a36b13d2e)\" d=\"M 36.465625 67.186696 \nL 371.265625 67.186696 \n\" style=\"fill:none;stroke:#b0b0b0;stroke-linecap:square;stroke-opacity:0.5;stroke-width:0.8;\"/>\n     </g>\n     <g id=\"line2d_24\">\n      <g>\n       <use style=\"stroke:#000000;stroke-width:0.8;\" x=\"36.465625\" xlink:href=\"#m4646387711\" y=\"67.186696\"/>\n      </g>\n     </g>\n     <g id=\"text_17\">\n      <!-- 15.0 -->\n      <g transform=\"translate(7.2 70.985915)scale(0.1 -0.1)\">\n       <use xlink:href=\"#DejaVuSans-31\"/>\n       <use x=\"63.623047\" xlink:href=\"#DejaVuSans-35\"/>\n       <use x=\"127.246094\" xlink:href=\"#DejaVuSans-2e\"/>\n       <use x=\"159.033203\" xlink:href=\"#DejaVuSans-30\"/>\n      </g>\n     </g>\n    </g>\n    <g id=\"ytick_8\">\n     <g id=\"line2d_25\">\n      <path clip-path=\"url(#p1a36b13d2e)\" d=\"M 36.465625 38.424792 \nL 371.265625 38.424792 \n\" style=\"fill:none;stroke:#b0b0b0;stroke-linecap:square;stroke-opacity:0.5;stroke-width:0.8;\"/>\n     </g>\n     <g id=\"line2d_26\">\n      <g>\n       <use style=\"stroke:#000000;stroke-width:0.8;\" x=\"36.465625\" xlink:href=\"#m4646387711\" y=\"38.424792\"/>\n      </g>\n     </g>\n     <g id=\"text_18\">\n      <!-- 17.5 -->\n      <g transform=\"translate(7.2 42.22401)scale(0.1 -0.1)\">\n       <use xlink:href=\"#DejaVuSans-31\"/>\n       <use x=\"63.623047\" xlink:href=\"#DejaVuSans-37\"/>\n       <use x=\"127.246094\" xlink:href=\"#DejaVuSans-2e\"/>\n       <use x=\"159.033203\" xlink:href=\"#DejaVuSans-35\"/>\n      </g>\n     </g>\n    </g>\n   </g>\n   <g id=\"patch_13\">\n    <path d=\"M 36.465625 239.758125 \nL 36.465625 22.318125 \n\" style=\"fill:none;stroke:#000000;stroke-linecap:square;stroke-linejoin:miter;stroke-width:0.8;\"/>\n   </g>\n   <g id=\"patch_14\">\n    <path d=\"M 371.265625 239.758125 \nL 371.265625 22.318125 \n\" style=\"fill:none;stroke:#000000;stroke-linecap:square;stroke-linejoin:miter;stroke-width:0.8;\"/>\n   </g>\n   <g id=\"patch_15\">\n    <path d=\"M 36.465625 239.758125 \nL 371.265625 239.758125 \n\" style=\"fill:none;stroke:#000000;stroke-linecap:square;stroke-linejoin:miter;stroke-width:0.8;\"/>\n   </g>\n   <g id=\"patch_16\">\n    <path d=\"M 36.465625 22.318125 \nL 371.265625 22.318125 \n\" style=\"fill:none;stroke:#000000;stroke-linecap:square;stroke-linejoin:miter;stroke-width:0.8;\"/>\n   </g>\n   <g id=\"text_19\">\n    <!-- Parole con maggiore sovrapposizione lessicale -->\n    <g style=\"fill:#1b0037;\" transform=\"translate(64.411563 16.318125)scale(0.12 -0.12)\">\n     <defs>\n      <path d=\"M 1259 4147 \nL 1259 2394 \nL 2053 2394 \nQ 2494 2394 2734 2622 \nQ 2975 2850 2975 3272 \nQ 2975 3691 2734 3919 \nQ 2494 4147 2053 4147 \nL 1259 4147 \nz\nM 628 4666 \nL 2053 4666 \nQ 2838 4666 3239 4311 \nQ 3641 3956 3641 3272 \nQ 3641 2581 3239 2228 \nQ 2838 1875 2053 1875 \nL 1259 1875 \nL 1259 0 \nL 628 0 \nL 628 4666 \nz\n\" id=\"DejaVuSans-50\" transform=\"scale(0.015625)\"/>\n      <path id=\"DejaVuSans-20\" transform=\"scale(0.015625)\"/>\n      <path d=\"M 191 3500 \nL 800 3500 \nL 1894 563 \nL 2988 3500 \nL 3597 3500 \nL 2284 0 \nL 1503 0 \nL 191 3500 \nz\n\" id=\"DejaVuSans-76\" transform=\"scale(0.015625)\"/>\n      <path d=\"M 353 3500 \nL 3084 3500 \nL 3084 2975 \nL 922 459 \nL 3084 459 \nL 3084 0 \nL 275 0 \nL 275 525 \nL 2438 3041 \nL 353 3041 \nL 353 3500 \nz\n\" id=\"DejaVuSans-7a\" transform=\"scale(0.015625)\"/>\n     </defs>\n     <use xlink:href=\"#DejaVuSans-50\"/>\n     <use x=\"55.802734\" xlink:href=\"#DejaVuSans-61\"/>\n     <use x=\"117.082031\" xlink:href=\"#DejaVuSans-72\"/>\n     <use x=\"155.945312\" xlink:href=\"#DejaVuSans-6f\"/>\n     <use x=\"217.126953\" xlink:href=\"#DejaVuSans-6c\"/>\n     <use x=\"244.910156\" xlink:href=\"#DejaVuSans-65\"/>\n     <use x=\"306.433594\" xlink:href=\"#DejaVuSans-20\"/>\n     <use x=\"338.220703\" xlink:href=\"#DejaVuSans-63\"/>\n     <use x=\"393.201172\" xlink:href=\"#DejaVuSans-6f\"/>\n     <use x=\"454.382812\" xlink:href=\"#DejaVuSans-6e\"/>\n     <use x=\"517.761719\" xlink:href=\"#DejaVuSans-20\"/>\n     <use x=\"549.548828\" xlink:href=\"#DejaVuSans-6d\"/>\n     <use x=\"646.960938\" xlink:href=\"#DejaVuSans-61\"/>\n     <use x=\"708.240234\" xlink:href=\"#DejaVuSans-67\"/>\n     <use x=\"771.716797\" xlink:href=\"#DejaVuSans-67\"/>\n     <use x=\"835.193359\" xlink:href=\"#DejaVuSans-69\"/>\n     <use x=\"862.976562\" xlink:href=\"#DejaVuSans-6f\"/>\n     <use x=\"924.158203\" xlink:href=\"#DejaVuSans-72\"/>\n     <use x=\"963.021484\" xlink:href=\"#DejaVuSans-65\"/>\n     <use x=\"1024.544922\" xlink:href=\"#DejaVuSans-20\"/>\n     <use x=\"1056.332031\" xlink:href=\"#DejaVuSans-73\"/>\n     <use x=\"1108.431641\" xlink:href=\"#DejaVuSans-6f\"/>\n     <use x=\"1169.613281\" xlink:href=\"#DejaVuSans-76\"/>\n     <use x=\"1228.792969\" xlink:href=\"#DejaVuSans-72\"/>\n     <use x=\"1269.90625\" xlink:href=\"#DejaVuSans-61\"/>\n     <use x=\"1331.185547\" xlink:href=\"#DejaVuSans-70\"/>\n     <use x=\"1394.662109\" xlink:href=\"#DejaVuSans-70\"/>\n     <use x=\"1458.138672\" xlink:href=\"#DejaVuSans-6f\"/>\n     <use x=\"1519.320312\" xlink:href=\"#DejaVuSans-73\"/>\n     <use x=\"1571.419922\" xlink:href=\"#DejaVuSans-69\"/>\n     <use x=\"1599.203125\" xlink:href=\"#DejaVuSans-7a\"/>\n     <use x=\"1651.693359\" xlink:href=\"#DejaVuSans-69\"/>\n     <use x=\"1679.476562\" xlink:href=\"#DejaVuSans-6f\"/>\n     <use x=\"1740.658203\" xlink:href=\"#DejaVuSans-6e\"/>\n     <use x=\"1804.037109\" xlink:href=\"#DejaVuSans-65\"/>\n     <use x=\"1865.560547\" xlink:href=\"#DejaVuSans-20\"/>\n     <use x=\"1897.347656\" xlink:href=\"#DejaVuSans-6c\"/>\n     <use x=\"1925.130859\" xlink:href=\"#DejaVuSans-65\"/>\n     <use x=\"1986.654297\" xlink:href=\"#DejaVuSans-73\"/>\n     <use x=\"2038.753906\" xlink:href=\"#DejaVuSans-73\"/>\n     <use x=\"2090.853516\" xlink:href=\"#DejaVuSans-69\"/>\n     <use x=\"2118.636719\" xlink:href=\"#DejaVuSans-63\"/>\n     <use x=\"2173.617188\" xlink:href=\"#DejaVuSans-61\"/>\n     <use x=\"2234.896484\" xlink:href=\"#DejaVuSans-6c\"/>\n     <use x=\"2262.679688\" xlink:href=\"#DejaVuSans-65\"/>\n    </g>\n   </g>\n  </g>\n </g>\n <defs>\n  <clipPath id=\"p1a36b13d2e\">\n   <rect height=\"217.44\" width=\"334.8\" x=\"36.465625\" y=\"22.318125\"/>\n  </clipPath>\n </defs>\n</svg>\n",
      "text/plain": [
       "<Figure size 432x288 with 1 Axes>"
      ]
     },
     "metadata": {
      "needs_background": "light"
     },
     "output_type": "display_data"
    },
    {
     "data": {
      "text/plain": [
       "[['abil',\n",
       "  'fear',\n",
       "  'face',\n",
       "  'situat',\n",
       "  'someth',\n",
       "  'allow',\n",
       "  'make',\n",
       "  'scare',\n",
       "  'danger',\n",
       "  'despit'],\n",
       " [18, 17, 9, 7, 7, 5, 4, 4, 4, 3]]"
      ]
     },
     "execution_count": 147,
     "metadata": {},
     "output_type": "execute_result"
    }
   ],
   "source": [
    "plot_frequencies('Courage')"
   ]
  },
  {
   "cell_type": "markdown",
   "metadata": {
    "collapsed": false,
    "pycharm": {
     "name": "#%% md\n"
    }
   },
   "source": [
    "# Laboratorio 1.3\n",
    "## Word Sense Induction\n",
    "Si contrappone al Word Sense Disambiguation che è un problema computazionale aperto in cui si deve riconoscere il **senso** di una parola in una frase, siccome una parola può essere utilizzata con accezioni differenti.\n",
    "Il ***Word Sense Induction*** è invece basato su un meccanismo dove si uniscono due parole (creando una pseudo-word) e si da uno score se quando si itera sul corpus si incontra una delle componenti della pseudoword. Lo score può essere positivo se si ci riferisce a una componente e negativo se ci si riferisce alla seconda componente."
   ]
  },
  {
   "cell_type": "code",
   "execution_count": 148,
   "metadata": {
    "collapsed": false,
    "pycharm": {
     "name": "#%%\n"
    }
   },
   "outputs": [],
   "source": [
    "# Restituisce una lista con tutti i token distinte utilizzate\n",
    "def get_tokens(corpus): \n",
    "    words = []\n",
    "    data = pre_processing(corpus)\n",
    "\n",
    "    if type(corpus) == dict:\n",
    "        for concept in data.keys():\n",
    "            for sentence in corpus[concept]:\n",
    "                for token in corpus[concept][sentence]:\n",
    "                    if token != \"'s\":\n",
    "                        words.append(token)\n",
    "\n",
    "    elif type(data) == list:\n",
    "        for element in data:\n",
    "            if element[0] != \"'s\":\n",
    "                words.append(element[0])\n",
    "\n",
    "    return list(set(words))"
   ]
  },
  {
   "cell_type": "code",
   "execution_count": 149,
   "metadata": {},
   "outputs": [
    {
     "name": "stdout",
     "output_type": "stream",
     "text": [
      "['veget', 'someth', 'qualcosa', 'handwrit', 'avail', 'brutto', 'tip', 'scar', 'fold', 'resist', 'spiacevol', 'communic', 'abili', 'differ', 'inner', 'preoccup', 'deriv', 'abil', 'accada', 'action', 'sheet', 'veri', 'creat', 'fiber', 'human', 'student', 'surfac', 'upset', 'easili', 'fear', 'piec', 'scari', 'uncofort', 'nervous', 'made', 'print', 'especi', 'expect', 'strength', 'retriev', 'typic', 'strang', 'ventur', 'unexpect', 'character', 'easi', 'obtain', 'order', 'hero', 'work', 'done', 'make', 'scare', 'happen', 'packag', 'withstand', 'sever', 'smooth', 'disturb', 'equip', 'cellulos', 'unpleas', 'flat', 'devic', 'understand', 'draw', 'sad', 'aptitud', 'short', 'tool', 'face', 'abl', 'moral', 'write', 'usual', 'bad', 'difficult', 'stationeri', 'agit', 'refin', 'subject', 'cut', 'consid', 'state', 'compos', 'normal', 'non-relax', 'frighten', 'constant', 'product', 'mark', 'us', 'overcom', 'store', 'sharper', 'characterist', 'anticip', 'end', 'general', 'someon', 'inform', 'status', 'peopl', 'note', 'futur', 'take', 'materi', 'unaccommod', 'context', 'discomfort', 'worri', 'sharpen', 'suspens', 'loss', 'edg', 'return', 'graphit', 'without', 'type', 'control', 'behavior', 'paura', 'difficulti', 'block', 'experi', 'allow', 'craft', 'thin', 'laid', 'properti', 'water', 'kind', 'shapen', 'sens', 'mood', 'choic', 'possibl', 'high', 'written', 'anxieti', 'wood', 'may', 'lead', 'object', 'event', 'mind', 'deal', 'act', 'littl', 'danger', 'thing', 'persever', 'thaht', 'cortex', 'univers', 'particular', 'lightweight', 'abnorm', 'ansia', 'learn', 'situat', 'pencil', 'despit', 'purpos', 'mine', 'drastic', 'multipl', 'caus', 'felt', 'one', 'screen', 'understood', 'beyond', 'restless', 'sharpner', 'mental', 'qualiti', 'rip', 'negat', 'medium', 'person', 'feel', 'clearer', 'pathway', 'blade', 'riski', 'tree', 'uneas', 'sharp', 'use', 'ani', 'way', 'avoid', 'go', 'provok', 'awe', 'perform', 'fine', 'emot', 'risk']\n"
     ]
    }
   ],
   "source": [
    "print(get_tokens(data_extraction()))"
   ]
  },
  {
   "cell_type": "code",
   "execution_count": 150,
   "metadata": {},
   "outputs": [],
   "source": [
    "# Restituisce un dictionary con le pseudo-words come chiavi e 0 come valori\n",
    "def generate_pseudo_words(corpus):\n",
    "    list_of_tokens = get_tokens(corpus)\n",
    "    pseudo_words = {}\n",
    "    scores = {}\n",
    "    \n",
    "    for token in range(0, len(list_of_tokens), 2):\n",
    "        try:\n",
    "            pseudo_word = list_of_tokens[token] + list_of_tokens[token + 1]\n",
    "            scores.setdefault(pseudo_word, 0)\n",
    "            pseudo_words.setdefault(pseudo_word, [list_of_tokens[token], list_of_tokens[token + 1]])\n",
    "\n",
    "        except IndexError:\n",
    "            continue\n",
    "        \n",
    "    return [scores, pseudo_words]"
   ]
  },
  {
   "cell_type": "code",
   "execution_count": 151,
   "metadata": {},
   "outputs": [],
   "source": [
    "#print(generate_pseudo_words(data_extraction('dataset/db.csv'))[1])"
   ]
  },
  {
   "cell_type": "code",
   "execution_count": 152,
   "metadata": {},
   "outputs": [],
   "source": [
    "# Restituisce un nuovo corpus con al posto di alcuni token i token con le pseudo-words, e in più restituisce anche una lista associativa con le pseudo-words e il loro score\n",
    "def substitute_pseudo_words(corpus, corpus_to_substitute=None):\n",
    "    corpus = pre_processing(corpus)\n",
    "    corpus_to_substitute = pre_processing(corpus_to_substitute)\n",
    "    new_corpus = {}\n",
    "    pseudo_words_dictionary = generate_pseudo_words(data_extraction('dataset/db.csv'))[0]\n",
    "    pseudo_words_map = generate_pseudo_words(data_extraction('dataset/db.csv'))[1]\n",
    "\n",
    "\n",
    "    if type(corpus) == dict:\n",
    "\n",
    "        for concept in corpus.keys():\n",
    "            new_corpus.setdefault(concept, {})\n",
    "            \n",
    "            for definition_number in corpus[concept]: \n",
    "\n",
    "                if definition_number not in new_corpus[concept].keys():\n",
    "                    new_corpus[concept].setdefault(definition_number, [])\n",
    "                    \n",
    "                    \n",
    "                for token in corpus[concept][definition_number]:\n",
    "                    keys = list(pseudo_words_map.keys())\n",
    "                    combined = '\\t'.join(keys)\n",
    "                    if token in combined:\n",
    "                        pseudo_word = [pseudo_word for pseudo_word in keys if token in pseudo_word][0]\n",
    "\n",
    "                        # Se la parola la prima parola che compone la pseudo-word è contenuta nella pseudo-word allora si aggiunge 1\n",
    "                        if token in pseudo_words_map[pseudo_word][0]:\n",
    "                            pseudo_words_dictionary[pseudo_word] += 1\n",
    "                        else: \n",
    "                            pseudo_words_dictionary[pseudo_word] -= 1   \n",
    "\n",
    "                        if pseudo_word != '':\n",
    "                            token = token.replace(token, pseudo_word)\n",
    "\n",
    "                    new_corpus[concept][definition_number].append(token)\n",
    "\n",
    "    \n",
    "    \n",
    "    elif type(corpus) == list:\n",
    "        for element in corpus:\n",
    "            token = element[0]\n",
    "            keys = list(pseudo_words_dictionary.keys())\n",
    "            combined = '\\t'.join(keys)\n",
    "            if token in combined:\n",
    "                pseudo_word = [pseudo_word for pseudo_word in keys if token in pseudo_word][0]\n",
    "\n",
    "                # Se la parola la prima parola che compone la pseudo-word è contenuta nella pseudo-word allora si aggiunge 1\n",
    "                try:\n",
    "                    if token in pseudo_words_map[pseudo_word][0]:\n",
    "                        pseudo_words_dictionary[pseudo_word] += 1\n",
    "\n",
    "                except KeyError:\n",
    "                    pseudo_words_dictionary.setdefault(pseudo_word, 1)\n",
    "\n",
    "                try:\n",
    "                    if token in pseudo_words_map[pseudo_word][1]:\n",
    "                        pseudo_words_dictionary[pseudo_word] -= 1\n",
    "\n",
    "                except KeyError:\n",
    "                    pseudo_words_dictionary.setdefault(pseudo_word, -1)\n",
    "\n",
    "                if pseudo_word != '':\n",
    "                    token = token.replace(token, pseudo_word)\n",
    "\n",
    "            for concept in corpus_to_substitute.keys():\n",
    "                if concept not in new_corpus.keys():\n",
    "                    new_corpus.setdefault(concept, {})\n",
    "\n",
    "\n",
    "                for definition_number in corpus_to_substitute[concept]:\n",
    "                    new_definition = []\n",
    "\n",
    "                    # Ogni token viene sostituito con la pseudoword che contiene il token\n",
    "                    for token in corpus_to_substitute[concept][definition_number]:\n",
    "                        if token in pseudo_word:\n",
    "                            #print(f\"{token} - {pseudo_word[:len(token)]}\")\n",
    "\n",
    "                            token = token.replace(token, pseudo_word)\n",
    "\n",
    "                        new_definition.append(token)\n",
    "                    new_corpus[concept].setdefault(definition_number, new_definition)\n",
    "\n",
    "    return [new_corpus, pseudo_words_dictionary]           "
   ]
  },
  {
   "cell_type": "code",
   "execution_count": 153,
   "metadata": {},
   "outputs": [
    {
     "data": {
      "text/plain": [
       "[{'Courage': {0: ['properti',\n",
       "    'situat',\n",
       "    'despit',\n",
       "    'allow',\n",
       "    'ani',\n",
       "    'face',\n",
       "    'fear',\n",
       "    'feel'],\n",
       "   1: ['someth', 'fear', 'scar', 'make', 'face', 'us', 'abil', 'unpleas'],\n",
       "   2: ['face', 'thing', 'without', 'fear', 'abil'],\n",
       "   4: ['situat', 'allow', 'face', 'inner', 'thaht', 'strength', 'particular'],\n",
       "   5: ['fear', 'abil', 'control'],\n",
       "   6: ['someth', 'deal', 'unpleas', 'fear', 'abil', 'control'],\n",
       "   7: ['action', 'avoid', 'take', 'riski', 'fear', 'abil'],\n",
       "   8: ['action', 'abili', 'make', 'choic', 'take', 'without', 'fear'],\n",
       "   9: ['fear', 'abl', 'someth'],\n",
       "   10: ['frighten', 'someth', 'despit', 'abil'],\n",
       "   11: ['scare', 'peopl', 'someth', 'abil'],\n",
       "   13: ['situat', 'allow', 'consid', 'danger', 'face', 'us', 'feel'],\n",
       "   14: ['scari', 'someth', 'may', 'abil'],\n",
       "   15: ['make', 'drastic', 'abil', 'choic'],\n",
       "   16: ['fear', 'abil', 'overcom'],\n",
       "   17: ['person', 'characterist', 'take', 'risk'],\n",
       "   18: ['general', 'qualiti', 'scare', 'danger', 'abl', 'thing'],\n",
       "   19: ['typic', 'behavior', 'hero'],\n",
       "   20: ['face', 'situat', 'difficult', 'abil'],\n",
       "   21: ['fear', 'peopl', 'someth', 'abil'],\n",
       "   22: ['situat', 'difficult', 'mind', 'allow', 'face', 'strength'],\n",
       "   23: [\"'s\", 'face', 'one', 'fear', 'abil'],\n",
       "   24: ['fear', 'block', 'abil'],\n",
       "   25: ['beyond', 'allow', 'someon', 'go', 'emot', 'expect'],\n",
       "   26: ['despit', 'act', 'danger', 'perform', 'fear', 'abil'],\n",
       "   27: ['difficulti',\n",
       "    'mental',\n",
       "    'danger',\n",
       "    'moral',\n",
       "    'withstand',\n",
       "    'persever',\n",
       "    'strength',\n",
       "    'fear',\n",
       "    'ventur'],\n",
       "   28: ['situat', 'scare', 'provok', 'resist', 'fear', 'abil'],\n",
       "   29: ['fear', 'abil', 'overcom'],\n",
       "   30: ['situat', 'difficult', 'face', 'fear', 'abil', 'overcom'],\n",
       "   31: ['make', 'scare', 'aptitud', 'human', 'abl']},\n",
       "  'Paper': {0: ['cut', 'fold', 'written', 'cellulos', 'materi'],\n",
       "   1: ['context', 'tree', 'use', 'sever', 'deriv', 'materi'],\n",
       "   2: ['cellulos', 'made', 'materi', 'type'],\n",
       "   4: ['obtain', 'use', 'product', 'wood', 'write', 'cellulos'],\n",
       "   5: ['use', 'made', 'wood', 'write', 'materi', 'flat'],\n",
       "   6: ['piec',\n",
       "    'subject',\n",
       "    'done',\n",
       "    'write',\n",
       "    'short',\n",
       "    'student',\n",
       "    'one',\n",
       "    'especi',\n",
       "    'univers',\n",
       "    'particular'],\n",
       "   7: ['tree', 'use', 'deriv', 'write', 'materi'],\n",
       "   8: ['tree', 'obtain', \"'s\", 'cortex', 'materi'],\n",
       "   9: ['use', 'note', 'craft', 'wood', 'take', 'materi'],\n",
       "   10: ['easili', 'object', 'write', 'thin'],\n",
       "   11: ['draw', 'use', 'packag', 'made', 'print', 'wood', 'write', 'materi'],\n",
       "   13: ['use', 'general', 'compos', 'product', 'write', 'cellulos'],\n",
       "   14: ['surfac', 'write'],\n",
       "   15: ['write', 'materi', 'draw', 'possibl'],\n",
       "   16: ['write', 'materi'],\n",
       "   17: ['tree', 'obtain', 'materi'],\n",
       "   18: ['obtain', 'general', 'use', 'wood', 'write', 'materi'],\n",
       "   19: ['medium', 'written', 'communic'],\n",
       "   20: ['write', 'someth'],\n",
       "   21: ['thin', 'made', 'materi', 'cellulos'],\n",
       "   22: ['cellulos', 'materi', 'compos'],\n",
       "   23: ['obtain', 'use', 'purpos', 'multipl', 'wood', 'materi'],\n",
       "   24: ['write', 'materi', 'use'],\n",
       "   25: ['write', 'materi', 'avail'],\n",
       "   26: ['tree', 'cellulos', \"'s\", 'product'],\n",
       "   27: ['water',\n",
       "    'veget',\n",
       "    'sheet',\n",
       "    'suspens',\n",
       "    'fiber',\n",
       "    'felt',\n",
       "    'fine',\n",
       "    'usual',\n",
       "    'screen',\n",
       "    'laid'],\n",
       "   28: ['materi', 'print', 'use', 'handwrit'],\n",
       "   29: ['write', 'materi', 'use'],\n",
       "   30: ['easi', 'use', 'rip', 'lightweight', 'write', 'materi'],\n",
       "   31: ['store', 'kind', 'inform', 'retriev', 'one', 'materi']},\n",
       "  'Apprehension': {0: ['someth',\n",
       "    'differ',\n",
       "    'veri',\n",
       "    'caus',\n",
       "    'normal',\n",
       "    'abnorm',\n",
       "    'strang',\n",
       "    'feel'],\n",
       "   1: ['expect', 'anticip', 'fear'],\n",
       "   2: ['mood', 'one', 'feel', 'agit'],\n",
       "   4: ['state', 'disturb'],\n",
       "   5: ['worri', 'futur'],\n",
       "   6: ['understood', 'someth', 'understand', 'act', 'way'],\n",
       "   7: ['event', 'mind', 'state', 'non-relax', 'deriv', 'unaccommod'],\n",
       "   8: ['sens', 'sad', 'loss', 'awe', 'fear'],\n",
       "   9: ['situat',\n",
       "    'someth',\n",
       "    'mental',\n",
       "    'status',\n",
       "    'make',\n",
       "    'uncofort',\n",
       "    'person',\n",
       "    'feel'],\n",
       "   10: ['state', 'frighten', 'one', 'mind'],\n",
       "   11: ['bad', 'someth', 'happen', 'anxieti', 'fear', 'unexpect'],\n",
       "   13: ['anxieti', 'mental', 'state', 'high'],\n",
       "   14: ['someon', 'feel', 'preoccup', 'someth'],\n",
       "   15: ['state', 'emot', 'person', 'fear', 'feel'],\n",
       "   16: ['bad', 'happen', 'someth', 'feel'],\n",
       "   17: ['person', 'emot', 'negat'],\n",
       "   18: ['character', 'mental', 'status', 'anxieti', 'fear'],\n",
       "   19: ['paura', 'qualcosa', 'brutto', 'spiacevol', 'accada', 'ansia'],\n",
       "   20: ['anxieti', 'constant', 'fear'],\n",
       "   21: ['anxieti', 'fear', 'feel'],\n",
       "   22: ['anxieti', 'state', 'mind', 'upset'],\n",
       "   23: ['mood', 'nervous', 'agit'],\n",
       "   24: ['learn', 'pathway'],\n",
       "   25: ['feel', 'uneas'],\n",
       "   26: ['bad', 'someth', 'happen', 'anxieti', 'fear', 'unpleas'],\n",
       "   27: ['bad', 'someth', 'happen', 'anxieti', 'fear', 'unpleas'],\n",
       "   28: ['discomfort', 'fear', 'feel'],\n",
       "   29: ['anxieti', 'happen', 'someth', 'unpleas'],\n",
       "   30: ['situat', 'state', 'anxieti', 'fear', 'particular'],\n",
       "   31: ['agit', 'experi', 'restless', 'make', 'emot']},\n",
       "  'Sharpener': {0: ['sharpen',\n",
       "    'allow',\n",
       "    'tip',\n",
       "    'tool',\n",
       "    'blade',\n",
       "    'equip',\n",
       "    'pencil'],\n",
       "   1: ['object', 'pencil', 'shapen', 'use'],\n",
       "   2: ['object', 'pencil', 'sharpen'],\n",
       "   4: ['use', 'pencil', 'sharpen', 'tool'],\n",
       "   5: ['object', 'sharpen', 'allow', 'littl', 'pencil'],\n",
       "   6: ['sharper', 'make', 'someth', 'tool'],\n",
       "   7: ['use', 'tip', 'cut', 'tool', 'pencil'],\n",
       "   8: ['sharpner', 'mine', 'make', 'tool'],\n",
       "   9: ['tool', 'pencil', 'use', 'sharpen'],\n",
       "   10: ['object', 'pencil', 'sharpen', 'allow'],\n",
       "   11: ['object', 'use', 'sharpen', 'write', 'pencil'],\n",
       "   13: ['use', 'sharpen', 'tool', 'blade', 'pencil'],\n",
       "   14: ['pencil', 'sharpen', 'tool'],\n",
       "   15: ['pencil', 'sharpen', 'tool'],\n",
       "   16: ['pencil', 'sharpen', 'tool'],\n",
       "   17: ['object', 'pencil', 'sharpen', 'allow'],\n",
       "   18: ['use', 'pencil', 'sharpen', 'tool'],\n",
       "   19: ['someth', 'sharp', 'make', 'person', 'devic'],\n",
       "   20: ['object', 'pencil', 'use', 'sharpen'],\n",
       "   21: ['object', 'pencil', 'use', 'sharpen'],\n",
       "   22: ['object', 'stationeri', 'use', 'graphit', 'smooth'],\n",
       "   23: ['use', 'pencil', 'sharpen', 'tool'],\n",
       "   24: ['lead', 'object', 'use', 'sharpen', 'pencil'],\n",
       "   25: ['object', 'order', 'work', 'return', 'pencil'],\n",
       "   26: ['make', 'pencil', 'sharp', 'tool'],\n",
       "   27: ['someth', 'sharp', 'make', 'person', 'devic'],\n",
       "   28: ['end', 'use', 'refin', 'creat', 'tool', 'edg', 'pencil'],\n",
       "   29: ['use', 'pencil', 'sharpen', 'tool'],\n",
       "   30: ['object', 'use', 'mine', 'write', 'pencil'],\n",
       "   31: ['clearer', 'use', 'make', 'mark', 'tool', 'pencil']}},\n",
       " {'cmps': -69,\n",
       "  'bassistlarabee': -19,\n",
       "  'phpkuwabara': -35,\n",
       "  'wichitaarchibald': -18,\n",
       "  'sofiaderek': 38,\n",
       "  'serieemmett': 0,\n",
       "  'egravesgml': 7,\n",
       "  'joranoclc': 23,\n",
       "  'keanuoptimus': 0,\n",
       "  'mnajd': 0,\n",
       "  'rafacolombo': 0,\n",
       "  'ignkentucky': -1,\n",
       "  'divisiónkib': 1,\n",
       "  'figjanuary': 0,\n",
       "  'synopsiscontestant': 0,\n",
       "  'harlantennessee': 0,\n",
       "  'unswall-star': 1,\n",
       "  'nashvillelegolas': 0,\n",
       "  'yeovilsquadron': 0,\n",
       "  'afcu': 1,\n",
       "  'manorvenezuela': -7,\n",
       "  'combsdoyle': 0,\n",
       "  'albumpiroxicam': -3,\n",
       "  'nrla': 1,\n",
       "  'wesnothcanuck': 0,\n",
       "  'inaraklamath': 0,\n",
       "  'triodisplaystyle': 0,\n",
       "  'ycodeine': -1,\n",
       "  'alotofgiants': 0,\n",
       "  'hoodiaub': 0,\n",
       "  'comparatorauburn': 0,\n",
       "  'iexede': -1,\n",
       "  'jasonwinning': 0,\n",
       "  'riscband': 0,\n",
       "  'xinjiangb': 1,\n",
       "  'decsquall': 0,\n",
       "  'korilleg': 0,\n",
       "  'zohoavas': 0,\n",
       "  'callerlimerick': 0,\n",
       "  'ziprecruiterlondonderry': 0,\n",
       "  'collierybronco': 0,\n",
       "  'hanoversaxophonist': 0,\n",
       "  'repecnolvadex': 0,\n",
       "  'elfmorales': 0,\n",
       "  'batmanabilify': 0,\n",
       "  'mlnmike': 0,\n",
       "  'wrestlerdownloads': 0,\n",
       "  'bahamasauthors': 0,\n",
       "  'luigiupc': 0,\n",
       "  'co-productiontamil': 0,\n",
       "  'webinarquarterback': 0,\n",
       "  'kennyself-titled': 0,\n",
       "  'gamingxena': 0,\n",
       "  'ephedrinehannity': 0,\n",
       "  'gigpercocet': 0,\n",
       "  'artswwe': 0,\n",
       "  'hydrocodonejosh': 0,\n",
       "  'isabelginny': 0,\n",
       "  'irishreopen': 0,\n",
       "  'ugravehomelessness': 0,\n",
       "  'vstrikeout': -1,\n",
       "  'buttigiegicann': 0,\n",
       "  'cornerbacksolo': 0,\n",
       "  'igembooks': 0,\n",
       "  'pngtreo': 0,\n",
       "  'facesittingorioles': 0,\n",
       "  'retrieveفي': 0,\n",
       "  'uwarookie': -1,\n",
       "  'hemorrhoidmla': 0,\n",
       "  'wyzantstation': 0,\n",
       "  'opfas': -1,\n",
       "  'kagomefag': 0,\n",
       "  'karnatakawelterweight': 0,\n",
       "  'celinaespn': 0,\n",
       "  '摘要xpress': 0,\n",
       "  'cubsliam': 0,\n",
       "  'starscreambumblebee': 0,\n",
       "  'skyrimlois': 0,\n",
       "  'adipexrbi': 0,\n",
       "  'bearingshasbro': 0,\n",
       "  'slatinx': -1,\n",
       "  'premierel': 1,\n",
       "  'indiciasynthroid': 0,\n",
       "  'lieutenantkeno': 0,\n",
       "  'eminigiuliani': 0,\n",
       "  'remakeseptember': 0,\n",
       "  'pass4suremedal': 0,\n",
       "  'donegalsonny': 0,\n",
       "  'countyfemdom': 0,\n",
       "  'hrivotril': -1,\n",
       "  'microprocessoru-m': 0,\n",
       "  'jakartagules': 0,\n",
       "  'lionsdarren': 0,\n",
       "  'belfastboise': 0,\n",
       "  'yankeesrotatable': 0,\n",
       "  'eï': -1,\n",
       "  'ctvfloyd': 0,\n",
       "  'fuselageaward': 0,\n",
       "  'ncaaplurality': 0,\n",
       "  'tournamenthubert': 0,\n",
       "  'vinlansing': 0,\n",
       "  'spockcheney': 0,\n",
       "  'wbbc': -1,\n",
       "  'bellawelsh': 0,\n",
       "  'novellchristchurch': 0,\n",
       "  'uconncircuitry': 0,\n",
       "  'mtodd': -1,\n",
       "  'xgit': -1,\n",
       "  'seanguitarist': -1,\n",
       "  'movertipperary': 0,\n",
       "  'hindwingsprite': 0,\n",
       "  'evictionuna': 0,\n",
       "  'toysusr': 0,\n",
       "  'منadirondack': 0,\n",
       "  'tnaj': 1,\n",
       "  'voldemortwaterford': 0,\n",
       "  'spongebobweblog': 0,\n",
       "  'vfldiethylpropion': -1,\n",
       "  'dodgersbreeders': 0,\n",
       "  'wsupayline': 0,\n",
       "  'rallmusic': -1,\n",
       "  'sabhapradesh': 0,\n",
       "  'pradawildblue': 0,\n",
       "  'cs1payout': 0,\n",
       "  'bootsأن': 0,\n",
       "  'nebraskabillboard': 0,\n",
       "  'duetwario': 0,\n",
       "  'newchurchnadu': 0,\n",
       "  'rushdenmax': 0,\n",
       "  're-electionjackpot': 1,\n",
       "  'prefecturelevothyroxine': 0,\n",
       "  'kirbydoi': 0,\n",
       "  'hughesnett': 1,\n",
       "  'uabremixe': 0,\n",
       "  'padrewellington': 0,\n",
       "  'singulairerik': 0,\n",
       "  'temazepamezra': 0,\n",
       "  'koopabettor': 0,\n",
       "  'flip-flopkiba': 0,\n",
       "  'playoffd': 1,\n",
       "  'spxflagyl': 0,\n",
       "  'filmstarfleet': 0,\n",
       "  'libufc': 0,\n",
       "  'manitobajesse': 0,\n",
       "  'great-grandchildshifflett': 0,\n",
       "  'joséquarantine': 0,\n",
       "  'jstorjoker': 0,\n",
       "  'conductivedistrict': 0,\n",
       "  'fandomcarrie': 0,\n",
       "  'blueethunberg': 0,\n",
       "  'co-wrotedecember': 0,\n",
       "  'safetylitapparatus': 0,\n",
       "  'obituaryvale': 0,\n",
       "  'wayneupi': 0,\n",
       "  'emailino': 0,\n",
       "  'hinataglabrous': 0,\n",
       "  'voivodeshipraider': 0,\n",
       "  'néeó': 1,\n",
       "  'diffcfia': 0,\n",
       "  'seasonpitcher': 0,\n",
       "  'wolverinepete': 0,\n",
       "  'nathanuyghur': 0,\n",
       "  'texansfootballer': 0,\n",
       "  'drummerbatsman': 0,\n",
       "  'stateroomobi-wan': 0,\n",
       "  'costelloguwahati': 0,\n",
       "  'gbactrim': -1,\n",
       "  'telanganamurfreesboro': 0,\n",
       "  'patrickbushfire': 0,\n",
       "  'baccaratblackjack': 0,\n",
       "  'dollyinaugural': 0,\n",
       "  'paperbackf': 1,\n",
       "  'guitarepisode': -1,\n",
       "  'ortonlinebacker': 0,\n",
       "  'tributarywilmington': 0,\n",
       "  'issnwiki': 0,\n",
       "  'lizbarr': 0,\n",
       "  'palinarchived': 0,\n",
       "  'mangarailway': 0,\n",
       "  'regattahampshire': 0,\n",
       "  'hmsmario': 0,\n",
       "  'dwarvep': 1,\n",
       "  'kpages': -1,\n",
       "  'tannerb-side': 0,\n",
       "  'zelllonghorn': 0,\n",
       "  'co-writesydney': 0,\n",
       "  'inflorescenceavon': 0,\n",
       "  'fayettenoel': 0,\n",
       "  'undefeatedmoreexpand_more': 0,\n",
       "  'alexbroadcast': 0,\n",
       "  'namesrecords': 0,\n",
       "  'junebahrain': 0,\n",
       "  'pinyinessex': 0,\n",
       "  'regimentastros': 0,\n",
       "  'tamiyaembodiment': 0,\n",
       "  'gaaagnes': 0,\n",
       "  'belgraderunner-up': 0,\n",
       "  'distancinggore': 0,\n",
       "  'modiagrave': 0,\n",
       "  'drewfilms': 0,\n",
       "  'screenplayroster': 0,\n",
       "  'cemeteryseton': 0,\n",
       "  'slotboulevard': 0,\n",
       "  'whereinnorthbound': 0,\n",
       "  'chathamcowboys': 0,\n",
       "  'contribriff': 0,\n",
       "  'zsesshomaru': -1,\n",
       "  'amigapenn': 0,\n",
       "  'tagsperiactin': 0,\n",
       "  'radioromanian': 0,\n",
       "  'ipfwgalway': 0,\n",
       "  'vocalbroadband': 0,\n",
       "  'loyolamilwaukee': 0,\n",
       "  'lb3archives': 0,\n",
       "  'belarusiann': 1,\n",
       "  'nataleemayor': 0,\n",
       "  'ritalinno-deal': 0,\n",
       "  'mccainidaho': 0,\n",
       "  'tribuneeduard': 0,\n",
       "  'baseballpikmin': 0,\n",
       "  'tortolabucky': 0,\n",
       "  'ubfsong': 0,\n",
       "  'kerrybutalbital': 0,\n",
       "  's10royals': 0,\n",
       "  'seahawkshousemate': 0,\n",
       "  'yusukemāori': 0,\n",
       "  'josiahjpg': 0,\n",
       "  'skorsongwriter': 0,\n",
       "  'shipyarddecoder': 0,\n",
       "  'argentinefic': 0,\n",
       "  'covidshiflett': 0,\n",
       "  'remusblair': 0,\n",
       "  'octobermick': 0,\n",
       "  'riveracomedy': 0,\n",
       "  'tenuatekakashi': 0,\n",
       "  'koyonorco': 0,\n",
       "  'kahlogael': 0,\n",
       "  're-electcreek': -1,\n",
       "  'heloviarepresentatives': 0,\n",
       "  'brucealford': 0,\n",
       "  'zoombingo': 0,\n",
       "  'freecadkino': 0,\n",
       "  'dorchesterltte': 0,\n",
       "  'pac-12disambiguation': 0,\n",
       "  'عdidrex': 0,\n",
       "  'shopsbaronet': 0,\n",
       "  'coltnsw': 1,\n",
       "  'cybertronimpeachment': 0,\n",
       "  'bellatorbulgarian': 0,\n",
       "  'orororahul': 0,\n",
       "  'wcoproductions': 0,\n",
       "  'baronybarcode': 0,\n",
       "  'first-classreeves': 0,\n",
       "  'intermenttrig': 0,\n",
       "  'in-personobverse': 0,\n",
       "  'cenamultiplexer': 0,\n",
       "  'harvireland': 0,\n",
       "  'senadublin': 0,\n",
       "  'sussexoblast': 0,\n",
       "  'biographicalativan': 0,\n",
       "  'histpremarin': 0,\n",
       "  'wuhancharlotte': 0}]"
      ]
     },
     "execution_count": 153,
     "metadata": {},
     "output_type": "execute_result"
    }
   ],
   "source": [
    "substitute_pseudo_words(data_extraction('dataset/db.csv'), data_extraction())"
   ]
  },
  {
   "cell_type": "code",
   "execution_count": 154,
   "metadata": {},
   "outputs": [],
   "source": [
    "# Score to probability\n",
    "def score_converter(score, scores_dictionary):\n",
    "    temp = []\n",
    "    rate = 0.00\n",
    "\n",
    "    for value in scores_dictionary.values():\n",
    "        temp.append(value)\n",
    "    \n",
    "    pos_max_score = max(temp)\n",
    "    neg_max_score = min(temp)\n",
    "\n",
    "    # Percentuale di quanto lo score è positivo (1.0 se è uguale al massimo)\n",
    "    if score > 0:\n",
    "        rate = score / pos_max_score\n",
    "\n",
    "    elif score < 0:\n",
    "        # Percentuale di quanto lo score è negativo (1.0 se è uguale al massimo)\n",
    "        rate = score / neg_max_score\n",
    "        \n",
    "    rate = round(rate, 2)\n",
    "    return rate\n"
   ]
  },
  {
   "cell_type": "code",
   "execution_count": 155,
   "metadata": {},
   "outputs": [
    {
     "data": {
      "text/plain": [
       "0.14"
      ]
     },
     "execution_count": 155,
     "metadata": {},
     "output_type": "execute_result"
    }
   ],
   "source": [
    "score_converter(-10, substitute_pseudo_words(data_extraction('dataset/db.csv'), data_extraction())[1])"
   ]
  },
  {
   "cell_type": "code",
   "execution_count": 156,
   "metadata": {},
   "outputs": [],
   "source": [
    "def wsi(target_corpus, scores, pseudo_words):\n",
    "\n",
    "    for concept in target_corpus.keys():\n",
    "        for index in target_corpus[concept]:\n",
    "            for token_index in range(len(target_corpus[concept][index])):\n",
    "                token = target_corpus[concept][index][token_index]\n",
    "\n",
    "                if token in scores.keys():\n",
    "                    pseudo_word = pseudo_words[token]\n",
    "\n",
    "                    score = scores[token]\n",
    "\n",
    "                    if score > 0:\n",
    "                        target_corpus[concept][index][token_index] = token.replace(token, pseudo_word[0]) \n",
    "\n",
    "                    elif score == 0:\n",
    "                        random_index = random.randint(0, 1)\n",
    "                        target_corpus[concept][index][token_index] = token.replace(token, pseudo_word[random_index]) \n",
    "\n",
    "                    else: \n",
    "                        target_corpus[concept][index][token_index] = token.replace(token, pseudo_word[1]) \n",
    "\n",
    "    return target_corpus"
   ]
  },
  {
   "cell_type": "code",
   "execution_count": 157,
   "metadata": {},
   "outputs": [],
   "source": [
    "def wsi2(target_corpus, scores, pseudo_words):\n",
    "\n",
    "    for concept in target_corpus.keys():\n",
    "        for index in target_corpus[concept]:\n",
    "            for token_index in range(len(target_corpus[concept][index])):\n",
    "                token = target_corpus[concept][index][token_index]\n",
    "\n",
    "                if token in scores.keys():\n",
    "                    pseudo_word = pseudo_words[token]\n",
    "\n",
    "                    score = scores[token]\n",
    "\n",
    "                    rate = score_converter(score, substitute_pseudo_words(data_extraction())[1])\n",
    "                    rnd = random.randint(0.00, 1.00)\n",
    "\n",
    "                    if score > 0:\n",
    "                        if rate > rnd:\n",
    "                            target_corpus[concept][index][token_index] = token.replace(token, pseudo_word[0]) \n",
    "                        else:\n",
    "                            target_corpus[concept][index][token_index] = token.replace(token, pseudo_word[1]) \n",
    "\n",
    "                    elif score == 0:\n",
    "                        random_index = random.randint(0, 1)\n",
    "                        target_corpus[concept][index][token_index] = token.replace(token, pseudo_word[random_index]) \n",
    "\n",
    "                    else: \n",
    "                        if rate > rnd:\n",
    "                            target_corpus[concept][index][token_index] = token.replace(token, pseudo_word[0]) \n",
    "                        else:\n",
    "                            target_corpus[concept][index][token_index] = token.replace(token, pseudo_word[1]) \n",
    "\n",
    "    return target_corpus"
   ]
  },
  {
   "cell_type": "code",
   "execution_count": 158,
   "metadata": {},
   "outputs": [],
   "source": [
    "def eval(wsi_corpus, real_corpus):\n",
    "    real_corpus = pre_processing(real_corpus)\n",
    "    right_previsions = 0\n",
    "    total = 0\n",
    "    for concept in real_corpus.keys():\n",
    "        for index in real_corpus[concept]:\n",
    "            for token_index in range(len(real_corpus[concept][index])):\n",
    "                token = real_corpus[concept][index][token_index]\n",
    "                \n",
    "                if token == wsi_corpus[concept][index][token_index]:\n",
    "                    right_previsions += 1\n",
    "                    \n",
    "                total += 1\n",
    "    accuracy = right_previsions / total\n",
    "\n",
    "    return accuracy"
   ]
  },
  {
   "cell_type": "code",
   "execution_count": 159,
   "metadata": {},
   "outputs": [],
   "source": [
    "# Main\n",
    "input_corpus = substitute_pseudo_words(data_extraction())[0]\n",
    "\n",
    "scores = substitute_pseudo_words(data_extraction('dataset/db.csv'), data_extraction())[1]\n",
    "\n",
    "pseudo_words = generate_pseudo_words(data_extraction('dataset/db.csv'))[1]\n",
    "\n",
    "wsi_corpus = wsi2(input_corpus, scores, pseudo_words)\n",
    "\n",
    "accuracy = eval(wsi_corpus, data_extraction())"
   ]
  },
  {
   "cell_type": "code",
   "execution_count": 160,
   "metadata": {},
   "outputs": [
    {
     "name": "stdout",
     "output_type": "stream",
     "text": [
      "0.77\n"
     ]
    }
   ],
   "source": [
    "print(round(accuracy, 2))"
   ]
  }
 ],
 "metadata": {
  "interpreter": {
   "hash": "e7370f93d1d0cde622a1f8e1c04877d8463912d04d973331ad4851f04de6915a"
  },
  "kernelspec": {
   "display_name": "Python 3.9.7 64-bit",
   "name": "python3"
  },
  "language_info": {
   "codemirror_mode": {
    "name": "ipython",
    "version": 3
   },
   "file_extension": ".py",
   "mimetype": "text/x-python",
   "name": "python",
   "nbconvert_exporter": "python",
   "pygments_lexer": "ipython3",
   "version": "3.9.7"
  }
 },
 "nbformat": 4,
 "nbformat_minor": 5
}
